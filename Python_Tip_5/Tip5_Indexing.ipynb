{
 "cells": [
  {
   "cell_type": "markdown",
   "id": "ae55c864-4d54-46c7-93f0-d31a086b9717",
   "metadata": {},
   "source": [
    "<h1 class=\"title\">Python Tips<br>#5 Indexing</h1>\n",
    "<br>\n",
    "<center>Michael Siebel</center>\n",
    "<br>"
   ]
  },
  {
   "cell_type": "code",
   "execution_count": 1,
   "id": "f40b2252-98d1-4800-b699-5ad94f8fb862",
   "metadata": {},
   "outputs": [
    {
     "data": {
      "application/javascript": [
       "document.body.dispatchEvent(new KeyboardEvent('keydown', {key:'s', keyCode: 83, ctrlKey: true}))"
      ],
      "text/plain": [
       "<IPython.core.display.Javascript object>"
      ]
     },
     "metadata": {},
     "output_type": "display_data"
    },
    {
     "data": {
      "application/javascript": [
       "function toggler(){\n",
       "    if(window.already_toggling){\n",
       "        // Don't add multiple buttons.\n",
       "        return 0\n",
       "    }\n",
       "    let btn = $('div.input > div.inner_cell').append('<button>Show/Hide Code</button>')\n",
       "        .children('button');\n",
       "    btn.on('click', function(e){\n",
       "        let tgt = e.currentTarget;\n",
       "        $(tgt).parent().children('div.input > div.inner_cell > div.input_area').toggle()\n",
       "    })\n",
       "    window.already_toggling = true;\n",
       "}\n",
       "// Since javascript cells are executed as soon as we load\n",
       "// the notebook (if it's trusted), and this cell might be at the\n",
       "// top of the notebook (so is executed first), we need to\n",
       "// allow time for all of the other code cells to load before\n",
       "// running. Let's give it 1 second.\n",
       "\n",
       "setTimeout(toggler, 1000);\n"
      ],
      "text/plain": [
       "<IPython.core.display.Javascript object>"
      ]
     },
     "metadata": {},
     "output_type": "display_data"
    },
    {
     "data": {
      "text/html": [
       "<style>\n",
       "h1.title {\n",
       "    text-align: center;\n",
       "    font-size: 2.25em;\n",
       "    font-weight: bold;\n",
       "    font-family: 'Montserrat', sans-serif !important;\n",
       "    margin-top: 1.5em !important; \n",
       "}\n",
       "</style>\n"
      ],
      "text/plain": [
       "<IPython.core.display.HTML object>"
      ]
     },
     "metadata": {},
     "output_type": "display_data"
    },
    {
     "data": {
      "text/html": [
       "<style>\n",
       "div.cell:nth-of-type(2) {\n",
       "    display: none !important;\n",
       "}\n",
       "</style>\n"
      ],
      "text/plain": [
       "<IPython.core.display.HTML object>"
      ]
     },
     "metadata": {},
     "output_type": "display_data"
    }
   ],
   "source": [
    "# Remove warnings\n",
    "import warnings\n",
    "warnings.filterwarnings('ignore')\n",
    "\n",
    "%run ../HTML_Functions.ipynb "
   ]
  },
  {
   "cell_type": "markdown",
   "id": "00fd631f-2909-4419-a2c8-37f53ccdbcec",
   "metadata": {},
   "source": [
    "When it comes to data wrangling, perhaps the key distinction between different software is how they index data frames.  In Python (using Pandas), every data frame has to have at least one index.  An index is a row that contains values to help users identify a row.  Just like columns have names, rows need to have names (although these \"names\" can and often are integers).\n",
    "\n",
    "This is similar to SQL where every table has a Primary Key.  In contrast, Stata does not use an index, but demands users sort on a column that will be used for merging data.  R has no index and does not require its data to be sorted at all."
   ]
  },
  {
   "cell_type": "markdown",
   "id": "530e56f2-1d39-47c1-bef4-e853986c67a5",
   "metadata": {},
   "source": [
    "# Load Data\n",
    "\n",
    "To start, let's important our data:"
   ]
  },
  {
   "cell_type": "code",
   "execution_count": 2,
   "id": "16dd12bf-9fcc-4068-af43-fa9f08373d0c",
   "metadata": {},
   "outputs": [
    {
     "data": {
      "text/html": [
       "<div>\n",
       "<style scoped>\n",
       "    .dataframe tbody tr th:only-of-type {\n",
       "        vertical-align: middle;\n",
       "    }\n",
       "\n",
       "    .dataframe tbody tr th {\n",
       "        vertical-align: top;\n",
       "    }\n",
       "\n",
       "    .dataframe thead th {\n",
       "        text-align: right;\n",
       "    }\n",
       "</style>\n",
       "<table border=\"1\" class=\"dataframe\">\n",
       "  <thead>\n",
       "    <tr style=\"text-align: right;\">\n",
       "      <th></th>\n",
       "      <th>Sepal Length</th>\n",
       "      <th>Sepal Width</th>\n",
       "      <th>Petal Length</th>\n",
       "      <th>Petal Width</th>\n",
       "    </tr>\n",
       "  </thead>\n",
       "  <tbody>\n",
       "    <tr>\n",
       "      <th>0</th>\n",
       "      <td>5.1</td>\n",
       "      <td>3.5</td>\n",
       "      <td>1.4</td>\n",
       "      <td>0.2</td>\n",
       "    </tr>\n",
       "    <tr>\n",
       "      <th>1</th>\n",
       "      <td>4.9</td>\n",
       "      <td>3.0</td>\n",
       "      <td>1.4</td>\n",
       "      <td>0.2</td>\n",
       "    </tr>\n",
       "    <tr>\n",
       "      <th>2</th>\n",
       "      <td>4.7</td>\n",
       "      <td>3.2</td>\n",
       "      <td>1.3</td>\n",
       "      <td>0.2</td>\n",
       "    </tr>\n",
       "    <tr>\n",
       "      <th>3</th>\n",
       "      <td>4.6</td>\n",
       "      <td>3.1</td>\n",
       "      <td>1.5</td>\n",
       "      <td>0.2</td>\n",
       "    </tr>\n",
       "    <tr>\n",
       "      <th>4</th>\n",
       "      <td>5.0</td>\n",
       "      <td>3.6</td>\n",
       "      <td>1.4</td>\n",
       "      <td>0.2</td>\n",
       "    </tr>\n",
       "  </tbody>\n",
       "</table>\n",
       "</div>"
      ],
      "text/plain": [
       "   Sepal Length  Sepal Width  Petal Length  Petal Width\n",
       "0           5.1          3.5           1.4          0.2\n",
       "1           4.9          3.0           1.4          0.2\n",
       "2           4.7          3.2           1.3          0.2\n",
       "3           4.6          3.1           1.5          0.2\n",
       "4           5.0          3.6           1.4          0.2"
      ]
     },
     "metadata": {},
     "output_type": "display_data"
    }
   ],
   "source": [
    "# Load Libraries\n",
    "## Main Data Wrangling Library\n",
    "import pandas as pd\n",
    "## Practice data\n",
    "from sklearn import datasets\n",
    "\n",
    "# Load IRIS data and c\n",
    "X, y = datasets.load_iris(return_X_y=True, as_frame=True)\n",
    "## Add column names\n",
    "X.columns = [\"Sepal Length\", \"Sepal Width\", \"Petal Length\", \"Petal Width\"]\n",
    "\n",
    "# Preview first 5 rows of data\n",
    "display(X.head())"
   ]
  },
  {
   "cell_type": "markdown",
   "id": "6c30a949-2b17-432b-a3bc-eeafa37ced37",
   "metadata": {},
   "source": [
    "Because we have not defined an index, Pandas defaults to using integers.  In the output above, the index ranges from 0-4.  While R, Stata, SAS, and SPSS count from 1, Python counts from 0--which is also true of other general purpose programming languages such as C and Java."
   ]
  },
  {
   "cell_type": "markdown",
   "id": "9f91ee00-b6f6-4341-9654-1a4e6513a6bb",
   "metadata": {},
   "source": [
    "# Droping a Row\n",
    "\n",
    "If we drop the second row, the index will skip the value of the missing row."
   ]
  },
  {
   "cell_type": "code",
   "execution_count": 3,
   "id": "2323f5ee-3bc7-4f97-8f94-93657b56b667",
   "metadata": {},
   "outputs": [
    {
     "data": {
      "text/html": [
       "<div>\n",
       "<style scoped>\n",
       "    .dataframe tbody tr th:only-of-type {\n",
       "        vertical-align: middle;\n",
       "    }\n",
       "\n",
       "    .dataframe tbody tr th {\n",
       "        vertical-align: top;\n",
       "    }\n",
       "\n",
       "    .dataframe thead th {\n",
       "        text-align: right;\n",
       "    }\n",
       "</style>\n",
       "<table border=\"1\" class=\"dataframe\">\n",
       "  <thead>\n",
       "    <tr style=\"text-align: right;\">\n",
       "      <th></th>\n",
       "      <th>Sepal Length</th>\n",
       "      <th>Sepal Width</th>\n",
       "      <th>Petal Length</th>\n",
       "      <th>Petal Width</th>\n",
       "    </tr>\n",
       "  </thead>\n",
       "  <tbody>\n",
       "    <tr>\n",
       "      <th>0</th>\n",
       "      <td>5.1</td>\n",
       "      <td>3.5</td>\n",
       "      <td>1.4</td>\n",
       "      <td>0.2</td>\n",
       "    </tr>\n",
       "    <tr>\n",
       "      <th>2</th>\n",
       "      <td>4.7</td>\n",
       "      <td>3.2</td>\n",
       "      <td>1.3</td>\n",
       "      <td>0.2</td>\n",
       "    </tr>\n",
       "    <tr>\n",
       "      <th>3</th>\n",
       "      <td>4.6</td>\n",
       "      <td>3.1</td>\n",
       "      <td>1.5</td>\n",
       "      <td>0.2</td>\n",
       "    </tr>\n",
       "    <tr>\n",
       "      <th>4</th>\n",
       "      <td>5.0</td>\n",
       "      <td>3.6</td>\n",
       "      <td>1.4</td>\n",
       "      <td>0.2</td>\n",
       "    </tr>\n",
       "    <tr>\n",
       "      <th>5</th>\n",
       "      <td>5.4</td>\n",
       "      <td>3.9</td>\n",
       "      <td>1.7</td>\n",
       "      <td>0.4</td>\n",
       "    </tr>\n",
       "  </tbody>\n",
       "</table>\n",
       "</div>"
      ],
      "text/plain": [
       "   Sepal Length  Sepal Width  Petal Length  Petal Width\n",
       "0           5.1          3.5           1.4          0.2\n",
       "2           4.7          3.2           1.3          0.2\n",
       "3           4.6          3.1           1.5          0.2\n",
       "4           5.0          3.6           1.4          0.2\n",
       "5           5.4          3.9           1.7          0.4"
      ]
     },
     "metadata": {},
     "output_type": "display_data"
    }
   ],
   "source": [
    "X = X.drop(1, axis=0)\n",
    "display(X.head())"
   ]
  },
  {
   "cell_type": "markdown",
   "id": "bbf9e26a-8d4f-481f-9627-5964fdd512be",
   "metadata": {},
   "source": [
    "The second row, with value 1, is now missing from the output.  This shows that the index is \"fixed\": it will not rename the rows 0-4."
   ]
  },
  {
   "cell_type": "markdown",
   "id": "3f34afba-0a12-42a5-9ebb-c679eb331bf4",
   "metadata": {},
   "source": [
    "# Selecting a Row\n",
    "\n",
    "Pandas uses loc[] (location) and iloc[] (index location) to select data.  loc[] uses row and column names; iloc[] uses row and column numbers.  Right now, the second row is named 2.  If we use loc[] with a value of 2 for the row name and a colon to select all columns we get:"
   ]
  },
  {
   "cell_type": "code",
   "execution_count": 4,
   "id": "38c1e42b-5c76-40e4-8602-71de8973c0ab",
   "metadata": {},
   "outputs": [
    {
     "data": {
      "text/plain": [
       "Sepal Length    4.7\n",
       "Sepal Width     3.2\n",
       "Petal Length    1.3\n",
       "Petal Width     0.2\n",
       "Name: 2, dtype: float64"
      ]
     },
     "execution_count": 4,
     "metadata": {},
     "output_type": "execute_result"
    }
   ],
   "source": [
    "X.loc[2, :]"
   ]
  },
  {
   "cell_type": "markdown",
   "id": "12150553-8544-4244-a339-147cd220a846",
   "metadata": {},
   "source": [
    "If we use iloc with the same value of 2, it will select a different row--the third row.  Why?  iloc[] is looking for the row number and not the row name and so iloc[] will see row 1 as 0, row 2 as 1, and row 3 as 2:"
   ]
  },
  {
   "cell_type": "code",
   "execution_count": 5,
   "id": "6999372b-8913-43ec-9646-ace25a91092e",
   "metadata": {},
   "outputs": [
    {
     "data": {
      "text/plain": [
       "Sepal Length    4.6\n",
       "Sepal Width     3.1\n",
       "Petal Length    1.5\n",
       "Petal Width     0.2\n",
       "Name: 3, dtype: float64"
      ]
     },
     "execution_count": 5,
     "metadata": {},
     "output_type": "execute_result"
    }
   ],
   "source": [
    "X.iloc[2, :]"
   ]
  },
  {
   "cell_type": "markdown",
   "id": "753bcbd2-241f-4b95-9596-5a42cc87a79c",
   "metadata": {},
   "source": [
    "In other words, before dropping row 2 (named row 1 because we start counting at 0), loc[2, :] would have produced the same output as the name did not change.  iloc[2, :] changed after the drop because the row count changed."
   ]
  },
  {
   "cell_type": "markdown",
   "id": "dff25924-1bd1-40b9-a8bd-b8e44e31df57",
   "metadata": {},
   "source": [
    "# Named Index\n",
    "\n",
    "Let's say we want to name each row starting on 1 instead of 0 and ignore the dropped row.  This loop creates a string with the base Python function str() with each row's name."
   ]
  },
  {
   "cell_type": "code",
   "execution_count": 6,
   "id": "5d3269d8-40cb-411b-925b-23088383b873",
   "metadata": {},
   "outputs": [
    {
     "data": {
      "text/html": [
       "<div>\n",
       "<style scoped>\n",
       "    .dataframe tbody tr th:only-of-type {\n",
       "        vertical-align: middle;\n",
       "    }\n",
       "\n",
       "    .dataframe tbody tr th {\n",
       "        vertical-align: top;\n",
       "    }\n",
       "\n",
       "    .dataframe thead th {\n",
       "        text-align: right;\n",
       "    }\n",
       "</style>\n",
       "<table border=\"1\" class=\"dataframe\">\n",
       "  <thead>\n",
       "    <tr style=\"text-align: right;\">\n",
       "      <th></th>\n",
       "      <th>Sepal Length</th>\n",
       "      <th>Sepal Width</th>\n",
       "      <th>Petal Length</th>\n",
       "      <th>Petal Width</th>\n",
       "    </tr>\n",
       "    <tr>\n",
       "      <th>Index</th>\n",
       "      <th></th>\n",
       "      <th></th>\n",
       "      <th></th>\n",
       "      <th></th>\n",
       "    </tr>\n",
       "  </thead>\n",
       "  <tbody>\n",
       "    <tr>\n",
       "      <th>Row: 1</th>\n",
       "      <td>5.1</td>\n",
       "      <td>3.5</td>\n",
       "      <td>1.4</td>\n",
       "      <td>0.2</td>\n",
       "    </tr>\n",
       "    <tr>\n",
       "      <th>Row: 2</th>\n",
       "      <td>4.7</td>\n",
       "      <td>3.2</td>\n",
       "      <td>1.3</td>\n",
       "      <td>0.2</td>\n",
       "    </tr>\n",
       "    <tr>\n",
       "      <th>Row: 3</th>\n",
       "      <td>4.6</td>\n",
       "      <td>3.1</td>\n",
       "      <td>1.5</td>\n",
       "      <td>0.2</td>\n",
       "    </tr>\n",
       "    <tr>\n",
       "      <th>Row: 4</th>\n",
       "      <td>5.0</td>\n",
       "      <td>3.6</td>\n",
       "      <td>1.4</td>\n",
       "      <td>0.2</td>\n",
       "    </tr>\n",
       "    <tr>\n",
       "      <th>Row: 5</th>\n",
       "      <td>5.4</td>\n",
       "      <td>3.9</td>\n",
       "      <td>1.7</td>\n",
       "      <td>0.4</td>\n",
       "    </tr>\n",
       "  </tbody>\n",
       "</table>\n",
       "</div>"
      ],
      "text/plain": [
       "        Sepal Length  Sepal Width  Petal Length  Petal Width\n",
       "Index                                                       \n",
       "Row: 1           5.1          3.5           1.4          0.2\n",
       "Row: 2           4.7          3.2           1.3          0.2\n",
       "Row: 3           4.6          3.1           1.5          0.2\n",
       "Row: 4           5.0          3.6           1.4          0.2\n",
       "Row: 5           5.4          3.9           1.7          0.4"
      ]
     },
     "metadata": {},
     "output_type": "display_data"
    }
   ],
   "source": [
    "# Create a column named 'Index'\n",
    "X.loc[:, 'Index'] = 0\n",
    "# Loop through each row of index and add a row name\n",
    "for i in range(0, 149):\n",
    "    X.iloc[i, 4] = str(\"Row: \" + str(i+1))\n",
    "    \n",
    "# Set our new column as the index\n",
    "X = X.set_index('Index')\n",
    "    \n",
    "display(X.head())"
   ]
  },
  {
   "cell_type": "code",
   "execution_count": 7,
   "id": "0ddffd15-21bd-43c4-8436-609321f4d85c",
   "metadata": {},
   "outputs": [
    {
     "data": {
      "text/plain": [
       "Sepal Length    4.7\n",
       "Sepal Width     3.2\n",
       "Petal Length    1.3\n",
       "Petal Width     0.2\n",
       "Name: Row: 2, dtype: float64"
      ]
     },
     "execution_count": 7,
     "metadata": {},
     "output_type": "execute_result"
    }
   ],
   "source": [
    "X.loc[\"Row: 2\", :]"
   ]
  },
  {
   "cell_type": "markdown",
   "id": "4d1dc9ae-65bb-43a6-9a4b-0254e67759c8",
   "metadata": {},
   "source": [
    "# Reset Index\n",
    "\n",
    "Finally, if we want to reset the index, which will rename each row an integer value such as 0-4, we can use the function reset_index().  This will convert the current index into the first column.  To prevent this, we use the option drop=True."
   ]
  },
  {
   "cell_type": "code",
   "execution_count": 8,
   "id": "7032c825-a1d2-478f-ba93-df06f58d4c00",
   "metadata": {},
   "outputs": [
    {
     "data": {
      "text/html": [
       "<div>\n",
       "<style scoped>\n",
       "    .dataframe tbody tr th:only-of-type {\n",
       "        vertical-align: middle;\n",
       "    }\n",
       "\n",
       "    .dataframe tbody tr th {\n",
       "        vertical-align: top;\n",
       "    }\n",
       "\n",
       "    .dataframe thead th {\n",
       "        text-align: right;\n",
       "    }\n",
       "</style>\n",
       "<table border=\"1\" class=\"dataframe\">\n",
       "  <thead>\n",
       "    <tr style=\"text-align: right;\">\n",
       "      <th></th>\n",
       "      <th>Sepal Length</th>\n",
       "      <th>Sepal Width</th>\n",
       "      <th>Petal Length</th>\n",
       "      <th>Petal Width</th>\n",
       "    </tr>\n",
       "  </thead>\n",
       "  <tbody>\n",
       "    <tr>\n",
       "      <th>0</th>\n",
       "      <td>5.1</td>\n",
       "      <td>3.5</td>\n",
       "      <td>1.4</td>\n",
       "      <td>0.2</td>\n",
       "    </tr>\n",
       "    <tr>\n",
       "      <th>1</th>\n",
       "      <td>4.7</td>\n",
       "      <td>3.2</td>\n",
       "      <td>1.3</td>\n",
       "      <td>0.2</td>\n",
       "    </tr>\n",
       "    <tr>\n",
       "      <th>2</th>\n",
       "      <td>4.6</td>\n",
       "      <td>3.1</td>\n",
       "      <td>1.5</td>\n",
       "      <td>0.2</td>\n",
       "    </tr>\n",
       "    <tr>\n",
       "      <th>3</th>\n",
       "      <td>5.0</td>\n",
       "      <td>3.6</td>\n",
       "      <td>1.4</td>\n",
       "      <td>0.2</td>\n",
       "    </tr>\n",
       "    <tr>\n",
       "      <th>4</th>\n",
       "      <td>5.4</td>\n",
       "      <td>3.9</td>\n",
       "      <td>1.7</td>\n",
       "      <td>0.4</td>\n",
       "    </tr>\n",
       "  </tbody>\n",
       "</table>\n",
       "</div>"
      ],
      "text/plain": [
       "   Sepal Length  Sepal Width  Petal Length  Petal Width\n",
       "0           5.1          3.5           1.4          0.2\n",
       "1           4.7          3.2           1.3          0.2\n",
       "2           4.6          3.1           1.5          0.2\n",
       "3           5.0          3.6           1.4          0.2\n",
       "4           5.4          3.9           1.7          0.4"
      ]
     },
     "metadata": {},
     "output_type": "display_data"
    }
   ],
   "source": [
    "X = X.reset_index(drop=True)\n",
    "display(X.head())"
   ]
  },
  {
   "cell_type": "markdown",
   "id": "bd5b6825-7581-4208-9d59-ab4bb9360905",
   "metadata": {},
   "source": [
    "# Conclusion\n",
    "\n",
    "Indexing can be annoying if you are coming from R as it prevents not index based merges such as the rbind() and cbind() equivalents in Python.  It can be valuable when you get into machine learning as it enables you to create K-Folds for cross validation and then resemble these K-Folds into the original dataset more easily."
   ]
  },
  {
   "cell_type": "markdown",
   "id": "0e1c4739-8bf7-46ed-b51a-873331c8a20c",
   "metadata": {},
   "source": [
    "# Save Log"
   ]
  },
  {
   "cell_type": "code",
   "execution_count": 9,
   "id": "954ae058-4de3-459a-87e7-1565b9db879e",
   "metadata": {},
   "outputs": [
    {
     "data": {
      "application/javascript": [
       "document.body.dispatchEvent(new KeyboardEvent('keydown', {key:'s', keyCode: 83, ctrlKey: true}))"
      ],
      "text/plain": [
       "<IPython.core.display.Javascript object>"
      ]
     },
     "metadata": {},
     "output_type": "display_data"
    },
    {
     "name": "stderr",
     "output_type": "stream",
     "text": [
      "[NbConvertApp] Converting notebook Tip5_Indexing.ipynb to html_toc\n",
      "[NbConvertApp] Writing 378142 bytes to Tip5_Indexing.html\n"
     ]
    }
   ],
   "source": [
    "from IPython.display import display, Javascript\n",
    "\n",
    "display(Javascript(\n",
    "    \"document.body.dispatchEvent(\"\n",
    "    \"new KeyboardEvent('keydown', {key:'s', keyCode: 83, ctrlKey: true}\"\n",
    "    \"))\"\n",
    "))\n",
    "\n",
    "!jupyter nbconvert --to html_toc \"Tip5_Indexing.ipynb\"  --ExtractOutputPreprocessor.enabled=False --CSSHTMLHeaderPreprocessor.style=stata-dark "
   ]
  }
 ],
 "metadata": {
  "kernelspec": {
   "display_name": "Python 3 (ipykernel)",
   "language": "python",
   "name": "python3"
  },
  "language_info": {
   "codemirror_mode": {
    "name": "ipython",
    "version": 3
   },
   "file_extension": ".py",
   "mimetype": "text/x-python",
   "name": "python",
   "nbconvert_exporter": "python",
   "pygments_lexer": "ipython3",
   "version": "3.9.12"
  }
 },
 "nbformat": 4,
 "nbformat_minor": 5
}
