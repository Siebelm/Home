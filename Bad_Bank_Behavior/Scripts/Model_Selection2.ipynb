{
 "cells": [
  {
   "cell_type": "markdown",
   "metadata": {},
   "source": [
    "# <center>Bad Bank Behavior<br>Analyzing Bank Mortgage during the 2007 Housing Bubble</center>  \n",
    "\n",
    "<center>Michael Siebel</center>\n",
    "<center>August 2020</center>\n",
    "<br>\n",
    "\n",
    "## <center>Model Selection Script</center>"
   ]
  },
  {
   "cell_type": "markdown",
   "metadata": {},
   "source": [
    "# Purpose  \n",
    "<br>\n",
    "\n",
    "> Runs a relative importance analysis called permutation importance to determine the most important features in each of the algorithms that will be modelled subsequently.  Features with low importance may be subject for removal from the model selection.\n",
    "\n",
    "> The permutation importance of a feature is calculated as follows. First, a baseline metric, defined by scoring, is evaluated on a (potentially different) dataset defined by the X. Next, a feature column from the validation set is permuted and the metric is evaluated again. The permutation importance is defined to be the difference between the baseline metric and metric from permutating the feature column."
   ]
  },
  {
   "cell_type": "markdown",
   "metadata": {},
   "source": [
    "***"
   ]
  },
  {
   "cell_type": "markdown",
   "metadata": {},
   "source": [
    "# Load Functions"
   ]
  },
  {
   "cell_type": "code",
   "execution_count": 1,
   "metadata": {},
   "outputs": [],
   "source": [
    "%run Functions.ipynb\n",
    "pd.set_option(\"display.max_columns\", 200)\n",
    "pd.set_option('display.max_rows', 200)\n",
    "\n",
    "file_to_open = open('..\\Data\\df.pkl', 'rb') \n",
    "df  = pickle.load(file_to_open) \n",
    "file_to_open.close()\n",
    "\n",
    "# Drop mergeID column\n",
    "df = df.drop(labels='Loan ID', axis=1)\n",
    "\n",
    "# Convert Inf values to NA\n",
    "df = df.replace([np.inf, -np.inf], np.nan)"
   ]
  },
  {
   "cell_type": "markdown",
   "metadata": {},
   "source": [
    "***"
   ]
  },
  {
   "cell_type": "markdown",
   "metadata": {},
   "source": [
    "# Set Up Data"
   ]
  },
  {
   "cell_type": "code",
   "execution_count": 2,
   "metadata": {},
   "outputs": [
    {
     "name": "stdout",
     "output_type": "stream",
     "text": [
      "Shape:\n",
      " (3789014, 56)\n",
      "\n",
      "Columns:\n",
      " Index(['Origination Channel', 'Bank', 'Original Interest Rate',\n",
      "       'Original Mortgage Amount', 'Original Loan Term', 'Original Date',\n",
      "       'Original Combined Loan-to-Value (CLTV)', 'Single Borrower',\n",
      "       'Original Debt to Income Ratio', 'First Time Home Buyer',\n",
      "       'Loan Purpose', 'Property Type', 'Occupancy Type', 'Property State',\n",
      "       'Zip Code', 'Mortgage Insurance %', 'Mortgage Insurance Type',\n",
      "       'File Year', 'File Quarter', 'Foreclosed', 'Month', 'Year',\n",
      "       'Harmonized Credit Score', 'Loan Change (1 Year)',\n",
      "       'Loan Change (5 Years)', 'Median Household Income', 'Region',\n",
      "       'Household Financial Obligations (Qtr)',\n",
      "       'Household Financial Obligations (Yr)',\n",
      "       'Consumer Debt Service Payment (Qtr)',\n",
      "       'Consumer Debt Service Payment (Yr)', 'National Home Price Index (Qtr)',\n",
      "       'National Home Price Index (Yr)',\n",
      "       'Mortgage Debt Service Payments (Qtr)',\n",
      "       'Mortgage Debt Service Payments (Yr)', 'Monthly Supply of Houses (Qtr)',\n",
      "       'Monthly Supply of Houses (Yr)', 'Vacant Housing Units for Sale (Qtr)',\n",
      "       'Vacant Housing Units for Sale (Yr)', 'Homeownership Rate (Qtr)',\n",
      "       'Homeownership Rate (Yr)', 'Vacant Housing Units for Rent (Qtr)',\n",
      "       'Vacant Housing Units for Rent (Yr)', 'Rental Vacancy Rate (Qtr)',\n",
      "       'Rental Vacancy Rate (Yr)', 'numemp', 'asset (5 Yr)', 'asset (1 Yr)',\n",
      "       'lnlsnet (5 Yr)', 'lnlsnet (1 Yr)', 'liab (5 Yr)', 'liab (1 Yr)',\n",
      "       'dep (5 Yr)', 'dep (1 Yr)', 'eqtot (5 Yr)', 'eqtot (1 Yr)'],\n",
      "      dtype='object')\n"
     ]
    }
   ],
   "source": [
    "print('Shape:\\n', df.shape)\n",
    "print('\\nColumns:\\n', df.columns)"
   ]
  },
  {
   "cell_type": "code",
   "execution_count": 3,
   "metadata": {},
   "outputs": [
    {
     "data": {
      "text/plain": [
       "BANK OF AMERICA, N.A.                        975374\n",
       "OTHER                                        838987\n",
       "CITIMORTGAGE, INC.                           401156\n",
       "SMALL LOAN BANKS                             367310\n",
       "GMAC MORTGAGE                                262019\n",
       "JPMORGAN CHASE BANK, NATIONAL ASSOCIATION    257610\n",
       "SUNTRUST MORTGAGE INC.                       195171\n",
       "FLAGSTAR CAPITAL MARKETS CORPORATION         125532\n",
       "AMTRUST BANK                                 119659\n",
       "FIRST TENNESSEE BANK NATIONAL ASSOCIATION     97673\n",
       "PNC BANK, N.A.                                94593\n",
       "CHASE HOME FINANCE                            43964\n",
       "FDIC, RECEIVER, INDYMAC FEDERAL BANK FSB       9966\n",
       "Name: Bank, dtype: int64"
      ]
     },
     "execution_count": 3,
     "metadata": {},
     "output_type": "execute_result"
    }
   ],
   "source": [
    "# Banks\n",
    "df['Bank'].value_counts()"
   ]
  },
  {
   "cell_type": "code",
   "execution_count": 4,
   "metadata": {},
   "outputs": [
    {
     "data": {
      "text/plain": [
       "BANK OF AMERICA, N.A.                        975374\n",
       "CITIMORTGAGE, INC.                           401156\n",
       "GMAC MORTGAGE                                262019\n",
       "JPMORGAN CHASE BANK, NATIONAL ASSOCIATION    257610\n",
       "SUNTRUST MORTGAGE INC.                       195171\n",
       "FLAGSTAR CAPITAL MARKETS CORPORATION         125532\n",
       "AMTRUST BANK                                 119659\n",
       "FIRST TENNESSEE BANK NATIONAL ASSOCIATION     97673\n",
       "PNC BANK, N.A.                                94593\n",
       "CHASE HOME FINANCE                            43964\n",
       "FDIC, RECEIVER, INDYMAC FEDERAL BANK FSB       9966\n",
       "Name: Bank, dtype: int64"
      ]
     },
     "execution_count": 4,
     "metadata": {},
     "output_type": "execute_result"
    }
   ],
   "source": [
    "# Drop \"OTHER\"  and \"SMALL LOAN BANKS\" Categories\n",
    "df = df[df['Bank'] != 'OTHER']\n",
    "df = df[df['Bank'] != 'SMALL LOAN BANKS']\n",
    "df['Bank'].value_counts()"
   ]
  },
  {
   "cell_type": "code",
   "execution_count": 5,
   "metadata": {},
   "outputs": [
    {
     "data": {
      "text/html": [
       "<div>\n",
       "<style scoped>\n",
       "    .dataframe tbody tr th:only-of-type {\n",
       "        vertical-align: middle;\n",
       "    }\n",
       "\n",
       "    .dataframe tbody tr th {\n",
       "        vertical-align: top;\n",
       "    }\n",
       "\n",
       "    .dataframe thead th {\n",
       "        text-align: right;\n",
       "    }\n",
       "</style>\n",
       "<table border=\"1\" class=\"dataframe\">\n",
       "  <thead>\n",
       "    <tr style=\"text-align: right;\">\n",
       "      <th></th>\n",
       "      <th>Origination Channel</th>\n",
       "      <th>Bank</th>\n",
       "      <th>Original Date</th>\n",
       "      <th>First Time Home Buyer</th>\n",
       "      <th>Property Type</th>\n",
       "      <th>Occupancy Type</th>\n",
       "      <th>Property State</th>\n",
       "      <th>File Year</th>\n",
       "      <th>File Quarter</th>\n",
       "      <th>Month</th>\n",
       "      <th>Year</th>\n",
       "      <th>Region</th>\n",
       "    </tr>\n",
       "  </thead>\n",
       "  <tbody>\n",
       "    <tr>\n",
       "      <td>1456323</td>\n",
       "      <td>C</td>\n",
       "      <td>BANK OF AMERICA, N.A.</td>\n",
       "      <td>12/2005</td>\n",
       "      <td>N</td>\n",
       "      <td>PU</td>\n",
       "      <td>P</td>\n",
       "      <td>CO</td>\n",
       "      <td>2005</td>\n",
       "      <td>Q4</td>\n",
       "      <td>12</td>\n",
       "      <td>2005</td>\n",
       "      <td>West</td>\n",
       "    </tr>\n",
       "    <tr>\n",
       "      <td>1456324</td>\n",
       "      <td>R</td>\n",
       "      <td>BANK OF AMERICA, N.A.</td>\n",
       "      <td>12/2005</td>\n",
       "      <td>N</td>\n",
       "      <td>SF</td>\n",
       "      <td>P</td>\n",
       "      <td>KY</td>\n",
       "      <td>2005</td>\n",
       "      <td>Q4</td>\n",
       "      <td>12</td>\n",
       "      <td>2005</td>\n",
       "      <td>South</td>\n",
       "    </tr>\n",
       "    <tr>\n",
       "      <td>1456326</td>\n",
       "      <td>C</td>\n",
       "      <td>BANK OF AMERICA, N.A.</td>\n",
       "      <td>12/2005</td>\n",
       "      <td>N</td>\n",
       "      <td>SF</td>\n",
       "      <td>P</td>\n",
       "      <td>ME</td>\n",
       "      <td>2005</td>\n",
       "      <td>Q4</td>\n",
       "      <td>12</td>\n",
       "      <td>2005</td>\n",
       "      <td>Northeast</td>\n",
       "    </tr>\n",
       "    <tr>\n",
       "      <td>1456327</td>\n",
       "      <td>C</td>\n",
       "      <td>BANK OF AMERICA, N.A.</td>\n",
       "      <td>12/2005</td>\n",
       "      <td>N</td>\n",
       "      <td>SF</td>\n",
       "      <td>P</td>\n",
       "      <td>AR</td>\n",
       "      <td>2005</td>\n",
       "      <td>Q4</td>\n",
       "      <td>12</td>\n",
       "      <td>2005</td>\n",
       "      <td>South</td>\n",
       "    </tr>\n",
       "    <tr>\n",
       "      <td>1456328</td>\n",
       "      <td>C</td>\n",
       "      <td>FLAGSTAR CAPITAL MARKETS CORPORATION</td>\n",
       "      <td>12/2005</td>\n",
       "      <td>N</td>\n",
       "      <td>SF</td>\n",
       "      <td>P</td>\n",
       "      <td>CA</td>\n",
       "      <td>2005</td>\n",
       "      <td>Q4</td>\n",
       "      <td>12</td>\n",
       "      <td>2005</td>\n",
       "      <td>West</td>\n",
       "    </tr>\n",
       "  </tbody>\n",
       "</table>\n",
       "</div>"
      ],
      "text/plain": [
       "        Origination Channel                                  Bank  \\\n",
       "1456323                   C                 BANK OF AMERICA, N.A.   \n",
       "1456324                   R                 BANK OF AMERICA, N.A.   \n",
       "1456326                   C                 BANK OF AMERICA, N.A.   \n",
       "1456327                   C                 BANK OF AMERICA, N.A.   \n",
       "1456328                   C  FLAGSTAR CAPITAL MARKETS CORPORATION   \n",
       "\n",
       "        Original Date First Time Home Buyer Property Type Occupancy Type  \\\n",
       "1456323       12/2005                     N            PU              P   \n",
       "1456324       12/2005                     N            SF              P   \n",
       "1456326       12/2005                     N            SF              P   \n",
       "1456327       12/2005                     N            SF              P   \n",
       "1456328       12/2005                     N            SF              P   \n",
       "\n",
       "        Property State File Year File Quarter Month  Year     Region  \n",
       "1456323             CO      2005           Q4    12  2005       West  \n",
       "1456324             KY      2005           Q4    12  2005      South  \n",
       "1456326             ME      2005           Q4    12  2005  Northeast  \n",
       "1456327             AR      2005           Q4    12  2005      South  \n",
       "1456328             CA      2005           Q4    12  2005       West  "
      ]
     },
     "execution_count": 5,
     "metadata": {},
     "output_type": "execute_result"
    }
   ],
   "source": [
    "# Variables for One Hot encoding\n",
    "df_cat = df.select_dtypes(include=['object'])\n",
    "df_cat.tail()"
   ]
  },
  {
   "cell_type": "code",
   "execution_count": 6,
   "metadata": {},
   "outputs": [
    {
     "name": "stdout",
     "output_type": "stream",
     "text": [
      "Shape: (1180043, 116)\n"
     ]
    }
   ],
   "source": [
    "# Variables to drop\n",
    "dropvars = ['Original Date', 'File Year', 'File Quarter', 'Month', 'Year', 'Region',\n",
    "            'Zip Code', 'Mortgage Insurance Type']  # 'Property State', \n",
    "\n",
    "# All data\n",
    "df = df.drop(labels=dropvars, axis=1)\n",
    "df = df.dropna()\n",
    "All_y = df['Foreclosed']\n",
    "All_X = df.drop(labels='Foreclosed', axis=1) \n",
    "\n",
    "\n",
    "# Cut dataset in half for faster runtimes\n",
    "X_train, X_test, y_train, y_test = train_test_split(All_X, All_y, test_size = 0.5, \n",
    "                                                    stratify = All_y, random_state=2019)\n",
    "# X_keep, X_ignore, y_keep, y_ignore\n",
    "# X_train, X_test, y_train, y_test = train_test_split(X_keep, y_keep, test_size = 0.3, \n",
    "#                                                     stratify = y_keep, random_state=2019)\n",
    "\n",
    "# One hot encoding on remaining data\n",
    "X_train = onehotencoding(X_train)\n",
    "X_train = X_train.drop(labels=['First Time Home Buyer_U'], axis=1)\n",
    "X_test = onehotencoding(X_test)\n",
    "X_test = X_test.drop(labels=['First Time Home Buyer_U'], axis=1)\n",
    "\n",
    "# Save columns\n",
    "X_cols = X_train.columns\n",
    "\n",
    "print('Shape:', X_train.shape)"
   ]
  },
  {
   "cell_type": "markdown",
   "metadata": {},
   "source": [
    "***"
   ]
  },
  {
   "cell_type": "markdown",
   "metadata": {},
   "source": [
    "# Missingness"
   ]
  },
  {
   "cell_type": "code",
   "execution_count": 7,
   "metadata": {
    "scrolled": true
   },
   "outputs": [
    {
     "name": "stdout",
     "output_type": "stream",
     "text": [
      "Original Interest Rate                            0.0\n",
      "Original Mortgage Amount                          0.0\n",
      "Original Loan Term                                0.0\n",
      "Original Combined Loan-to-Value (CLTV)            0.0\n",
      "Single Borrower                                   0.0\n",
      "Original Debt to Income Ratio                     0.0\n",
      "Loan Purpose                                      0.0\n",
      "Mortgage Insurance %                              0.0\n",
      "Harmonized Credit Score                           0.0\n",
      "Loan Change (1 Year)                              0.0\n",
      "Loan Change (5 Years)                             0.0\n",
      "Median Household Income                           0.0\n",
      "Household Financial Obligations (Qtr)             0.0\n",
      "Household Financial Obligations (Yr)              0.0\n",
      "Consumer Debt Service Payment (Qtr)               0.0\n",
      "Consumer Debt Service Payment (Yr)                0.0\n",
      "National Home Price Index (Qtr)                   0.0\n",
      "National Home Price Index (Yr)                    0.0\n",
      "Mortgage Debt Service Payments (Qtr)              0.0\n",
      "Mortgage Debt Service Payments (Yr)               0.0\n",
      "Monthly Supply of Houses (Qtr)                    0.0\n",
      "Monthly Supply of Houses (Yr)                     0.0\n",
      "Vacant Housing Units for Sale (Qtr)               0.0\n",
      "Vacant Housing Units for Sale (Yr)                0.0\n",
      "Homeownership Rate (Qtr)                          0.0\n",
      "Homeownership Rate (Yr)                           0.0\n",
      "Vacant Housing Units for Rent (Qtr)               0.0\n",
      "Vacant Housing Units for Rent (Yr)                0.0\n",
      "Rental Vacancy Rate (Qtr)                         0.0\n",
      "Rental Vacancy Rate (Yr)                          0.0\n",
      "numemp                                            0.0\n",
      "asset (5 Yr)                                      0.0\n",
      "asset (1 Yr)                                      0.0\n",
      "lnlsnet (5 Yr)                                    0.0\n",
      "lnlsnet (1 Yr)                                    0.0\n",
      "liab (5 Yr)                                       0.0\n",
      "liab (1 Yr)                                       0.0\n",
      "dep (5 Yr)                                        0.0\n",
      "dep (1 Yr)                                        0.0\n",
      "eqtot (5 Yr)                                      0.0\n",
      "eqtot (1 Yr)                                      0.0\n",
      "Origination Channel_B                             0.0\n",
      "Origination Channel_C                             0.0\n",
      "Origination Channel_R                             0.0\n",
      "Bank_AMTRUST BANK                                 0.0\n",
      "Bank_BANK OF AMERICA, N.A.                        0.0\n",
      "Bank_CHASE HOME FINANCE                           0.0\n",
      "Bank_CITIMORTGAGE, INC.                           0.0\n",
      "Bank_FDIC, RECEIVER, INDYMAC FEDERAL BANK FSB     0.0\n",
      "Bank_FIRST TENNESSEE BANK NATIONAL ASSOCIATION    0.0\n",
      "Bank_FLAGSTAR CAPITAL MARKETS CORPORATION         0.0\n",
      "Bank_GMAC MORTGAGE                                0.0\n",
      "Bank_JPMORGAN CHASE BANK, NATIONAL ASSOCIATION    0.0\n",
      "Bank_PNC BANK, N.A.                               0.0\n",
      "Bank_SUNTRUST MORTGAGE INC.                       0.0\n",
      "First Time Home Buyer_N                           0.0\n",
      "First Time Home Buyer_Y                           0.0\n",
      "Property Type_CO                                  0.0\n",
      "Property Type_CP                                  0.0\n",
      "Property Type_MH                                  0.0\n",
      "Property Type_PU                                  0.0\n",
      "Property Type_SF                                  0.0\n",
      "Occupancy Type_I                                  0.0\n",
      "Occupancy Type_P                                  0.0\n",
      "Occupancy Type_S                                  0.0\n",
      "Property State_AK                                 0.0\n",
      "Property State_AL                                 0.0\n",
      "Property State_AR                                 0.0\n",
      "Property State_AZ                                 0.0\n",
      "Property State_CA                                 0.0\n",
      "Property State_CO                                 0.0\n",
      "Property State_CT                                 0.0\n",
      "Property State_DC                                 0.0\n",
      "Property State_DE                                 0.0\n",
      "Property State_FL                                 0.0\n",
      "Property State_GA                                 0.0\n",
      "Property State_HI                                 0.0\n",
      "Property State_IA                                 0.0\n",
      "Property State_ID                                 0.0\n",
      "Property State_IL                                 0.0\n",
      "Property State_IN                                 0.0\n",
      "Property State_KS                                 0.0\n",
      "Property State_KY                                 0.0\n",
      "Property State_LA                                 0.0\n",
      "Property State_MA                                 0.0\n",
      "Property State_MD                                 0.0\n",
      "Property State_ME                                 0.0\n",
      "Property State_MI                                 0.0\n",
      "Property State_MN                                 0.0\n",
      "Property State_MO                                 0.0\n",
      "Property State_MS                                 0.0\n",
      "Property State_MT                                 0.0\n",
      "Property State_NC                                 0.0\n",
      "Property State_ND                                 0.0\n",
      "Property State_NE                                 0.0\n",
      "Property State_NH                                 0.0\n",
      "Property State_NJ                                 0.0\n",
      "Property State_NM                                 0.0\n",
      "Property State_NV                                 0.0\n",
      "Property State_NY                                 0.0\n",
      "Property State_OH                                 0.0\n",
      "Property State_OK                                 0.0\n",
      "Property State_OR                                 0.0\n",
      "Property State_PA                                 0.0\n",
      "Property State_RI                                 0.0\n",
      "Property State_SC                                 0.0\n",
      "Property State_SD                                 0.0\n",
      "Property State_TN                                 0.0\n",
      "Property State_TX                                 0.0\n",
      "Property State_UT                                 0.0\n",
      "Property State_VA                                 0.0\n",
      "Property State_VT                                 0.0\n",
      "Property State_WA                                 0.0\n",
      "Property State_WI                                 0.0\n",
      "Property State_WV                                 0.0\n",
      "Property State_WY                                 0.0\n",
      "dtype: float64\n"
     ]
    }
   ],
   "source": [
    "# Missing\n",
    "print((X_train.isna().sum() / X_train.shape[0] * 100).round(2))"
   ]
  },
  {
   "cell_type": "code",
   "execution_count": 8,
   "metadata": {},
   "outputs": [
    {
     "data": {
      "text/plain": [
       "\"\\n# impute using KNN\\nimp_cols = ['numemp', 'asset (5 Yr)', 'asset (1 Yr)', 'lnlsnet (5 Yr)', \\n            'lnlsnet (1 Yr)', 'liab (5 Yr)', 'liab (1 Yr)', 'dep (5 Yr)', \\n            'dep (1 Yr)', 'eqtot (5 Yr)', 'eqtot (1 Yr)', \\n            'Original Combined Loan-to-Value (CLTV)', 'Original Debt to Income Ratio',\\n            'Harmonized Credit Score']\\nX_train = KNN_imputations(df_X=X_train, df_y=y_train, X_cols=imp_cols, n_neighbors=3)\\n\\n# Missing\\nX_train[imp_cols].isna().sum()\\n\""
      ]
     },
     "execution_count": 8,
     "metadata": {},
     "output_type": "execute_result"
    }
   ],
   "source": [
    "'''\n",
    "# impute using KNN\n",
    "imp_cols = ['numemp', 'asset (5 Yr)', 'asset (1 Yr)', 'lnlsnet (5 Yr)', \n",
    "            'lnlsnet (1 Yr)', 'liab (5 Yr)', 'liab (1 Yr)', 'dep (5 Yr)', \n",
    "            'dep (1 Yr)', 'eqtot (5 Yr)', 'eqtot (1 Yr)', \n",
    "            'Original Combined Loan-to-Value (CLTV)', 'Original Debt to Income Ratio',\n",
    "            'Harmonized Credit Score']\n",
    "X_train = KNN_imputations(df_X=X_train, df_y=y_train, X_cols=imp_cols, n_neighbors=3)\n",
    "\n",
    "# Missing\n",
    "X_train[imp_cols].isna().sum()\n",
    "'''"
   ]
  },
  {
   "cell_type": "code",
   "execution_count": 9,
   "metadata": {},
   "outputs": [],
   "source": [
    "def pca_fred(X_train=X_train, X_test=X_test, n_components=4):\n",
    "    # FRED Subset\n",
    "    columns = ['Household Financial Obligations (Qtr)', 'Household Financial Obligations (Yr)', \n",
    "         'Consumer Debt Service Payment (Qtr)', 'Consumer Debt Service Payment (Yr)',\n",
    "         'National Home Price Index (Qtr)', 'National Home Price Index (Yr)',\n",
    "         'Mortgage Debt Service Payments (Qtr)', 'Mortgage Debt Service Payments (Yr)',\n",
    "         'Monthly Supply of Houses (Qtr)', 'Monthly Supply of Houses (Yr)',\n",
    "         'Vacant Housing Units for Sale (Qtr)', 'Vacant Housing Units for Sale (Yr)',\n",
    "         'Homeownership Rate (Qtr)', 'Homeownership Rate (Yr)', 'Vacant Housing Units for Rent (Qtr)',\n",
    "         'Vacant Housing Units for Rent (Yr)', 'Rental Vacancy Rate (Qtr)', 'Rental Vacancy Rate (Yr)']\n",
    "    fred_train =  X_train[columns]\n",
    "    fred_test = X_test[columns]\n",
    "    \n",
    "    # Fit PCA\n",
    "    dimredu = PCA(n_components=n_components, random_state=2020).fit(fred_train)\n",
    "    fred_train = pd.DataFrame(dimredu.transform(fred_train), columns=['Macroeconomy PCA 1',\n",
    "                                                                      'Macroeconomy PCA 2',\n",
    "                                                                      'Macroeconomy PCA 3',\n",
    "                                                                      'Macroeconomy PCA 4'])\n",
    "    fred_test = pd.DataFrame(dimredu.transform(fred_test), columns=['Macroeconomy PCA 1',\n",
    "                                                                    'Macroeconomy PCA 2',\n",
    "                                                                    'Macroeconomy PCA 3',\n",
    "                                                                    'Macroeconomy PCA 4'])\n",
    "    \n",
    "    # Subsitute PCA columns\n",
    "    X_train = X_train.drop(labels=columns, axis=1)\n",
    "    X_train = pd.concat([X_train, fred_train], axis=1)\n",
    "    X_test = X_test.drop(labels=columns, axis=1)\n",
    "    X_test = pd.concat([X_test, fred_test], axis=1)\n",
    "    \n",
    "    return X_train, X_test"
   ]
  },
  {
   "cell_type": "code",
   "execution_count": 10,
   "metadata": {},
   "outputs": [
    {
     "data": {
      "text/plain": [
       "Index(['Original Interest Rate', 'Original Mortgage Amount',\n",
       "       'Original Loan Term', 'Original Combined Loan-to-Value (CLTV)',\n",
       "       'Single Borrower', 'Original Debt to Income Ratio', 'Loan Purpose',\n",
       "       'Mortgage Insurance %', 'Harmonized Credit Score',\n",
       "       'Loan Change (1 Year)',\n",
       "       ...\n",
       "       'Property State_VA', 'Property State_VT', 'Property State_WA',\n",
       "       'Property State_WI', 'Property State_WV', 'Property State_WY',\n",
       "       'Macroeconomy PCA 1', 'Macroeconomy PCA 2', 'Macroeconomy PCA 3',\n",
       "       'Macroeconomy PCA 4'],\n",
       "      dtype='object', length=102)"
      ]
     },
     "execution_count": 10,
     "metadata": {},
     "output_type": "execute_result"
    }
   ],
   "source": [
    "# Update Macroeconomic variables (will not use test set)\n",
    "from sklearn.decomposition import PCA\n",
    "X_train, X_test = pca_fred(X_train, X_test, n_components=4)\n",
    "\n",
    "# Save columns\n",
    "X_cols = X_train.columns\n",
    "X_cols"
   ]
  },
  {
   "cell_type": "markdown",
   "metadata": {},
   "source": [
    "***"
   ]
  },
  {
   "cell_type": "markdown",
   "metadata": {},
   "source": [
    "# Check for Multicolinearity"
   ]
  },
  {
   "cell_type": "code",
   "execution_count": 11,
   "metadata": {},
   "outputs": [
    {
     "name": "stdout",
     "output_type": "stream",
     "text": [
      "Number of final columns: 83\n"
     ]
    }
   ],
   "source": [
    "# Remove multicolinear columns\n",
    "X_train = X_train.filter(regex=r'^(?!asset).*$')\n",
    "X_train = X_train.filter(regex=r'^(?!liab).*$')\n",
    "X_train = X_train.filter(regex=r'^(?!eqtot).*$')\n",
    "X_train = X_train.filter(regex=r'^(?!dep).*$') \n",
    "\n",
    "X_test = X_test.filter(regex=r'^(?!asset).*$')\n",
    "X_test = X_test.filter(regex=r'^(?!liab).*$')\n",
    "X_test = X_test.filter(regex=r'^(?!eqtot).*$')\n",
    "X_test = X_test.filter(regex=r'^(?!dep).*$') \n",
    "\n",
    "# List of banks\n",
    "Banks = ['AMTRUST BANK', 'BANK OF AMERICA, N.A.', 'CITIMORTGAGE, INC.', \n",
    "         'FDIC, RECEIVER, INDYMAC FEDERAL BANK FSB', \n",
    "         'FIRST TENNESSEE BANK NATIONAL ASSOCIATION', 'FLAGSTAR CAPITAL MARKETS CORPORATION', \n",
    "         'GMAC MORTGAGE', 'JPMORGAN CHASE BANK, NATIONAL ASSOCIATION', \n",
    "         'PNC BANK, N.A.', 'SUNTRUST MORTGAGE INC.', 'CHASE HOME FINANCE']\n",
    "\n",
    "# Create dictionary of subsetted bank data\n",
    "Banks_X, Banks_y = Bank_Subsets(Banks, df_X = X_train, df_y = y_train)\n",
    "Banks_X_test, Banks_y_test = Bank_Subsets(Banks, df_X = X_test, df_y = y_test)\n",
    "\n",
    "# Remove Banks from full data\n",
    "X_train = X_train.filter(regex=r'^(?!Bank_).*$') \n",
    "X_test = X_test.filter(regex=r'^(?!Bank).*$')\n",
    "\n",
    "# Number of final columns\n",
    "print('Number of final columns:', len(X_train.columns))"
   ]
  },
  {
   "cell_type": "markdown",
   "metadata": {},
   "source": [
    "***"
   ]
  },
  {
   "cell_type": "markdown",
   "metadata": {},
   "source": [
    "# Vote by Committee"
   ]
  },
  {
   "cell_type": "code",
   "execution_count": null,
   "metadata": {},
   "outputs": [],
   "source": [
    "rfc = BalancedRandomForestClassifier(random_state=2020, n_estimators=200,\n",
    "                                     replacement=False, n_jobs=-1)\n",
    "rus = RUSBoostClassifier(n_estimators=50, learning_rate=0.1, random_state=2020)\n",
    "\n",
    "# Full Data\n",
    "y_full = y_train\n",
    "X_full = X_train\n",
    "X_test_full = X_test\n",
    "\n",
    "# # Subset\n",
    "# subset = subset_full\n",
    "# X_full = X_full.loc[:, subset]\n",
    "# X_test_full = X_test_full.loc[:, subset]\n",
    "# \n",
    "# # Standardize Vars\n",
    "# X_cols = X_full.columns\n",
    "scaler = StandardScaler().fit(X_full)\n",
    "X_full = scaler.transform(X_full)\n",
    "X_test_full = scaler.transform(X_test_full)\n",
    "\n",
    "# Model Bal\n",
    "param_grid = {\n",
    "    'max_depth': list(range(3, 40)),\n",
    "    'min_samples_split': np.linspace(0.1, 1.0, 10, endpoint=True),\n",
    "    'min_samples_leaf': np.linspace(0.1, 0.5, 5, endpoint=True),\n",
    "    'max_features': [0.5, 'sqrt', 'log2']    \n",
    "}\n",
    "\n",
    "CV_ful = GridSearchCV(estimator=rfc, param_grid=param_grid, cv=5, scoring='f1', n_jobs=-1)\n",
    "fulrfc_models = pickle.dumps(CV_ful)\n",
    "CV_ful = pickle.loads(fulrfc_models)\n",
    "CV_ful.fit(X_full, y_full)\n",
    "print(CV_ful.best_params_)\n",
    "print(\"F1 Best Score:\", CV_ful.best_score_)\n",
    "\n",
    "fulrfc_proba = pd.DataFrame(CV_ful.predict_proba(X_test_full)).loc[:,1]\n",
    "print(threshold(fulrfc_proba, y_test))"
   ]
  },
  {
   "cell_type": "code",
   "execution_count": null,
   "metadata": {},
   "outputs": [],
   "source": []
  },
  {
   "cell_type": "code",
   "execution_count": null,
   "metadata": {},
   "outputs": [],
   "source": [
    "def model_banks(Banks_X, Banks_y, Banks_X_test, bank_str, subset, clf):\n",
    "    # Dictionaries\n",
    "    bnk_models = {}\n",
    "    bnk_proba = {}\n",
    "    bnk_pred = {}\n",
    "    bnk_scores = {}\n",
    "\n",
    "    # Load Bank Data\n",
    "    y = Banks_y[bank_str]\n",
    "    X = Banks_X[bank_str] \n",
    "    X_test_bnk = Banks_X_test[bank_str]\n",
    "    y_test_bnk = Banks_y_test[bank_str]\n",
    "    \n",
    "    # Subset\n",
    "    # subset = subset[bank_str]\n",
    "    # X = X.loc[:, subset]\n",
    "    # X_test_bnk = X_test_bnk.loc[:, subset]\n",
    "        \n",
    "    # Standardize Vars\n",
    "    scaler = StandardScaler().fit(X)\n",
    "    X = scaler.transform(X)\n",
    "    X_test_bnk = scaler.transform(X_test_bnk)\n",
    "    \n",
    "    # Model Bal\n",
    "    param_grid = {\n",
    "        'max_depth': list(range(3, 40)),\n",
    "        'min_samples_split': np.linspace(0.1, 1.0, 10, endpoint=True),\n",
    "        'min_samples_leaf': np.linspace(0.1, 0.5, 5, endpoint=True),\n",
    "        'max_features': [0.5, 'sqrt', 'log2']    \n",
    "    }\n",
    "\n",
    "    # Model\n",
    "    bnk_models[bank_str] = GridSearchCV(estimator=rfc, param_grid=param_grid, cv=5, scoring='f1', n_jobs=-1)\n",
    "    rfc_model = pickle.dumps(bnk_models[bank_str])\n",
    "    bnk_models[bank_str] = pickle.loads(rfc_model)\n",
    "    bnk_models[bank_str].fit(X_full, y_full)\n",
    "    print(bnk_models[bank_str].best_params_)\n",
    "    print(\"F1 Best Score:\", bnk_models[bank_str].best_score_)\n",
    "    \n",
    "    bnk_proba[bank_str] = pd.DataFrame(bnk_models[bank_str].predict_proba(X_test_full)).loc[:,1]\n",
    "    best_f1 = threshold(bnk_proba[bank_str], y_test_bnk)\n",
    "\n",
    "    bnk_pred[bank_str] = bnk_proba[bank_str].map(lambda x: 1 if x >= best_f1['Threshold'] else 0)  \n",
    "    return bnk_pred[bank_str]\n",
    "    \n",
    "clfs = []\n",
    "votes = pd.DataFrame()\n",
    "for bank_str in ['AMTRUST BANK']:  \n",
    "    print(bank_str)\n",
    "    votes.loc[:,'rfc'] = model_banks(Banks_X, Banks_y, Banks_X_test, bank_str, clf = rfc)\n",
    "    # votes.loc[:,'wgt'] = model_banks(Banks_X, Banks_y, Banks_X_test, bank_str, subset_wgt, wgt)\n",
    "    # votes.loc[:,'rus'] = model_banks(Banks_X, Banks_y, Banks_X_test, bank_str, subset_rus, rus)\n",
    "    \n",
    "    # Full Data\n",
    "    # subset = subset_full\n",
    "    # X_test_bnk = Banks_X_test[bank_str].loc[:, subset]\n",
    "    scaler = StandardScaler().fit(X_full)\n",
    "    X_test_bnk = scaler.transform(X_test_bnk)\n",
    "    \n",
    "    # Rfc\n",
    "    CV_ful = pickle.loads(fulrfc_models)\n",
    "    votes.loc[:,'fulrfc'] = pd.DataFrame(CV_ful.predict_proba(X_test_bnk)).iloc[:,1]\n",
    "    votes.loc[:,'fulrfc'] = votes.loc[:,'fulrfc'].map(lambda x: 1 if x >= 0.5 else 0)  "
   ]
  },
  {
   "cell_type": "code",
   "execution_count": null,
   "metadata": {},
   "outputs": [],
   "source": [
    "votes.loc[:,'maj'] = ( votes.iloc[:,0:2].sum(axis=1) / 2 ).map(lambda x: 1 if x >= 0.5 else 0)\n",
    "votes.loc[:,'true'] = np.array(Banks_y_test['AMTRUST BANK'])\n",
    "print(np.mean(votes.loc[:,'maj']))\n",
    "display(votes.head(25))"
   ]
  },
  {
   "cell_type": "code",
   "execution_count": null,
   "metadata": {},
   "outputs": [],
   "source": [
    "print(roc_auc_score(Banks_y_test['AMTRUST BANK'], votes.loc[:,'rfc']))\n",
    "#print(roc_auc_score(Banks_y_test['AMTRUST BANK'], votes.loc[:,'wgt']))\n",
    "#print(roc_auc_score(Banks_y_test['AMTRUST BANK'], votes.loc[:,'rus']))\n",
    "print(roc_auc_score(Banks_y_test['AMTRUST BANK'], votes.loc[:,'fulrfc']))\n",
    "#print(roc_auc_score(Banks_y_test['AMTRUST BANK'], votes.loc[:,'fulwgt']))\n",
    "#print(roc_auc_score(Banks_y_test['AMTRUST BANK'], votes.loc[:,'fulrus']))\n",
    "print(roc_auc_score(Banks_y_test['AMTRUST BANK'], votes.loc[:,'maj']))"
   ]
  },
  {
   "cell_type": "code",
   "execution_count": null,
   "metadata": {},
   "outputs": [],
   "source": [
    "print(f1_score(Banks_y_test['AMTRUST BANK'], votes.loc[:,'rfc']))\n",
    "#print(f1_score(Banks_y_test['AMTRUST BANK'], votes.loc[:,'wgt']))\n",
    "#print(f1_score(Banks_y_test['AMTRUST BANK'], votes.loc[:,'rus']))\n",
    "print(f1_score(Banks_y_test['AMTRUST BANK'], votes.loc[:,'fulrfc']))\n",
    "#print(f1_score(Banks_y_test['AMTRUST BANK'], votes.loc[:,'fulwgt']))\n",
    "#print(f1_score(Banks_y_test['AMTRUST BANK'], votes.loc[:,'fulrus']))\n",
    "print(f1_score(Banks_y_test['AMTRUST BANK'], votes.loc[:,'maj']))"
   ]
  }
 ],
 "metadata": {
  "kernelspec": {
   "display_name": "Python 3",
   "language": "python",
   "name": "python3"
  },
  "language_info": {
   "codemirror_mode": {
    "name": "ipython",
    "version": 3
   },
   "file_extension": ".py",
   "mimetype": "text/x-python",
   "name": "python",
   "nbconvert_exporter": "python",
   "pygments_lexer": "ipython3",
   "version": "3.7.4"
  }
 },
 "nbformat": 4,
 "nbformat_minor": 2
}
