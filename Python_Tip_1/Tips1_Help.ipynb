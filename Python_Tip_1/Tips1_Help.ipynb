{
 "cells": [
  {
   "cell_type": "markdown",
   "id": "4c0fcb68-a351-4da7-9fd9-7adc5d05d083",
   "metadata": {},
   "source": [
    "<h1 class=\"title\">Python Tips<br>#1 Help</h1>\n",
    "<br>\n",
    "<center>Michael Siebel</center>\n",
    "<br>"
   ]
  },
  {
   "cell_type": "code",
   "execution_count": 1,
   "id": "c7d720ba-d724-4717-b608-0fa084e3480e",
   "metadata": {},
   "outputs": [
    {
     "data": {
      "application/javascript": [
       "document.body.dispatchEvent(new KeyboardEvent('keydown', {key:'s', keyCode: 83, ctrlKey: true}))"
      ],
      "text/plain": [
       "<IPython.core.display.Javascript object>"
      ]
     },
     "metadata": {},
     "output_type": "display_data"
    },
    {
     "data": {
      "application/javascript": [
       "function toggler(){\n",
       "    if(window.already_toggling){\n",
       "        // Don't add multiple buttons.\n",
       "        return 0\n",
       "    }\n",
       "    let btn = $('div.input > div.inner_cell').append('<button>Show/Hide Code</button>')\n",
       "        .children('button');\n",
       "    btn.on('click', function(e){\n",
       "        let tgt = e.currentTarget;\n",
       "        $(tgt).parent().children('div.input > div.inner_cell > div.input_area').toggle()\n",
       "    })\n",
       "    window.already_toggling = true;\n",
       "}\n",
       "// Since javascript cells are executed as soon as we load\n",
       "// the notebook (if it's trusted), and this cell might be at the\n",
       "// top of the notebook (so is executed first), we need to\n",
       "// allow time for all of the other code cells to load before\n",
       "// running. Let's give it 1 second.\n",
       "\n",
       "setTimeout(toggler, 1000);\n"
      ],
      "text/plain": [
       "<IPython.core.display.Javascript object>"
      ]
     },
     "metadata": {},
     "output_type": "display_data"
    },
    {
     "data": {
      "text/html": [
       "<style>\n",
       "h1.title {\n",
       "    text-align: center;\n",
       "    font-size: 2.25em;\n",
       "    font-weight: bold;\n",
       "    font-family: 'Montserrat', sans-serif !important;\n",
       "    margin-top: 1.5em !important; \n",
       "}\n",
       "</style>\n"
      ],
      "text/plain": [
       "<IPython.core.display.HTML object>"
      ]
     },
     "metadata": {},
     "output_type": "display_data"
    },
    {
     "data": {
      "text/html": [
       "<style>\n",
       "div.cell:nth-of-type(2) {\n",
       "    display: none !important;\n",
       "}\n",
       "</style>\n"
      ],
      "text/plain": [
       "<IPython.core.display.HTML object>"
      ]
     },
     "metadata": {},
     "output_type": "display_data"
    }
   ],
   "source": [
    "# Remove warnings\n",
    "import warnings\n",
    "warnings.filterwarnings('ignore')\n",
    "\n",
    "%run ../HTML_Functions.ipynb "
   ]
  },
  {
   "cell_type": "markdown",
   "id": "eb9ef6b5-f3b3-46d2-af1c-45b3ea411126",
   "metadata": {},
   "source": [
    "# Introducing Help\n",
    "\n",
    "The most import function in any programming language."
   ]
  },
  {
   "cell_type": "markdown",
   "id": "988569f9-7ae1-484a-b2a7-c1ead5ab3357",
   "metadata": {},
   "source": [
    "I was thinking about posting a Python function/tip every once and awhile as a means of making it easier to memorize Python. \n",
    "Today's function is the most important function in Python: help()\n",
    "There are actually three ways to find out how a Python function works.  "
   ]
  },
  {
   "cell_type": "code",
   "execution_count": 2,
   "id": "0a2afa84-b1ce-4331-aec3-36d74e4b91f6",
   "metadata": {},
   "outputs": [],
   "source": [
    "# help(<func>)\n",
    "# ?<func>\n",
    "# <func>?"
   ]
  },
  {
   "cell_type": "markdown",
   "id": "bd77bf1e-bf46-47a4-bc58-6b2c567a93b8",
   "metadata": {},
   "source": [
    "# Example"
   ]
  },
  {
   "cell_type": "markdown",
   "id": "c10a5cea-2025-42de-a811-bc8bee664eb0",
   "metadata": {},
   "source": [
    "It couldn't be easier; here's how to use help to learn about the function print()"
   ]
  },
  {
   "cell_type": "code",
   "execution_count": 3,
   "id": "da1db4ac-9b45-4b59-a74d-ba7dfdb4a8f4",
   "metadata": {},
   "outputs": [
    {
     "data": {
      "text/plain": [
       "\u001b[1;31mDocstring:\u001b[0m\n",
       "print(value, ..., sep=' ', end='\\n', file=sys.stdout, flush=False)\n",
       "\n",
       "Prints the values to a stream, or to sys.stdout by default.\n",
       "Optional keyword arguments:\n",
       "file:  a file-like object (stream); defaults to the current sys.stdout.\n",
       "sep:   string inserted between values, default a space.\n",
       "end:   string appended after the last value, default a newline.\n",
       "flush: whether to forcibly flush the stream.\n",
       "\u001b[1;31mType:\u001b[0m      builtin_function_or_method\n"
      ]
     },
     "metadata": {},
     "output_type": "display_data"
    },
    {
     "name": "stdout",
     "output_type": "stream",
     "text": [
      "Help on built-in function print in module builtins:\n",
      "\n",
      "print(...)\n",
      "    print(value, ..., sep=' ', end='\\n', file=sys.stdout, flush=False)\n",
      "    \n",
      "    Prints the values to a stream, or to sys.stdout by default.\n",
      "    Optional keyword arguments:\n",
      "    file:  a file-like object (stream); defaults to the current sys.stdout.\n",
      "    sep:   string inserted between values, default a space.\n",
      "    end:   string appended after the last value, default a newline.\n",
      "    flush: whether to forcibly flush the stream.\n",
      "\n"
     ]
    }
   ],
   "source": [
    "help(print)\n",
    "?print\n",
    "print?"
   ]
  },
  {
   "cell_type": "markdown",
   "id": "0660f4a2-105c-49e1-8d38-04c8ee3c767d",
   "metadata": {},
   "source": [
    "Python generally is much more minimalist in the amount of information help() gives you.  While Stata will provide statistical theory and cite academics, Python only shows you how the function works.\n",
    "Personally, I use the second method:"
   ]
  },
  {
   "cell_type": "code",
   "execution_count": 4,
   "id": "18413467-8393-4292-8bf9-330ea1f5cbc5",
   "metadata": {},
   "outputs": [],
   "source": [
    "# ?<func>"
   ]
  },
  {
   "cell_type": "markdown",
   "id": "8c07bb3c-3e1f-4fd8-b9db-dcbdafc2116a",
   "metadata": {},
   "source": [
    "# Save Log"
   ]
  },
  {
   "cell_type": "code",
   "execution_count": 5,
   "id": "a09cddc0-1030-44c2-8675-10e5d609837e",
   "metadata": {},
   "outputs": [
    {
     "data": {
      "application/javascript": [
       "document.body.dispatchEvent(new KeyboardEvent('keydown', {key:'s', keyCode: 83, ctrlKey: true}))"
      ],
      "text/plain": [
       "<IPython.core.display.Javascript object>"
      ]
     },
     "metadata": {},
     "output_type": "display_data"
    },
    {
     "name": "stderr",
     "output_type": "stream",
     "text": [
      "[NbConvertApp] Converting notebook Tips1_Help.ipynb to html_toc\n",
      "[NbConvertApp] Writing 364565 bytes to Tips1_Help.html\n"
     ]
    }
   ],
   "source": [
    "from IPython.display import display, Javascript\n",
    "\n",
    "display(Javascript(\n",
    "    \"document.body.dispatchEvent(\"\n",
    "    \"new KeyboardEvent('keydown', {key:'s', keyCode: 83, ctrlKey: true}\"\n",
    "    \"))\"\n",
    "))\n",
    "\n",
    "!jupyter nbconvert --to html_toc \"Tips1_Help.ipynb\"  --ExtractOutputPreprocessor.enabled=False --CSSHTMLHeaderPreprocessor.style=stata-dark "
   ]
  }
 ],
 "metadata": {
  "kernelspec": {
   "display_name": "Python 3 (ipykernel)",
   "language": "python",
   "name": "python3"
  },
  "language_info": {
   "codemirror_mode": {
    "name": "ipython",
    "version": 3
   },
   "file_extension": ".py",
   "mimetype": "text/x-python",
   "name": "python",
   "nbconvert_exporter": "python",
   "pygments_lexer": "ipython3",
   "version": "3.9.12"
  }
 },
 "nbformat": 4,
 "nbformat_minor": 5
}
