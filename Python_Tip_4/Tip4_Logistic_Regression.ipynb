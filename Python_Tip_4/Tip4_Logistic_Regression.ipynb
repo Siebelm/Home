{
 "cells": [
  {
   "cell_type": "markdown",
   "id": "25d02c4f-9e4a-491a-9cbc-864ff872a681",
   "metadata": {},
   "source": [
    "<h1 class=\"title\">Python Tips<br>#4 Logistic Regression</h1>\n",
    "<br>\n",
    "<center>Michael Siebel</center>\n",
    "<br>"
   ]
  },
  {
   "cell_type": "code",
   "execution_count": 2,
   "id": "a4f09624-7ea4-4a45-8048-eaa106b0fc72",
   "metadata": {},
   "outputs": [
    {
     "data": {
      "application/javascript": [
       "document.body.dispatchEvent(new KeyboardEvent('keydown', {key:'s', keyCode: 83, ctrlKey: true}))"
      ],
      "text/plain": [
       "<IPython.core.display.Javascript object>"
      ]
     },
     "metadata": {},
     "output_type": "display_data"
    },
    {
     "data": {
      "application/javascript": [
       "function toggler(){\n",
       "    if(window.already_toggling){\n",
       "        // Don't add multiple buttons.\n",
       "        return 0\n",
       "    }\n",
       "    let btn = $('div.input > div.inner_cell').append('<button>Show/Hide Code</button>')\n",
       "        .children('button');\n",
       "    btn.on('click', function(e){\n",
       "        let tgt = e.currentTarget;\n",
       "        $(tgt).parent().children('div.input > div.inner_cell > div.input_area').toggle()\n",
       "    })\n",
       "    window.already_toggling = true;\n",
       "}\n",
       "// Since javascript cells are executed as soon as we load\n",
       "// the notebook (if it's trusted), and this cell might be at the\n",
       "// top of the notebook (so is executed first), we need to\n",
       "// allow time for all of the other code cells to load before\n",
       "// running. Let's give it 1 second.\n",
       "\n",
       "setTimeout(toggler, 1000);\n"
      ],
      "text/plain": [
       "<IPython.core.display.Javascript object>"
      ]
     },
     "metadata": {},
     "output_type": "display_data"
    },
    {
     "data": {
      "text/html": [
       "<style>\n",
       "h1.title {\n",
       "    text-align: center;\n",
       "    font-size: 2.25em;\n",
       "    font-weight: bold;\n",
       "    font-family: 'Montserrat', sans-serif !important;\n",
       "    margin-top: 1.5em !important; \n",
       "}\n",
       "</style>\n"
      ],
      "text/plain": [
       "<IPython.core.display.HTML object>"
      ]
     },
     "metadata": {},
     "output_type": "display_data"
    },
    {
     "data": {
      "text/html": [
       "<style>\n",
       "div.cell:nth-of-type(2) {\n",
       "    display: none !important;\n",
       "}\n",
       "</style>\n"
      ],
      "text/plain": [
       "<IPython.core.display.HTML object>"
      ]
     },
     "metadata": {},
     "output_type": "display_data"
    }
   ],
   "source": [
    "# Remove warnings\n",
    "import warnings\n",
    "warnings.filterwarnings('ignore')\n",
    "\n",
    "%run ../HTML_Functions.ipynb "
   ]
  },
  {
   "cell_type": "markdown",
   "id": "0ba29b4a-ca4e-421a-be0d-84e914e8b2a2",
   "metadata": {},
   "source": [
    "This post will go through the standard sklearn process of running a logistic regression.  We will rerun Tip #3's code to load IRIS as a toy data set."
   ]
  },
  {
   "cell_type": "markdown",
   "id": "f26ccd3f-15a1-4e94-9379-7fc92d34dfcf",
   "metadata": {},
   "source": [
    "# Load Data"
   ]
  },
  {
   "cell_type": "code",
   "execution_count": 3,
   "id": "e29072c1-7108-4db3-96b7-b72e6e15e5c3",
   "metadata": {},
   "outputs": [
    {
     "data": {
      "text/html": [
       "<div>\n",
       "<style scoped>\n",
       "    .dataframe tbody tr th:only-of-type {\n",
       "        vertical-align: middle;\n",
       "    }\n",
       "\n",
       "    .dataframe tbody tr th {\n",
       "        vertical-align: top;\n",
       "    }\n",
       "\n",
       "    .dataframe thead th {\n",
       "        text-align: right;\n",
       "    }\n",
       "</style>\n",
       "<table border=\"1\" class=\"dataframe\">\n",
       "  <thead>\n",
       "    <tr style=\"text-align: right;\">\n",
       "      <th></th>\n",
       "      <th>Sepal Length</th>\n",
       "      <th>Sepal Width</th>\n",
       "      <th>Petal Length</th>\n",
       "      <th>Petal Width</th>\n",
       "    </tr>\n",
       "  </thead>\n",
       "  <tbody>\n",
       "    <tr>\n",
       "      <th>0</th>\n",
       "      <td>5.1</td>\n",
       "      <td>3.5</td>\n",
       "      <td>1.4</td>\n",
       "      <td>0.2</td>\n",
       "    </tr>\n",
       "    <tr>\n",
       "      <th>1</th>\n",
       "      <td>4.9</td>\n",
       "      <td>3.0</td>\n",
       "      <td>1.4</td>\n",
       "      <td>0.2</td>\n",
       "    </tr>\n",
       "    <tr>\n",
       "      <th>2</th>\n",
       "      <td>4.7</td>\n",
       "      <td>3.2</td>\n",
       "      <td>1.3</td>\n",
       "      <td>0.2</td>\n",
       "    </tr>\n",
       "    <tr>\n",
       "      <th>3</th>\n",
       "      <td>4.6</td>\n",
       "      <td>3.1</td>\n",
       "      <td>1.5</td>\n",
       "      <td>0.2</td>\n",
       "    </tr>\n",
       "    <tr>\n",
       "      <th>4</th>\n",
       "      <td>5.0</td>\n",
       "      <td>3.6</td>\n",
       "      <td>1.4</td>\n",
       "      <td>0.2</td>\n",
       "    </tr>\n",
       "  </tbody>\n",
       "</table>\n",
       "</div>"
      ],
      "text/plain": [
       "   Sepal Length  Sepal Width  Petal Length  Petal Width\n",
       "0           5.1          3.5           1.4          0.2\n",
       "1           4.9          3.0           1.4          0.2\n",
       "2           4.7          3.2           1.3          0.2\n",
       "3           4.6          3.1           1.5          0.2\n",
       "4           5.0          3.6           1.4          0.2"
      ]
     },
     "metadata": {},
     "output_type": "display_data"
    }
   ],
   "source": [
    "# Load Libraries\n",
    "## Main Data Wrangling Library\n",
    "import pandas as pd\n",
    "## Main Linear Algebra Library\n",
    "import numpy as np\n",
    "## Split data\n",
    "from sklearn.model_selection import train_test_split\n",
    "## Logistic Regression\n",
    "from sklearn.linear_model import LogisticRegression\n",
    "## Practice data\n",
    "from sklearn import datasets\n",
    "\n",
    "# Load IRIS data and c\n",
    "X, y = datasets.load_iris(return_X_y=True, as_frame=True)\n",
    "## Add column names\n",
    "X.columns = [\"Sepal Length\", \"Sepal Width\", \"Petal Length\", \"Petal Width\"]\n",
    "\n",
    "# Preview data\n",
    "display(X.head())"
   ]
  },
  {
   "cell_type": "markdown",
   "id": "a10cc858-d54d-490f-99e1-75f4efbb6fb1",
   "metadata": {},
   "source": [
    "We added a few more libraries this time.  numpy is Python's package for linear algebra; pandas is Python's package for data wrangling.  I never run a Python script without numpy and pandas.  We are only using numpy to look at unique values for the target variable, though."
   ]
  },
  {
   "cell_type": "markdown",
   "id": "efb87bd7-9388-423e-929f-63893015d9ce",
   "metadata": {},
   "source": [
    "# Target Variable\n",
    "\n",
    "(or dependent variable, or endongenous variable, or outcome, or whatever lexicon you use)"
   ]
  },
  {
   "cell_type": "code",
   "execution_count": 4,
   "id": "44a7be7e-95d2-4008-879c-46617305f763",
   "metadata": {},
   "outputs": [
    {
     "name": "stdout",
     "output_type": "stream",
     "text": [
      "Final Target Counts\n"
     ]
    },
    {
     "data": {
      "text/html": [
       "<div>\n",
       "<style scoped>\n",
       "    .dataframe tbody tr th:only-of-type {\n",
       "        vertical-align: middle;\n",
       "    }\n",
       "\n",
       "    .dataframe tbody tr th {\n",
       "        vertical-align: top;\n",
       "    }\n",
       "\n",
       "    .dataframe thead th {\n",
       "        text-align: right;\n",
       "    }\n",
       "</style>\n",
       "<table border=\"1\" class=\"dataframe\">\n",
       "  <thead>\n",
       "    <tr style=\"text-align: right;\">\n",
       "      <th></th>\n",
       "      <th>Count</th>\n",
       "    </tr>\n",
       "  </thead>\n",
       "  <tbody>\n",
       "    <tr>\n",
       "      <th>Not Versicolor</th>\n",
       "      <td>100</td>\n",
       "    </tr>\n",
       "    <tr>\n",
       "      <th>Versicolor</th>\n",
       "      <td>50</td>\n",
       "    </tr>\n",
       "  </tbody>\n",
       "</table>\n",
       "</div>"
      ],
      "text/plain": [
       "                Count\n",
       "Not Versicolor    100\n",
       "Versicolor         50"
      ]
     },
     "metadata": {},
     "output_type": "display_data"
    }
   ],
   "source": [
    "# Add target labels\n",
    "labels = ['Not Versicolor', 'Versicolor']\n",
    "\n",
    "# Make Target Binary\n",
    "y = y == 1\n",
    "\n",
    "# Target Counts\n",
    "print('Final Target Counts')\n",
    "unique_elements, counts_elements = np.unique(y, return_counts=True)\n",
    "display(pd.DataFrame(counts_elements, index=labels, columns=[\"Count\"]))"
   ]
  },
  {
   "cell_type": "markdown",
   "id": "a679cac3-9be1-4cad-9d85-906a53ede444",
   "metadata": {},
   "source": [
    "## Stata Equivalent"
   ]
  },
  {
   "cell_type": "markdown",
   "id": "85b9c3e1-d2a0-47c3-aa79-5e1f62d0c164",
   "metadata": {},
   "source": [
    "The IRIS dataset contains three categories for the target variable.  sklearn's logistic regression function is also its multinomial logistic regression function, so if we don't make the target variable binary, our code would still work.  Converting to a binary was quite easy and essentially the same as in Stata, but let's compare it to Stata code:"
   ]
  },
  {
   "cell_type": "code",
   "execution_count": 5,
   "id": "e9c92e07-a113-433e-bb6c-6f0a967e65aa",
   "metadata": {},
   "outputs": [],
   "source": [
    "# Python code:\n",
    "# y = y == 1\n",
    "# * Stata code:\n",
    "# . replace y = y == 1\n",
    "# * Alternative Stata code:\n",
    "# . replace y = 0 if y != 1"
   ]
  },
  {
   "cell_type": "markdown",
   "id": "8bb09ec6-2516-4c0d-bfff-667057cdc74b",
   "metadata": {},
   "source": [
    "Next, we loaded the functions train_test_split to split our dataset to a training and testing dataset, and LogisticRegression for the modeling.  train_test_split is meant to test if we are overfitting--this more relevant for more complex datasets.  With LogisticRegression, I added a the option C=1e9 which is a large number that essentially removes the effect of the regularization parameter--again, the regularization parameter is meant to prevent too much influence of any one column but given that we have only 4 columns it isn't needed.  By removing it, it is likely to produce results similar to what glm() produces in R and what logit produces in Stata."
   ]
  },
  {
   "cell_type": "markdown",
   "id": "dcde7e30-ac4b-42c9-9b72-8b4e40b87f82",
   "metadata": {},
   "source": [
    "# Modeling"
   ]
  },
  {
   "cell_type": "code",
   "execution_count": 6,
   "id": "fa7068a8-3aa3-4803-a14a-781ea7a9bfab",
   "metadata": {},
   "outputs": [
    {
     "name": "stdout",
     "output_type": "stream",
     "text": [
      "Intercept\n",
      "[16.02]\n",
      "\n",
      "Coefficients\n",
      "[[-0.68 -4.72  0.87 -1.44]]\n",
      "\n",
      "Accuracy Score\n",
      "0.7\n"
     ]
    }
   ],
   "source": [
    "# Split Data\n",
    "X_train, X_test, y_train, y_test = train_test_split(\n",
    "    X, y, test_size=0.7, random_state=0\n",
    ")\n",
    "\n",
    "# Model\n",
    "clf = LogisticRegression(C=1e9).fit(X_train, y_train)\n",
    "print(\"Intercept\")\n",
    "print(clf.intercept_.round(2))\n",
    "print(\"\")\n",
    "print(\"Coefficients\")\n",
    "print(clf.coef_.round(2))\n",
    "print(\"\")\n",
    "print(\"Accuracy Score\")\n",
    "print(clf.score(X_test, y_test).round(2))"
   ]
  },
  {
   "cell_type": "markdown",
   "id": "b35f0311-0e70-409f-a1d0-3196077c62e6",
   "metadata": {},
   "source": [
    "# Conclusion\n",
    "\n",
    "That is it! \n",
    "Throwing all the code together:"
   ]
  },
  {
   "cell_type": "code",
   "execution_count": 7,
   "id": "9ebf845b-94fd-423a-a2b2-98a7d24eb7c9",
   "metadata": {},
   "outputs": [
    {
     "data": {
      "text/html": [
       "<div>\n",
       "<style scoped>\n",
       "    .dataframe tbody tr th:only-of-type {\n",
       "        vertical-align: middle;\n",
       "    }\n",
       "\n",
       "    .dataframe tbody tr th {\n",
       "        vertical-align: top;\n",
       "    }\n",
       "\n",
       "    .dataframe thead th {\n",
       "        text-align: right;\n",
       "    }\n",
       "</style>\n",
       "<table border=\"1\" class=\"dataframe\">\n",
       "  <thead>\n",
       "    <tr style=\"text-align: right;\">\n",
       "      <th></th>\n",
       "      <th>Sepal Length</th>\n",
       "      <th>Sepal Width</th>\n",
       "      <th>Petal Length</th>\n",
       "      <th>Petal Width</th>\n",
       "    </tr>\n",
       "  </thead>\n",
       "  <tbody>\n",
       "    <tr>\n",
       "      <th>0</th>\n",
       "      <td>5.1</td>\n",
       "      <td>3.5</td>\n",
       "      <td>1.4</td>\n",
       "      <td>0.2</td>\n",
       "    </tr>\n",
       "    <tr>\n",
       "      <th>1</th>\n",
       "      <td>4.9</td>\n",
       "      <td>3.0</td>\n",
       "      <td>1.4</td>\n",
       "      <td>0.2</td>\n",
       "    </tr>\n",
       "    <tr>\n",
       "      <th>2</th>\n",
       "      <td>4.7</td>\n",
       "      <td>3.2</td>\n",
       "      <td>1.3</td>\n",
       "      <td>0.2</td>\n",
       "    </tr>\n",
       "    <tr>\n",
       "      <th>3</th>\n",
       "      <td>4.6</td>\n",
       "      <td>3.1</td>\n",
       "      <td>1.5</td>\n",
       "      <td>0.2</td>\n",
       "    </tr>\n",
       "    <tr>\n",
       "      <th>4</th>\n",
       "      <td>5.0</td>\n",
       "      <td>3.6</td>\n",
       "      <td>1.4</td>\n",
       "      <td>0.2</td>\n",
       "    </tr>\n",
       "  </tbody>\n",
       "</table>\n",
       "</div>"
      ],
      "text/plain": [
       "   Sepal Length  Sepal Width  Petal Length  Petal Width\n",
       "0           5.1          3.5           1.4          0.2\n",
       "1           4.9          3.0           1.4          0.2\n",
       "2           4.7          3.2           1.3          0.2\n",
       "3           4.6          3.1           1.5          0.2\n",
       "4           5.0          3.6           1.4          0.2"
      ]
     },
     "metadata": {},
     "output_type": "display_data"
    },
    {
     "name": "stdout",
     "output_type": "stream",
     "text": [
      "Final Target Counts\n"
     ]
    },
    {
     "data": {
      "text/html": [
       "<div>\n",
       "<style scoped>\n",
       "    .dataframe tbody tr th:only-of-type {\n",
       "        vertical-align: middle;\n",
       "    }\n",
       "\n",
       "    .dataframe tbody tr th {\n",
       "        vertical-align: top;\n",
       "    }\n",
       "\n",
       "    .dataframe thead th {\n",
       "        text-align: right;\n",
       "    }\n",
       "</style>\n",
       "<table border=\"1\" class=\"dataframe\">\n",
       "  <thead>\n",
       "    <tr style=\"text-align: right;\">\n",
       "      <th></th>\n",
       "      <th>Count</th>\n",
       "    </tr>\n",
       "  </thead>\n",
       "  <tbody>\n",
       "    <tr>\n",
       "      <th>Not Versicolor</th>\n",
       "      <td>100</td>\n",
       "    </tr>\n",
       "    <tr>\n",
       "      <th>Versicolor</th>\n",
       "      <td>50</td>\n",
       "    </tr>\n",
       "  </tbody>\n",
       "</table>\n",
       "</div>"
      ],
      "text/plain": [
       "                Count\n",
       "Not Versicolor    100\n",
       "Versicolor         50"
      ]
     },
     "metadata": {},
     "output_type": "display_data"
    },
    {
     "name": "stdout",
     "output_type": "stream",
     "text": [
      "Intercept\n",
      "[16.02]\n",
      "\n",
      "Coefficients\n",
      "[[-0.68 -4.72  0.87 -1.44]]\n",
      "\n",
      "Accuracy Score\n",
      "0.7\n"
     ]
    }
   ],
   "source": [
    "# Load Libraries\n",
    "## Main Data Wrangling Library\n",
    "import pandas as pd\n",
    "## Main Linear Algebra Library\n",
    "import numpy as np\n",
    "## Split data\n",
    "from sklearn.model_selection import train_test_split\n",
    "## Logistic Regression\n",
    "from sklearn.linear_model import LogisticRegression\n",
    "## Practice data\n",
    "from sklearn import datasets\n",
    "\n",
    "# Load IRIS data and c\n",
    "X, y = datasets.load_iris(return_X_y=True, as_frame=True)\n",
    "## Add column names\n",
    "X.columns = [\"Sepal Length\", \"Sepal Width\", \"Petal Length\", \"Petal Width\"]\n",
    "\n",
    "# Preview data\n",
    "display(X.head())\n",
    "\n",
    "# Add target labels\n",
    "labels = ['Not Versicolor', 'Versicolor']\n",
    "\n",
    "# Make Target Binary\n",
    "y = y == 1\n",
    "\n",
    "# Target Counts\n",
    "print('Final Target Counts')\n",
    "unique_elements, counts_elements = np.unique(y, return_counts=True)\n",
    "display(pd.DataFrame(counts_elements, index=labels, columns=[\"Count\"]))\n",
    "\n",
    "# Split Data\n",
    "X_train, X_test, y_train, y_test = train_test_split(\n",
    "    X, y, test_size=0.7, random_state=0\n",
    ")\n",
    "\n",
    "# Model\n",
    "clf = LogisticRegression(C=1e9).fit(X_train, y_train)\n",
    "print(\"Intercept\")\n",
    "print(clf.intercept_.round(2))\n",
    "print(\"\")\n",
    "print(\"Coefficients\")\n",
    "print(clf.coef_.round(2))\n",
    "print(\"\")\n",
    "print(\"Accuracy Score\")\n",
    "print(clf.score(X_test, y_test).round(2))"
   ]
  },
  {
   "cell_type": "markdown",
   "id": "182b902c-3226-4fbf-9a37-46a3c53bfebe",
   "metadata": {},
   "source": [
    "# Save Log"
   ]
  },
  {
   "cell_type": "code",
   "execution_count": null,
   "id": "98029df8-a818-452b-962d-15882ff01d2e",
   "metadata": {},
   "outputs": [
    {
     "data": {
      "application/javascript": [
       "document.body.dispatchEvent(new KeyboardEvent('keydown', {key:'s', keyCode: 83, ctrlKey: true}))"
      ],
      "text/plain": [
       "<IPython.core.display.Javascript object>"
      ]
     },
     "metadata": {},
     "output_type": "display_data"
    }
   ],
   "source": [
    "from IPython.display import display, Javascript\n",
    "\n",
    "display(Javascript(\n",
    "    \"document.body.dispatchEvent(\"\n",
    "    \"new KeyboardEvent('keydown', {key:'s', keyCode: 83, ctrlKey: true}\"\n",
    "    \"))\"\n",
    "))\n",
    "\n",
    "!jupyter nbconvert --to html_toc \"Tip4_Logistic_Regression.ipynb\"  --ExtractOutputPreprocessor.enabled=False --CSSHTMLHeaderPreprocessor.style=stata-dark "
   ]
  }
 ],
 "metadata": {
  "kernelspec": {
   "display_name": "Python 3 (ipykernel)",
   "language": "python",
   "name": "python3"
  },
  "language_info": {
   "codemirror_mode": {
    "name": "ipython",
    "version": 3
   },
   "file_extension": ".py",
   "mimetype": "text/x-python",
   "name": "python",
   "nbconvert_exporter": "python",
   "pygments_lexer": "ipython3",
   "version": "3.9.12"
  }
 },
 "nbformat": 4,
 "nbformat_minor": 5
}
