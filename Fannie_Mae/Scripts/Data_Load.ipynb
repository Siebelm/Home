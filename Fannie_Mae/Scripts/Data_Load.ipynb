{
 "cells": [
  {
   "cell_type": "code",
   "execution_count": 1,
   "metadata": {},
   "outputs": [],
   "source": [
    "# Core Packages\n",
    "import pandas as pd\n",
    "import numpy as np\n",
    "import random\n",
    "import glob\n",
    "import pickle\n",
    "import zipfile"
   ]
  },
  {
   "cell_type": "markdown",
   "metadata": {},
   "source": [
    "    usecols = list()\n",
    "    for col in cols:\n",
    "        index = full_cols.index(col)\n",
    "        usecols.append(index)   "
   ]
  },
  {
   "cell_type": "code",
   "execution_count": 34,
   "metadata": {},
   "outputs": [],
   "source": [
    " def data_load_save(fld, file):\n",
    "        \n",
    "    tmp_buffer = zipfile.ZipFile(str(fld + file + '.zip'))\n",
    "    tmp_file = tmp_buffer.namelist()[0]\n",
    "\n",
    "    full_cols = [\"Reference Pool ID\",\"Loan Identifier\",\"Monthly Reporting Period\",\"Channel\",\"Seller Name\",\"Servicer Name\",\"Master Servicer\",\"Original Interest Rate\",\"Current Interest Rate\",\"Original UPB\",\"UPB at Issuance\",\"Current Actual UPB\",\"Original Loan Term\",\"Origination Date\",\"First Payment Date\",\"Loan Age\",\"Remaining Months to Legal Maturity\",\"Remaining Months To Maturity\",\"Maturity Date\",\"Original Loan to Value Ratio (LTV)\",\"Original Combined Loan to Value Ratio (CLTV)\",\"Number of Borrowers\",\"Debt-To-Income (DTI)\",\"Borrower Credit Score at Origination\",\"Co-Borrower Credit Score at Origination\",\"First Time Home Buyer Indicator\",\"Loan Purpose\",\"Property Type\",\"Number of Units\",\"Occupancy Status\",\"Property State\",\"Metropolitan Statistical Area (MSA)\",\"Zip Code Short\",\"Mortgage Insurance Percentage\",\"Amortization Type\",\"Prepayment Penalty Indicator\",\"Interest Only Loan Indicator\",\"Interest Only First Principal And Interest Payment Date\",\"Months to Amortization\",\"Current Loan Delinquency Status\",\"Loan Payment History\",\"Modification Flag\",\"Mortgage Insurance Cancellation Indicator\",\"Zero Balance Code\",\"Zero Balance Effective Date\",\"UPB at the Time of Removal\",\"Repurchase Date\",\"Scheduled Principal Current\",\"Total Principal Current\",\"Unscheduled Principal Current\",\"Last Paid Installment Date\",\n",
    "                 \"Foreclosure Date\",\"Disposition Date\",\"Foreclosure Costs\",\"Property Preservation and Repair Costs\",\"Asset Recovery Costs\",\"Miscellaneous Holding Expenses and Credits\",\"Associated Taxes for Holding Property\",\"Net Sales Proceeds\",\"Credit Enhancement Proceeds\",\"Repurchase Make Whole Proceeds\",\"Other Foreclosure Proceeds\",\"Non-Interest Bearing UPB\",\"Principal Forgiveness Amount\",\"Original List Start Date\",\"Original List Price\",\"Current List Start Date\",\"Current List Price\",\"Borrower Credit Score At Issuance\",\"Co-Borrower Credit Score At Issuance\",\"Borrower Credit Score Current\",\"Co-Borrower Credit Score Current\",\"Mortgage Insurance Type\",\"Servicing Activity Indicator\",\"Current Period Modification Loss Amount\",\"Cumulative Modification Loss Amount\",\"Current Period Credit Event Net Gain or Loss\",\"Cumulative Credit Event Net Gain or Loss\",\"HomeReady® Program Indicator\",\"Foreclosure Principal Write-off Amount\",\"Relocation Mortgage Indicator\",\"Zero Balance Code Change Date\",\"Loan Holdback Indicator\",\"Loan Holdback Effective Date\",\"Delinquent Accrued Interest\",\"Property Valuation Method\",\"High Balance Loan Indicator\",\"ARM Initial Fixed-Rate Period ≤ 5 YR Indicator\",\"ARM Product Type\",\"Initial Fixed-Rate Period\",\"Interest Rate Adjustment Frequency\",\"Next Interest Rate Adjustment Date\",\"Next Payment Change Date\",\"Index\",\"ARM Cap Structure\",\"Initial Interest Rate Cap Up Percent\",\"Periodic Interest Rate Cap Up Percent\",\"Lifetime Interest Rate Cap Up Percent\",\"Mortgage Margin\",\"ARM Balloon Indicator\",\"ARM Plan Number\",\"Borrower Assistance Plan\",\"High Loan to Value (HLTV) Refinance Option Indicator\",\"Deal Name\",\"Repurchase Make Whole Proceeds Flag\",\"Alternative Delinquency Resolution\",\"Alternative Delinquency Resolution Count\",\"Total Deferral Amount\"]\n",
    "    cols = [\"Loan Identifier\",\"Monthly Reporting Period\",\"Channel\",\"Seller Name\",\n",
    "            \"Servicer Name\",\"Master Servicer\",\"Original Interest Rate\",\n",
    "            \"Original UPB\",\"Original Loan Term\",\"Origination Date\",\"First Payment Date\",\"Loan Age\",\n",
    "            \"Original Loan to Value Ratio (LTV)\",\"Original Combined Loan to Value Ratio (CLTV)\",\n",
    "            \"Number of Borrowers\",\"Debt-To-Income (DTI)\",\"Borrower Credit Score at Origination\",\n",
    "            \"First Time Home Buyer Indicator\",\"Loan Purpose\",\"Property Type\",\"Number of Units\",\n",
    "            \"Occupancy Status\",\"Property State\",\"Zip Code Short\",\"Mortgage Insurance Percentage\",\n",
    "            \"Co-Borrower Credit Score at Origination\",\"Mortgage Insurance Type\",\n",
    "            \"Relocation Mortgage Indicator\",\"Foreclosure Date\"]\n",
    "    \n",
    "    usecols = list()\n",
    "    for col in cols:\n",
    "        index = full_cols.index(col)\n",
    "        usecols.append(index)      \n",
    "\n",
    "    df = pd.read_csv(tmp_buffer.open(tmp_file), sep='|', header=None, usecols=usecols)\n",
    "    print(\"Initial load shape:\", df.shape)\n",
    "    df.columns = cols\n",
    "\n",
    "    df.columns = [\"Loan ID\",\"Reported Period\",\"Origination Channel\",\"Bank\",\n",
    "                  \"Servicer\",\"Master Servicer\",\"Original Interest Rate\",\n",
    "                  \"Original Mortgage Amount\",\"Original Loan Term\",\"Original Date\",\"First Payment\",\"Loan Age\",\n",
    "                  \"Original Loan-to-Value (LTV)\",\"Original Combined Loan-to-Value (CLTV)\",\n",
    "                  \"Number of Borrowers\",\"Original Debt to Income Ratio\",\"Credit Score\",\n",
    "                  \"First Time Home Buyer\",\"Loan Purpose\",\"Property Type\",\"Number of Units\",\n",
    "                  \"Occupancy Type\",\"Property State\",\"Zip Code\",\"Mortgage Insurance %\",\n",
    "                  \"Co-Borrower Credit Score\",\"Mortgage Insurance Type\",\"Relocation Mortgage Indicator\",\n",
    "                  \"Foreclosure Date\"]\n",
    "    \n",
    "    # Drop duplicates\n",
    "    df[\"Reported Period\"] = str(df[\"Reported Period\"]).zfill(6)\n",
    "    df = df.sort_values(by=[\"Reported Period\"])\n",
    "    df = df.drop_duplicates(subset='Loan ID', keep='last')\n",
    "    print(\"Subsetted shape:\", df.shape)\n",
    "    \n",
    "    # Set Foreclosed to binary\n",
    "    df.loc[df['Foreclosure Date']!='N','Foreclosed'] = 1\n",
    "    df.loc[df['Foreclosure Date']=='N', 'Foreclosed'] = 0\n",
    "    # df = df.drop(columns='Foreclosure Date')\n",
    "    df['Foreclosed'] = df['Foreclosed'].astype(int)\n",
    "\n",
    "    df.to_csv(str(fld + 'Acq_' + file + '_2.csv'), index=False) \n",
    "    \n",
    "    return(df)"
   ]
  },
  {
   "cell_type": "code",
   "execution_count": null,
   "metadata": {},
   "outputs": [
    {
     "name": "stdout",
     "output_type": "stream",
     "text": [
      "Data Load for 2007Q1\n",
      "Initial load shape: (16036653, 29)\n",
      "Subsetted shape: (253292, 29)\n",
      "\n",
      "Data Load for 2007Q2\n",
      "Initial load shape: (17772094, 29)\n",
      "Subsetted shape: (287275, 29)\n",
      "\n",
      "Data Load for 2007Q3\n",
      "Initial load shape: (17467458, 29)\n",
      "Subsetted shape: (314723, 29)\n",
      "\n",
      "Data Load for 2007Q4\n",
      "Initial load shape: (21560660, 29)\n"
     ]
    }
   ],
   "source": [
    "fld = '../Data/'\n",
    "files = ['2007Q1','2007Q2','2007Q3','2007Q4']\n",
    "\n",
    "df = pd.DataFrame()\n",
    "for file in files:\n",
    "    print('Data Load for', file)\n",
    "    df_t = data_load_save(fld, file)\n",
    "    df = pd.concat([df, df_t], axis=0)\n",
    "    print('')"
   ]
  },
  {
   "cell_type": "code",
   "execution_count": null,
   "metadata": {},
   "outputs": [],
   "source": [
    "print( df['Foreclosed'].value_counts() )\n",
    "print( df['Foreclosure Date'].value_counts() )\n",
    "print( df[\"Master Servicer\"].value_counts() )\n",
    "df[['Foreclosed', 'Reported Period', \"Original Date\", 'Foreclosure Date', 'Loan Age']].head(10)"
   ]
  },
  {
   "cell_type": "code",
   "execution_count": 2,
   "metadata": {},
   "outputs": [],
   "source": [
    " def data_load_save(fld, file):\n",
    "    tmp_buffer = zipfile.ZipFile(str(fld + file + '.zip'))\n",
    "    tmp_file = tmp_buffer.namelist()[0]\n",
    "\n",
    "    \n",
    "    full_cols = [\"Reference Pool ID\",\"Loan Identifier\",\"Monthly Reporting Period\",\"Channel\",\"Seller Name\",\"Servicer Name\",\"Master Servicer\",\"Original Interest Rate\",\"Current Interest Rate\",\"Original UPB\",\"UPB at Issuance\",\"Current Actual UPB\",\"Original Loan Term\",\"Origination Date\",\"First Payment Date\",\"Loan Age\",\"Remaining Months to Legal Maturity\",\"Remaining Months To Maturity\",\"Maturity Date\",\"Original Loan to Value Ratio (LTV)\",\"Original Combined Loan to Value Ratio (CLTV)\",\"Number of Borrowers\",\"Debt-To-Income (DTI)\",\"Borrower Credit Score at Origination\",\"Co-Borrower Credit Score at Origination\",\"First Time Home Buyer Indicator\",\"Loan Purpose\",\"Property Type\",\"Number of Units\",\"Occupancy Status\",\"Property State\",\"Metropolitan Statistical Area (MSA)\",\"Zip Code Short\",\"Mortgage Insurance Percentage\",\"Amortization Type\",\"Prepayment Penalty Indicator\",\"Interest Only Loan Indicator\",\"Interest Only First Principal And Interest Payment Date\",\"Months to Amortization\",\"Current Loan Delinquency Status\",\"Loan Payment History\",\"Modification Flag\",\"Mortgage Insurance Cancellation Indicator\",\"Zero Balance Code\",\"Zero Balance Effective Date\",\"UPB at the Time of Removal\",\"Repurchase Date\",\"Scheduled Principal Current\",\"Total Principal Current\",\"Unscheduled Principal Current\",\"Last Paid Installment Date\",\n",
    "                 \"Foreclosure Date\",\"Disposition Date\",\"Foreclosure Costs\",\"Property Preservation and Repair Costs\",\"Asset Recovery Costs\",\"Miscellaneous Holding Expenses and Credits\",\"Associated Taxes for Holding Property\",\"Net Sales Proceeds\",\"Credit Enhancement Proceeds\",\"Repurchase Make Whole Proceeds\",\"Other Foreclosure Proceeds\",\"Non-Interest Bearing UPB\",\"Principal Forgiveness Amount\",\"Original List Start Date\",\"Original List Price\",\"Current List Start Date\",\"Current List Price\",\"Borrower Credit Score At Issuance\",\"Co-Borrower Credit Score At Issuance\",\"Borrower Credit Score Current\",\"Co-Borrower Credit Score Current\",\"Mortgage Insurance Type\",\"Servicing Activity Indicator\",\"Current Period Modification Loss Amount\",\"Cumulative Modification Loss Amount\",\"Current Period Credit Event Net Gain or Loss\",\"Cumulative Credit Event Net Gain or Loss\",\"HomeReady® Program Indicator\",\"Foreclosure Principal Write-off Amount\",\"Relocation Mortgage Indicator\",\"Zero Balance Code Change Date\",\"Loan Holdback Indicator\",\"Loan Holdback Effective Date\",\"Delinquent Accrued Interest\",\"Property Valuation Method\",\"High Balance Loan Indicator\",\"ARM Initial Fixed-Rate Period ≤ 5 YR Indicator\",\"ARM Product Type\",\"Initial Fixed-Rate Period\",\"Interest Rate Adjustment Frequency\",\"Next Interest Rate Adjustment Date\",\"Next Payment Change Date\",\"Index\",\"ARM Cap Structure\",\"Initial Interest Rate Cap Up Percent\",\"Periodic Interest Rate Cap Up Percent\",\"Lifetime Interest Rate Cap Up Percent\",\"Mortgage Margin\",\"ARM Balloon Indicator\",\"ARM Plan Number\",\"Borrower Assistance Plan\",\"High Loan to Value (HLTV) Refinance Option Indicator\",\"Deal Name\",\"Repurchase Make Whole Proceeds Flag\",\"Alternative Delinquency Resolution\",\"Alternative Delinquency Resolution Count\",\"Total Deferral Amount\"]\n",
    "    cols = [\"Loan Identifier\",\"Channel\",\"Seller Name\",\"Servicer Name\",\"Original Interest Rate\",\n",
    "            \"Original UPB\",\"Original Loan Term\",\"Origination Date\",\"First Payment Date\",\n",
    "            \"Original Loan to Value Ratio (LTV)\",\"Original Combined Loan to Value Ratio (CLTV)\",\n",
    "            \"Number of Borrowers\",\"Debt-To-Income (DTI)\",\"Borrower Credit Score at Origination\"]\n",
    "            #\"First Time Home Buyer Indicator\",\"Loan Purpose\",\"Property Type\",\"Number of Units\",\n",
    "            #\"Occupancy Status\",\"Property State\",\"Zip Code Short\",\"Mortgage Insurance Percentage\",\n",
    "            #\"Co-Borrower Credit Score at Origination\",\"Mortgage Insurance Type\",\n",
    "            #\"Relocation Mortgage Indicator\",\"Foreclosure Date\"]\n",
    "    usecols = list()\n",
    "    for col in cols:\n",
    "        index = full_cols.index(col)\n",
    "        usecols.append(index)      \n",
    "\n",
    "    df = pd.read_csv(tmp_buffer.open(tmp_file), sep='|', header=None, usecols=usecols)\n",
    "    print(\"Initial load shape:\", df.shape)\n",
    "    df.columns = cols\n",
    "\n",
    "    df.columns = [\"Loan ID\",\"Origination Channel\",\"Bank\",\"Servicer\",\"Original Interest Rate\",\n",
    "                  \"Original Mortgage Amount\",\"Original Loan Term\",\"Original Date\",\"First Payment\",\n",
    "                  \"Original Loan-to-Value (LTV)\",\"Original Combined Loan-to-Value (CLTV)\",\n",
    "                  \"Number of Borrowers\",\"Original Debt to Income Ratio\",\"Credit Score\"]\n",
    "                  #\"First Time Home Buyer\",\"Loan Purpose\",\"Property Type\",\"Number of Units\",\n",
    "                  #\"Occupancy Type\",\"Property State\",\"Zip Code\",\"Mortgage Insurance %\",\n",
    "                  #\"Co-Borrower Credit Score\",\"Mortgage Insurance Type\",\"Relocation Mortgage Indicator\",\n",
    "                  #\"Foreclosure Date\"]\n",
    "    \n",
    "    # Drop duplicates\n",
    "    df = df.drop_duplicates(subset='Loan ID', keep='last')\n",
    "    \n",
    "    print(\"Subsetted shape:\", df.shape)\n",
    "\n",
    "    df.to_csv(str(fld + 'Acq_' + file + '_1st_half.csv'), index=False) \n",
    "    \n",
    "    return(df)"
   ]
  },
  {
   "cell_type": "code",
   "execution_count": 3,
   "metadata": {},
   "outputs": [
    {
     "name": "stdout",
     "output_type": "stream",
     "text": [
      "Data Load for 2003Q3\n",
      "Initial load shape: (147011199, 14)\n",
      "Subsetted shape: (1738620, 14)\n",
      "\n"
     ]
    }
   ],
   "source": [
    "fld = '../Data/'\n",
    "files = ['2003Q3']\n",
    "# '2001Q1','2001Q2','2001Q3','2001Q4','2002Q1','2002Q2','2002Q3','2002Q4',\n",
    "#         '2003Q1','2003Q2','2003Q3','2003Q4','2004Q1','2004Q2','2004Q3','2004Q4',\n",
    "#         '2005Q1','2005Q2','2005Q3','2005Q4','2006Q1','2006Q2','2006Q3','2006Q4',\n",
    "#         '2007Q1','2007Q2','2007Q3','2007Q4','2008Q1','2008Q2','2008Q3','2008Q4'\n",
    "# '2001Q4', '2001Q4','2002Q1','2002Q2','2002Q3','2002Q4',\n",
    "#         '2003Q1','2003Q2','2003Q3','2003Q4','2004Q1','2004Q2','2004Q3','2004Q4',\n",
    "for file in files:\n",
    "    print('Data Load for', file)\n",
    "    df_1 = data_load_save(fld, file)\n",
    "    print('')"
   ]
  },
  {
   "cell_type": "code",
   "execution_count": 6,
   "metadata": {},
   "outputs": [],
   "source": [
    " def data_load_save(fld, file):\n",
    "    tmp_buffer = zipfile.ZipFile(str(fld + file + '.zip'))\n",
    "    tmp_file = tmp_buffer.namelist()[0]\n",
    "\n",
    "    \n",
    "    full_cols = [\"Reference Pool ID\",\"Loan Identifier\",\"Monthly Reporting Period\",\"Channel\",\"Seller Name\",\"Servicer Name\",\"Master Servicer\",\"Original Interest Rate\",\"Current Interest Rate\",\"Original UPB\",\"UPB at Issuance\",\"Current Actual UPB\",\"Original Loan Term\",\"Origination Date\",\"First Payment Date\",\"Loan Age\",\"Remaining Months to Legal Maturity\",\"Remaining Months To Maturity\",\"Maturity Date\",\"Original Loan to Value Ratio (LTV)\",\"Original Combined Loan to Value Ratio (CLTV)\",\"Number of Borrowers\",\"Debt-To-Income (DTI)\",\"Borrower Credit Score at Origination\",\"Co-Borrower Credit Score at Origination\",\"First Time Home Buyer Indicator\",\"Loan Purpose\",\"Property Type\",\"Number of Units\",\"Occupancy Status\",\"Property State\",\"Metropolitan Statistical Area (MSA)\",\"Zip Code Short\",\"Mortgage Insurance Percentage\",\"Amortization Type\",\"Prepayment Penalty Indicator\",\"Interest Only Loan Indicator\",\"Interest Only First Principal And Interest Payment Date\",\"Months to Amortization\",\"Current Loan Delinquency Status\",\"Loan Payment History\",\"Modification Flag\",\"Mortgage Insurance Cancellation Indicator\",\"Zero Balance Code\",\"Zero Balance Effective Date\",\"UPB at the Time of Removal\",\"Repurchase Date\",\"Scheduled Principal Current\",\"Total Principal Current\",\"Unscheduled Principal Current\",\"Last Paid Installment Date\",\n",
    "                 \"Foreclosure Date\",\"Disposition Date\",\"Foreclosure Costs\",\"Property Preservation and Repair Costs\",\"Asset Recovery Costs\",\"Miscellaneous Holding Expenses and Credits\",\"Associated Taxes for Holding Property\",\"Net Sales Proceeds\",\"Credit Enhancement Proceeds\",\"Repurchase Make Whole Proceeds\",\"Other Foreclosure Proceeds\",\"Non-Interest Bearing UPB\",\"Principal Forgiveness Amount\",\"Original List Start Date\",\"Original List Price\",\"Current List Start Date\",\"Current List Price\",\"Borrower Credit Score At Issuance\",\"Co-Borrower Credit Score At Issuance\",\"Borrower Credit Score Current\",\"Co-Borrower Credit Score Current\",\"Mortgage Insurance Type\",\"Servicing Activity Indicator\",\"Current Period Modification Loss Amount\",\"Cumulative Modification Loss Amount\",\"Current Period Credit Event Net Gain or Loss\",\"Cumulative Credit Event Net Gain or Loss\",\"HomeReady® Program Indicator\",\"Foreclosure Principal Write-off Amount\",\"Relocation Mortgage Indicator\",\"Zero Balance Code Change Date\",\"Loan Holdback Indicator\",\"Loan Holdback Effective Date\",\"Delinquent Accrued Interest\",\"Property Valuation Method\",\"High Balance Loan Indicator\",\"ARM Initial Fixed-Rate Period ≤ 5 YR Indicator\",\"ARM Product Type\",\"Initial Fixed-Rate Period\",\"Interest Rate Adjustment Frequency\",\"Next Interest Rate Adjustment Date\",\"Next Payment Change Date\",\"Index\",\"ARM Cap Structure\",\"Initial Interest Rate Cap Up Percent\",\"Periodic Interest Rate Cap Up Percent\",\"Lifetime Interest Rate Cap Up Percent\",\"Mortgage Margin\",\"ARM Balloon Indicator\",\"ARM Plan Number\",\"Borrower Assistance Plan\",\"High Loan to Value (HLTV) Refinance Option Indicator\",\"Deal Name\",\"Repurchase Make Whole Proceeds Flag\",\"Alternative Delinquency Resolution\",\"Alternative Delinquency Resolution Count\",\"Total Deferral Amount\"]\n",
    "    cols = [#\"Loan Identifier\",\"Channel\",\"Seller Name\",\"Servicer Name\",\"Original Interest Rate\",\n",
    "            #\"Original UPB\",\"Original Loan Term\",\"Origination Date\",\"First Payment Date\",\n",
    "            #\"Original Loan to Value Ratio (LTV)\",\"Original Combined Loan to Value Ratio (CLTV)\",\n",
    "            #\"Number of Borrowers\",\"Debt-To-Income (DTI)\",\"Borrower Credit Score at Origination\"\n",
    "        \"Loan Identifier\",\n",
    "            \"First Time Home Buyer Indicator\",\"Loan Purpose\",\"Property Type\",\"Number of Units\",\n",
    "            \"Occupancy Status\",\"Property State\",\"Zip Code Short\",\"Mortgage Insurance Percentage\",\n",
    "            \"Co-Borrower Credit Score at Origination\",\"Mortgage Insurance Type\",\n",
    "            \"Relocation Mortgage Indicator\",\"Foreclosure Date\"]\n",
    "    usecols = list()\n",
    "    for col in cols:\n",
    "        index = full_cols.index(col)\n",
    "        usecols.append(index)      \n",
    "\n",
    "    df = pd.read_csv(tmp_buffer.open(tmp_file), sep='|', header=None, usecols=usecols)\n",
    "    print(\"Initial load shape:\", df.shape)\n",
    "    df.columns = cols\n",
    "\n",
    "    df.columns = [#\"Loan ID\",\"Origination Channel\",\"Bank\",\"Servicer\",\"Original Interest Rate\",\n",
    "                  #\"Original Mortgage Amount\",\"Original Loan Term\",\"Original Date\",\"First Payment\",\n",
    "                  #\"Original Loan-to-Value (LTV)\",\"Original Combined Loan-to-Value (CLTV)\",\n",
    "                  #\"Number of Borrowers\",\"Original Debt to Income Ratio\",\"Credit Score\"\n",
    "        \"Loan ID\",\n",
    "                  \"First Time Home Buyer\",\"Loan Purpose\",\"Property Type\",\"Number of Units\",\n",
    "                  \"Occupancy Type\",\"Property State\",\"Zip Code\",\"Mortgage Insurance %\",\n",
    "                  \"Co-Borrower Credit Score\",\"Mortgage Insurance Type\",\"Relocation Mortgage Indicator\",\n",
    "                  \"Foreclosure Date\"]\n",
    "    \n",
    "    # Drop duplicates\n",
    "    df = df.drop_duplicates(subset='Loan ID', keep='last')\n",
    "    print(\"Subsetted shape:\", df.shape)\n",
    "    \n",
    "    # Set Foreclosed to binary\n",
    "    df.loc[df['Foreclosure Date'].isnull(), 'Foreclosed'] = 0\n",
    "    df.loc[df['Foreclosure Date'].notnull(),'Foreclosed'] = 1\n",
    "    df = df.drop(columns='Foreclosure Date')\n",
    "    df['Foreclosed'] = df['Foreclosed'].astype(int)\n",
    "\n",
    "    df.to_csv(str(fld + 'Acq_' + file + '_2nd_half.csv'), index=False) \n",
    "    \n",
    "    return(df)"
   ]
  },
  {
   "cell_type": "code",
   "execution_count": 7,
   "metadata": {},
   "outputs": [
    {
     "name": "stdout",
     "output_type": "stream",
     "text": [
      "Data Load for 2003Q3\n",
      "Initial load shape: (147011199, 13)\n",
      "Subsetted shape: (1738620, 13)\n",
      "\n"
     ]
    }
   ],
   "source": [
    "fld = '../Data/'\n",
    "files = ['2003Q3']\n",
    "\n",
    "for file in files:\n",
    "    print('Data Load for', file)\n",
    "    df_2 = data_load_save(fld, file)\n",
    "    print('')"
   ]
  },
  {
   "cell_type": "code",
   "execution_count": 8,
   "metadata": {},
   "outputs": [],
   "source": [
    "df = df = pd.concat([df_1, df_2], axis=1)\n",
    "df.to_csv(str(fld + 'Acq_' + file + '.csv'), index=False)"
   ]
  }
 ],
 "metadata": {
  "kernelspec": {
   "display_name": "Python 3",
   "language": "python",
   "name": "python3"
  },
  "language_info": {
   "codemirror_mode": {
    "name": "ipython",
    "version": 3
   },
   "file_extension": ".py",
   "mimetype": "text/x-python",
   "name": "python",
   "nbconvert_exporter": "python",
   "pygments_lexer": "ipython3",
   "version": "3.7.4"
  }
 },
 "nbformat": 4,
 "nbformat_minor": 2
}
