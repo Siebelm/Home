{
 "cells": [
  {
   "cell_type": "markdown",
   "metadata": {},
   "source": [
    "# <center>Bad Bank Behavior<br>Analyzing Bank Mortgage during the 2007 Housing Bubble</center>  \n",
    "\n",
    "<center>Michael Siebel</center>\n",
    "<center>August 2020</center>\n",
    "\n",
    "<br>\n",
    "    \n",
    "## Table of Contents\n",
    "- [Goals](#Goals)<br>\n",
    "- [Load Packages](#Load-Packages)<br>\n",
    "- [Set Up Functions](#Set-Up-Functions)<br>\n",
    "- [Implement Data Cleanings](#Implement-Data-Cleanings)<br>\n",
    "- [Analysis Functions](#Analysis-Functions)<br>\n",
    "- [Imbalanced Prediction](#Imbalanced-Prediction)\n",
    "- [Downsampling Prediction](#Downsampling-Prediction)<br>\n",
    "- [Upsampling Prediction](#Upsampling-Prediction)<br>\n",
    "- [Conclusion](#Conclusion)<br>"
   ]
  },
  {
   "cell_type": "markdown",
   "metadata": {},
   "source": [
    "# Goals  \n",
    "<br>\n",
    "\n",
    " "
   ]
  },
  {
   "cell_type": "markdown",
   "metadata": {},
   "source": [
    "***"
   ]
  },
  {
   "cell_type": "markdown",
   "metadata": {},
   "source": [
    "# Load Functions"
   ]
  },
  {
   "cell_type": "code",
   "execution_count": 1,
   "metadata": {},
   "outputs": [
    {
     "name": "stderr",
     "output_type": "stream",
     "text": [
      "Using TensorFlow backend.\n"
     ]
    }
   ],
   "source": [
    "# Load functions\n",
    "%run Functions.ipynb\n",
    "pd.set_option(\"display.max_columns\", 200)\n",
    "pd.set_option('display.max_rows', 200)\n",
    "\n",
    "# Load data\n",
    "file_to_open = open('..\\Data\\Pickle\\df.pkl', 'rb') \n",
    "df  = pickle.load(file_to_open) \n",
    "file_to_open.close()\n",
    "\n",
    "# Drop mergeID column\n",
    "df = df.drop(labels='Loan ID', axis=1)\n",
    "\n",
    "# Convert Inf values to NA\n",
    "df = df.replace([np.inf, -np.inf], np.nan)"
   ]
  },
  {
   "cell_type": "code",
   "execution_count": 2,
   "metadata": {},
   "outputs": [],
   "source": [
    "## Bank and Classifier Lists\n",
    "banks = ['Bank of America','Wells Fargo Bank','CitiMortgage',\n",
    "         'JPMorgan Chase','GMAC Mortgage','SunTrust Mortgage',\n",
    "         'AmTrust Bank','PNC Bank','Flagstar Bank']\n",
    "\n",
    "banks_plus = banks + ['All Banks']\n",
    "clfs_str = ['Keras NN', 'RFC', 'RUS Boost', 'RFC PCA'] \n",
    "\n",
    "## Create an environment variable to avoid using the GPU. This can be changed.\n",
    "os.environ['CUDA_VISIBLE_DEVICES'] = '-1'"
   ]
  },
  {
   "cell_type": "markdown",
   "metadata": {},
   "source": [
    "***"
   ]
  },
  {
   "cell_type": "markdown",
   "metadata": {},
   "source": [
    "# Modeling"
   ]
  },
  {
   "cell_type": "code",
   "execution_count": 3,
   "metadata": {},
   "outputs": [
    {
     "data": {
      "text/plain": [
       "Bank of America      650087\n",
       "CitiMortgage         260698\n",
       "Wells Fargo Bank     214039\n",
       "JPMorgan Chase       202997\n",
       "GMAC Mortgage        178160\n",
       "SunTrust Mortgage    141398\n",
       "PNC Bank             100351\n",
       "AmTrust Bank          79360\n",
       "Flagstar Bank         66637\n",
       "Name: Bank, dtype: int64"
      ]
     },
     "execution_count": 3,
     "metadata": {},
     "output_type": "execute_result"
    }
   ],
   "source": [
    "# Drop \"OTHER\"  and \"SMALL LOAN BANKS\" Categories\n",
    "df = df[df['Bank'] != 'Other']\n",
    "df['Bank'].value_counts()"
   ]
  },
  {
   "cell_type": "code",
   "execution_count": 4,
   "metadata": {},
   "outputs": [
    {
     "data": {
      "text/plain": [
       "Bank of America      650087\n",
       "CitiMortgage         260698\n",
       "Wells Fargo Bank     214039\n",
       "JPMorgan Chase       202997\n",
       "GMAC Mortgage        178160\n",
       "SunTrust Mortgage    141398\n",
       "PNC Bank             100351\n",
       "AmTrust Bank          79360\n",
       "Flagstar Bank         66637\n",
       "Name: Bank, dtype: int64"
      ]
     },
     "execution_count": 4,
     "metadata": {},
     "output_type": "execute_result"
    }
   ],
   "source": [
    "# Verify Bank Counts\n",
    "df['Bank'].value_counts()"
   ]
  },
  {
   "cell_type": "code",
   "execution_count": 5,
   "metadata": {},
   "outputs": [
    {
     "name": "stdout",
     "output_type": "stream",
     "text": [
      "Shape: (480512, 71)\n"
     ]
    }
   ],
   "source": [
    "# Variables to drop\n",
    "dropvars = ['Original Date', 'File Year', 'File Quarter', 'Month', 'Region', 'FIPS',\n",
    "            'Reported Period', 'Zip Code', 'Mortgage Insurance Type', 'Property State',\n",
    "            'Original Loan Term', 'First Payment', 'Original Loan-to-Value (LTV)',\n",
    "            'Property Type', 'Number of Units']\n",
    "df = df.drop(labels=dropvars, axis=1)\n",
    "df = df.filter(regex=r'^(?!Asset).*$')\n",
    "df = df.filter(regex=r'^(?!Liab).*$')\n",
    "df = df.filter(regex=r'^(?!Eqtot).*$')\n",
    "df = df.filter(regex=r'^(?!Dep).*$')\n",
    "\n",
    "# Missingness to drop\n",
    "df = df.dropna()\n",
    "\n",
    "# All data\n",
    "y_all = df['Foreclosed']\n",
    "X_all = df.drop(labels=['Foreclosed', 'Zero Balance Code'], axis=1) \n",
    "\n",
    "# Split Train (70%)\n",
    "X_train, X_test, y_train, y_test = train_test_split(X_all, y_all, test_size = 0.7, \n",
    "                                                    stratify = y_all, random_state=2019)\n",
    "# Split Val (15%) and Test (15%)\n",
    "X_val, X_test, y_val, y_test = train_test_split(X_test, y_test, test_size = 0.5, \n",
    "                                                stratify = y_test, random_state=2019)\n",
    "\n",
    "# One hot encoding on remaining data\n",
    "Bnk_train = X_train['Bank'].reset_index().iloc[:,1]\n",
    "X_train = onehotencoding(X_train)\n",
    "Bnk_val = X_val['Bank'].reset_index().iloc[:,1]\n",
    "X_val = onehotencoding(X_val)\n",
    "Bnk_test = X_test['Bank'].reset_index().iloc[:,1]\n",
    "X_test = onehotencoding(X_test)\n",
    "\n",
    "print('Shape:', X_train.shape)"
   ]
  },
  {
   "cell_type": "code",
   "execution_count": 6,
   "metadata": {},
   "outputs": [
    {
     "data": {
      "text/plain": [
       "Index(['Reported Period', 'Original Interest Rate',\n",
       "       'Original Mortgage Amount_x', 'Original Loan Term', 'First Payment',\n",
       "       'Original Loan-to-Value (LTV)',\n",
       "       'Original Combined Loan-to-Value (CLTV)', 'Single Borrower',\n",
       "       'Original Debt to Income Ratio', 'Loan Purpose', 'Number of Units',\n",
       "       'Mortgage Insurance %', 'Harmonized Credit Score',\n",
       "       'Original Mortgage Amount_y', 'Loan Change (1 Year)',\n",
       "       'Loan Change (5 Years)', 'FIPS', 'Median Household Income', 'numemp',\n",
       "       'Asset (5 Yr)', 'Asset (1 Yr)', 'Lnlsnet (5 Yr)', 'Lnlsnet (1 Yr)',\n",
       "       'Liab (5 Yr)', 'Liab (1 Yr)', 'Dep (5 Yr)', 'Dep (1 Yr)',\n",
       "       'Eqtot (5 Yr)', 'Eqtot (1 Yr)', 'Origination Channel_B',\n",
       "       'Origination Channel_C', 'Origination Channel_R', 'Bank_AmTrust Bank',\n",
       "       'Bank_Bank of America', 'Bank_CitiMortgage', 'Bank_Flagstar Bank',\n",
       "       'Bank_GMAC Mortgage', 'Bank_JPMorgan Chase', 'Bank_PNC Bank',\n",
       "       'Bank_SunTrust Mortgage', 'Bank_Wells Fargo Bank',\n",
       "       'First Time Home Buyer_N', 'First Time Home Buyer_Y',\n",
       "       'Property Type_CO', 'Property Type_CP', 'Property Type_MH',\n",
       "       'Property Type_PU', 'Property Type_SF', 'Occupancy Type_I',\n",
       "       'Occupancy Type_P', 'Occupancy Type_S',\n",
       "       'Relocation Mortgage Indicator_N', 'Relocation Mortgage Indicator_Y',\n",
       "       'Macroeconomy PCA 1', 'Macroeconomy PCA 2', 'Macroeconomy PCA 3',\n",
       "       'Macroeconomy PCA 4'],\n",
       "      dtype='object')"
      ]
     },
     "execution_count": 6,
     "metadata": {},
     "output_type": "execute_result"
    }
   ],
   "source": [
    "# Update Macroeconomic variables (will not use test set)\n",
    "X_train, X_val, X_test = pca_fred(X_train, X_val, X_test, n_components=4)\n",
    "\n",
    "# Check columns\n",
    "X_train.columns"
   ]
  },
  {
   "cell_type": "code",
   "execution_count": 7,
   "metadata": {},
   "outputs": [],
   "source": [
    "# List of banks\n",
    "banks = ['Bank of America','Wells Fargo Bank','CitiMortgage',\n",
    "         'JPMorgan Chase','GMAC Mortgage','SunTrust Mortgage',\n",
    "         'AmTrust Bank','PNC Bank','Flagstar Bank']\n",
    "\n",
    "# Run Function\n",
    "Banks_X, Banks_y = Bank_Subsets(banks, df_X = X_train, df_y = y_train)\n",
    "Banks_X_val, Banks_y_val = Bank_Subsets(banks, df_X = X_val, df_y = y_val)\n",
    "Banks_X_test, Banks_y_test = Bank_Subsets(banks, df_X = X_test, df_y = y_test)\n",
    "X_train = X_train.filter(regex=r'^(?!Bank).*$')\n",
    "X_val = X_val.filter(regex=r'^(?!Bank).*$')\n",
    "X_test = X_test.filter(regex=r'^(?!Bank).*$')"
   ]
  },
  {
   "cell_type": "markdown",
   "metadata": {},
   "source": [
    "### 1) Run bagging models (Ind banks/all banks)\n",
    "### 2) Determine best thresholds on test data\n",
    "### 3) Middle layer vote classifier on all banks\n",
    "### 4) Vote classifier on ind banks and majority of all banks"
   ]
  },
  {
   "cell_type": "code",
   "execution_count": 8,
   "metadata": {},
   "outputs": [],
   "source": [
    "file_to_open = open('..\\Data\\Pickle\\models.pkl', 'rb') \n",
    "vote_models = pickle.load(file_to_open) \n",
    "file_to_open.close()\n",
    "\n",
    "file_to_open = open('..\\Data\\Pickle\\model_thresholds.pkl', 'rb') \n",
    "vote_thresholds = pickle.load(file_to_open) \n",
    "file_to_open.close()\n",
    "\n",
    "file_to_open = open('..\\Data\\Pickle\\predictions.pkl', 'rb') \n",
    "vote_pred = pickle.load(file_to_open) \n",
    "file_to_open.close()\n",
    "\n",
    "file_to_open = open('..\\Data\\Pickle\\df_votes.pkl', 'rb') \n",
    "votes = pickle.load(file_to_open) \n",
    "file_to_open.close()"
   ]
  },
  {
   "cell_type": "markdown",
   "metadata": {},
   "source": [
    "# Final vote"
   ]
  },
  {
   "cell_type": "code",
   "execution_count": 9,
   "metadata": {},
   "outputs": [
    {
     "name": "stdout",
     "output_type": "stream",
     "text": [
      "Bank of America\n",
      "Predicted Foreclosures 0.11\n",
      "Actual Foreclosures 0.12\n",
      "F1 Score after Voting 0.38\n",
      "Recall after Voting 0.37\n",
      "Precision after Voting 0.4\n",
      "\n",
      "Wells Fargo Bank\n",
      "Predicted Foreclosures 0.06\n",
      "Actual Foreclosures 0.08\n",
      "F1 Score after Voting 0.31\n",
      "Recall after Voting 0.27\n",
      "Precision after Voting 0.35\n",
      "\n",
      "CitiMortgage\n",
      "Predicted Foreclosures 0.05\n",
      "Actual Foreclosures 0.08\n",
      "F1 Score after Voting 0.29\n",
      "Recall after Voting 0.25\n",
      "Precision after Voting 0.36\n",
      "\n",
      "JPMorgan Chase\n",
      "Predicted Foreclosures 0.06\n",
      "Actual Foreclosures 0.08\n",
      "F1 Score after Voting 0.33\n",
      "Recall after Voting 0.29\n",
      "Precision after Voting 0.38\n",
      "\n",
      "GMAC Mortgage\n",
      "Predicted Foreclosures 0.06\n",
      "Actual Foreclosures 0.1\n",
      "F1 Score after Voting 0.29\n",
      "Recall after Voting 0.24\n",
      "Precision after Voting 0.37\n",
      "\n",
      "SunTrust Mortgage\n",
      "Predicted Foreclosures 0.07\n",
      "Actual Foreclosures 0.1\n",
      "F1 Score after Voting 0.32\n",
      "Recall after Voting 0.27\n",
      "Precision after Voting 0.39\n",
      "\n",
      "AmTrust Bank\n",
      "Predicted Foreclosures 0.06\n",
      "Actual Foreclosures 0.1\n",
      "F1 Score after Voting 0.25\n",
      "Recall after Voting 0.21\n",
      "Precision after Voting 0.33\n",
      "\n",
      "PNC Bank\n",
      "Predicted Foreclosures 0.06\n",
      "Actual Foreclosures 0.09\n",
      "F1 Score after Voting 0.29\n",
      "Recall after Voting 0.23\n",
      "Precision after Voting 0.38\n",
      "\n",
      "Flagstar Bank\n",
      "Predicted Foreclosures 0.1\n",
      "Actual Foreclosures 0.12\n",
      "F1 Score after Voting 0.33\n",
      "Recall after Voting 0.3\n",
      "Precision after Voting 0.37\n",
      "\n",
      "Combined Predictions\n",
      "Predicted Foreclosures 0.08\n",
      "Actual Foreclosures 0.1\n",
      "F1 Score after Voting 0.34\n",
      "Recall after Voting 0.31\n",
      "Precision after Voting 0.38\n"
     ]
    }
   ],
   "source": [
    "combined_votes = pd.Series()\n",
    "combined_actuals = pd.Series()\n",
    "\n",
    "# Middle layer\n",
    "for bank_str in banks:\n",
    "    print(bank_str)\n",
    "    all_bnks_pred = ( votes['All Banks'].iloc[:,:len(clfs_str)].sum(axis=1) / \n",
    "                      len(clfs_str) ) \\\n",
    "                      .map(lambda x: 1 if x == 1.0 else 0)    \n",
    "    votes[bank_str].loc[:,'All Banks'] = all_bnks_pred.loc[Bnk_test == bank_str].reset_index().iloc[:,1]\n",
    "    total_vote = votes[bank_str].loc[:,'All Banks']\n",
    "    print('Predicted Foreclosures', np.mean(total_vote).round(2))\n",
    "    print('Actual Foreclosures', np.mean(Banks_y_test[bank_str]).round(2))\n",
    "    print('F1 Score after Voting', f1_score(Banks_y_test[bank_str], total_vote).round(2))\n",
    "    print('Recall after Voting', recall_score(Banks_y_test[bank_str], total_vote).round(2))        \n",
    "    print('Precision after Voting', precision_score(Banks_y_test[bank_str], total_vote).round(2))    \n",
    "    print('')\n",
    "    \n",
    "    # Combine banks\n",
    "    combined_votes = pd.concat([combined_votes, total_vote], axis=0)\n",
    "    combined_actuals = pd.concat([combined_actuals, Banks_y_test[bank_str]], axis=0)\n",
    "    \n",
    "print('Combined Predictions')\n",
    "print('Predicted Foreclosures', np.mean(combined_votes).round(2))\n",
    "print('Actual Foreclosures', np.mean(combined_actuals).round(2))\n",
    "print('F1 Score after Voting', f1_score(combined_actuals, combined_votes).round(2))\n",
    "print('Recall after Voting', recall_score(combined_actuals, combined_votes).round(2))        \n",
    "print('Precision after Voting', precision_score(combined_actuals, combined_votes).round(2))    "
   ]
  },
  {
   "cell_type": "code",
   "execution_count": 10,
   "metadata": {
    "scrolled": true
   },
   "outputs": [
    {
     "name": "stdout",
     "output_type": "stream",
     "text": [
      "Bank of America\n",
      "Predicted Foreclosures 0.12\n",
      "Actual Foreclosures 0.12\n",
      "F1 Score after Voting 0.41\n",
      "Recall after Voting 0.42\n",
      "Precision after Voting 0.4\n",
      "\n",
      "Wells Fargo Bank\n",
      "Predicted Foreclosures 0.07\n",
      "Actual Foreclosures 0.08\n",
      "F1 Score after Voting 0.33\n",
      "Recall after Voting 0.33\n",
      "Precision after Voting 0.34\n",
      "\n",
      "CitiMortgage\n",
      "Predicted Foreclosures 0.07\n",
      "Actual Foreclosures 0.08\n",
      "F1 Score after Voting 0.31\n",
      "Recall after Voting 0.3\n",
      "Precision after Voting 0.34\n",
      "\n",
      "JPMorgan Chase\n",
      "Predicted Foreclosures 0.07\n",
      "Actual Foreclosures 0.08\n",
      "F1 Score after Voting 0.35\n",
      "Recall after Voting 0.33\n",
      "Precision after Voting 0.38\n",
      "\n",
      "GMAC Mortgage\n",
      "Predicted Foreclosures 0.1\n",
      "Actual Foreclosures 0.1\n",
      "F1 Score after Voting 0.34\n",
      "Recall after Voting 0.34\n",
      "Precision after Voting 0.34\n",
      "\n",
      "SunTrust Mortgage\n",
      "Predicted Foreclosures 0.09\n",
      "Actual Foreclosures 0.1\n",
      "F1 Score after Voting 0.37\n",
      "Recall after Voting 0.36\n",
      "Precision after Voting 0.39\n",
      "\n",
      "AmTrust Bank\n",
      "Predicted Foreclosures 0.09\n",
      "Actual Foreclosures 0.1\n",
      "F1 Score after Voting 0.31\n",
      "Recall after Voting 0.3\n",
      "Precision after Voting 0.33\n",
      "\n",
      "PNC Bank\n",
      "Predicted Foreclosures 0.1\n",
      "Actual Foreclosures 0.09\n",
      "F1 Score after Voting 0.32\n",
      "Recall after Voting 0.33\n",
      "Precision after Voting 0.31\n",
      "\n",
      "Flagstar Bank\n",
      "Predicted Foreclosures 0.12\n",
      "Actual Foreclosures 0.12\n",
      "F1 Score after Voting 0.36\n",
      "Recall after Voting 0.36\n",
      "Precision after Voting 0.36\n",
      "\n",
      "Combined Predictions\n",
      "Predicted Foreclosures 0.1\n",
      "Actual Foreclosures 0.1\n",
      "F1 Score after Voting 0.37\n",
      "Recall after Voting 0.37\n",
      "Precision after Voting 0.37\n",
      "Accuracy after Voting 0.88\n",
      "\n",
      "Confusion Matrix\n",
      "[[472034  33989]\n",
      " [ 34314  20262]]\n"
     ]
    }
   ],
   "source": [
    "combined_votes = pd.Series()\n",
    "combined_actuals = pd.Series()\n",
    "\n",
    "# Final vote\n",
    "for bank_str in banks:\n",
    "    print(bank_str)\n",
    "    votes[bank_str].loc[:,'Majority'] = ( votes[bank_str].iloc[:,:(len(clfs_str)+1)].sum(axis=1) / \n",
    "                                        ( len(clfs_str)+1 ) ) \\\n",
    "                                        .map(lambda x: 1 if x > 0.67 else 0)\n",
    "    total_vote = votes[bank_str].loc[:,'Majority']\n",
    "    print('Predicted Foreclosures', np.mean(total_vote).round(2))\n",
    "    print('Actual Foreclosures', np.mean(Banks_y_test[bank_str]).round(2))\n",
    "    print('F1 Score after Voting', f1_score(Banks_y_test[bank_str], total_vote).round(2))\n",
    "    print('Recall after Voting', recall_score(Banks_y_test[bank_str], total_vote).round(2))        \n",
    "    print('Precision after Voting', precision_score(Banks_y_test[bank_str], total_vote).round(2))    \n",
    "    print('')\n",
    "    \n",
    "    # Combine banks\n",
    "    combined_votes = pd.concat([combined_votes, total_vote], axis=0)\n",
    "    combined_actuals = pd.concat([combined_actuals, Banks_y_test[bank_str]], axis=0)\n",
    "    \n",
    "print('Combined Predictions')\n",
    "print('Predicted Foreclosures', np.mean(combined_votes).round(2))\n",
    "print('Actual Foreclosures', np.mean(combined_actuals).round(2))\n",
    "print('F1 Score after Voting', f1_score(combined_actuals, combined_votes).round(2))\n",
    "print('Recall after Voting', recall_score(combined_actuals, combined_votes).round(2))        \n",
    "print('Precision after Voting', precision_score(combined_actuals, combined_votes).round(2))   \n",
    "print('Accuracy after Voting', accuracy_score(combined_actuals, combined_votes).round(2)) \n",
    "print('')\n",
    "print('Confusion Matrix')\n",
    "print(confusion_matrix(combined_actuals, combined_votes))"
   ]
  },
  {
   "cell_type": "markdown",
   "metadata": {},
   "source": [
    "# Final Scores\n",
    "<br>\n",
    "\n",
    "#### Unanimous vote in middle layer\n",
    "#### 4/5ths vote in final layer\n",
    "- Combined Predictions\n",
    "- Predicted Foreclosures 0.1\n",
    "- Actual Foreclosures 0.1\n",
    "- F1 Score after Voting 0.37\n",
    "- Recall after Voting 0.37\n",
    "- Precision after Voting 0.37\n",
    "- Accuracy after Voting 0.88"
   ]
  },
  {
   "cell_type": "markdown",
   "metadata": {},
   "source": [
    "# Predictions"
   ]
  },
  {
   "cell_type": "code",
   "execution_count": null,
   "metadata": {},
   "outputs": [],
   "source": [
    "# Predicted Probabilities\n",
    "def proba_func(X, bank_str, bank_dict, clfs_str = clfs_str,\n",
    "               vote_models = vote_models, vote_thresholds = vote_thresholds):\n",
    "    \n",
    "    # Dictionaries\n",
    "    bank_dict[bank_str] = pd.DataFrame()\n",
    "    bank_dict['All Banks'] = pd.DataFrame()\n",
    "    \n",
    "    # Bottom Layer\n",
    "    for clf in clfs_str:\n",
    "        if clf == 'Keras NN':\n",
    "            col = 0\n",
    "            ## Bank-specific\n",
    "            ### Predicted Probility\n",
    "            proba = pd.DataFrame(vote_models[bank_str][clf].predict_proba(X[bank_str], batch_size=1000)).iloc[:,col]\n",
    "            ### Classification\n",
    "            bank_dict[bank_str][clf] = proba.map(lambda x: 1 if x >= vote_thresholds[bank_str][clf] else 0)                                                 \n",
    "    \n",
    "            ## All Banks\n",
    "            ### Predicted Probility\n",
    "            proba = pd.DataFrame(vote_models['All Banks'][clf].predict_proba(X[bank_str], batch_size=1000)).iloc[:,col]\n",
    "            ### Classification\n",
    "            bank_dict['All Banks'][clf] = proba.map(lambda x: 1 if x >= vote_thresholds['All Banks'][clf] else 0)\n",
    "\n",
    "        else:\n",
    "            col = 1\n",
    "            ## Bank-specific\n",
    "            ### Predicted Probility\n",
    "            proba = pd.DataFrame(vote_models[bank_str][clf].predict_proba(X[bank_str])).iloc[:,col]\n",
    "            ### Classification\n",
    "            bank_dict[bank_str][clf] = proba.map(lambda x: 1 if x >= vote_thresholds[bank_str][clf] else 0)                                                 \n",
    "    \n",
    "            ## All Banks\n",
    "            ### Predicted Probility\n",
    "            proba = pd.DataFrame(vote_models['All Banks'][clf].predict_proba(X[bank_str])).iloc[:,col]\n",
    "            ### Classification\n",
    "            bank_dict['All Banks'][clf] = proba.map(lambda x: 1 if x >= vote_thresholds['All Banks'][clf] else 0)\n",
    "\n",
    "    ## Vote\n",
    "    votes = votes_clf_func(bank_dict, bnk_list = [bank_str, 'All Banks'], \n",
    "                           clfs_str = clfs_str, X = Bnk_test)\n",
    "\n",
    "    # Middle Layer\n",
    "    all_bnks_pred = ( votes['All Banks'].iloc[:,:len(clfs_str)].sum(axis=1) / \n",
    "                      len(clfs_str) ) \\\n",
    "                    .map(lambda x: 1 if x == 1.0 else 0)    \n",
    "    votes[bank_str].loc[:,'All Banks'] = all_bnks_pred.loc[Bnk_test == bank_str].reset_index().iloc[:,1]\n",
    "\n",
    "    # Final vote\n",
    "    votes[bank_str].loc[:,'Majority'] = ( votes[bank_str].iloc[:,:(len(clfs_str)+1)].sum(axis=1) / \n",
    "                                        ( len(clfs_str)+1 ) ) \\\n",
    "                                        .map(lambda x: 1 if x > 0.67 else 0)\n",
    "\n",
    "    return votes[bank_str].loc[:,'Majority']"
   ]
  },
  {
   "cell_type": "code",
   "execution_count": null,
   "metadata": {},
   "outputs": [],
   "source": [
    "bank_dict = {}\n",
    "test_pp = {}\n",
    "combined_votes = pd.Series()\n",
    "combined_actuals = pd.Series()\n",
    "\n",
    "for bank_str in banks:\n",
    "    print(bank_str)\n",
    "    \n",
    "    test_pp[bank_str] = pd.DataFrame()\n",
    "    test_pp[bank_str] = proba_func(Banks_X_test, bank_str, bank_dict, clfs_str,\n",
    "                                   vote_models, vote_thresholds)\n",
    "    print('Predicted Foreclosures', np.mean(test_pp[bank_str]).round(2))\n",
    "    print('Actual Foreclosures', np.mean(Banks_y_test[bank_str]).round(2))\n",
    "    print('F1 Score after Voting', f1_score(Banks_y_test[bank_str], test_pp[bank_str]).round(2))\n",
    "    print('Recall after Voting', recall_score(Banks_y_test[bank_str], test_pp[bank_str]).round(2))        \n",
    "    print('Precision after Voting', precision_score(Banks_y_test[bank_str], test_pp[bank_str]).round(2))  \n",
    "    print('')\n",
    "\n",
    "    # Combine banks\n",
    "    combined_votes = pd.concat([combined_votes, test_pp[bank_str]], axis=0)\n",
    "    combined_actuals = pd.concat([combined_actuals, Banks_y_test[bank_str]], axis=0)\n",
    "    \n",
    "print('Combined Predictions')\n",
    "print('Predicted Foreclosures', np.mean(combined_votes).round(2))\n",
    "print('Actual Foreclosures', np.mean(combined_actuals).round(2))\n",
    "print('F1 Score after Voting', f1_score(combined_actuals, combined_votes).round(2))\n",
    "print('Recall after Voting', recall_score(combined_actuals, combined_votes).round(2))        \n",
    "print('Precision after Voting', precision_score(combined_actuals, combined_votes).round(2))   \n",
    "print('Accuracy after Voting', accuracy_score(combined_actuals, combined_votes).round(2)) \n",
    "print('')\n",
    "print('Confusion Matrix')\n",
    "print(confusion_matrix(combined_actuals, combined_votes))"
   ]
  },
  {
   "cell_type": "code",
   "execution_count": null,
   "metadata": {},
   "outputs": [],
   "source": [
    "# Predictions on full test data\n",
    "file_to_store = open(\"..\\Data\\Pickle\\pred_votes_test.pkl\", \"wb\")\n",
    "pickle.dump(votes, file_to_store)\n",
    "file_to_store.close()"
   ]
  },
  {
   "cell_type": "code",
   "execution_count": null,
   "metadata": {},
   "outputs": [],
   "source": [
    "pp_1 = pd.DataFrame(columns=X_train.columns)\n",
    "pp_1"
   ]
  },
  {
   "cell_type": "code",
   "execution_count": null,
   "metadata": {},
   "outputs": [],
   "source": []
  },
  {
   "cell_type": "code",
   "execution_count": null,
   "metadata": {},
   "outputs": [],
   "source": []
  },
  {
   "cell_type": "code",
   "execution_count": null,
   "metadata": {},
   "outputs": [],
   "source": []
  },
  {
   "cell_type": "code",
   "execution_count": null,
   "metadata": {},
   "outputs": [],
   "source": [
    "'''\n",
    "Index(['Reported Period', 'Original Interest Rate',\n",
    "       'Original Mortgage Amount_x', 'Original Loan Term', 'First Payment',\n",
    "       'Original Loan-to-Value (LTV)',\n",
    "       'Original Combined Loan-to-Value (CLTV)', 'Single Borrower',\n",
    "       'Original Debt to Income Ratio', 'Loan Purpose', 'Number of Units',\n",
    "       'Mortgage Insurance %', 'Harmonized Credit Score',\n",
    "       'Original Mortgage Amount_y', 'Loan Change (1 Year)',\n",
    "       'Loan Change (5 Years)', 'FIPS', 'Median Household Income', 'numemp',\n",
    "       'Asset (5 Yr)', 'Asset (1 Yr)', 'Lnlsnet (5 Yr)', 'Lnlsnet (1 Yr)',\n",
    "       'Liab (5 Yr)', 'Liab (1 Yr)', 'Dep (5 Yr)', 'Dep (1 Yr)',\n",
    "       'Eqtot (5 Yr)', 'Eqtot (1 Yr)', 'Origination Channel_B',\n",
    "       'Origination Channel_C', 'Origination Channel_R', 'Bank_AmTrust Bank',\n",
    "       'Bank_Bank of America', 'Bank_CitiMortgage', 'Bank_Flagstar Bank',\n",
    "       'Bank_GMAC Mortgage', 'Bank_JPMorgan Chase', 'Bank_PNC Bank',\n",
    "       'Bank_SunTrust Mortgage', 'Bank_Wells Fargo Bank',\n",
    "       'First Time Home Buyer_N', 'First Time Home Buyer_Y',\n",
    "       'Property Type_CO', 'Property Type_CP', 'Property Type_MH',\n",
    "       'Property Type_PU', 'Property Type_SF', 'Occupancy Type_I',\n",
    "       'Occupancy Type_P', 'Occupancy Type_S',\n",
    "       'Relocation Mortgage Indicator_N', 'Relocation Mortgage Indicator_Y',\n",
    "       'Macroeconomy PCA 1', 'Macroeconomy PCA 2', 'Macroeconomy PCA 3',\n",
    "       'Macroeconomy PCA 4']\n",
    "'''"
   ]
  }
 ],
 "metadata": {
  "kernelspec": {
   "display_name": "Python 3",
   "language": "python",
   "name": "python3"
  },
  "language_info": {
   "codemirror_mode": {
    "name": "ipython",
    "version": 3
   },
   "file_extension": ".py",
   "mimetype": "text/x-python",
   "name": "python",
   "nbconvert_exporter": "python",
   "pygments_lexer": "ipython3",
   "version": "3.7.4"
  }
 },
 "nbformat": 4,
 "nbformat_minor": 2
}
