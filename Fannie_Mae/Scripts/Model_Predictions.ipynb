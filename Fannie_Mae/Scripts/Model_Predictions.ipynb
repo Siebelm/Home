{
 "cells": [
  {
   "cell_type": "markdown",
   "metadata": {},
   "source": [
    "# <center>Bad Bank Behavior<br>Analyzing Bank Mortgage during the 2008 Housing Bubble</center>  \n",
    "\n",
    "<center>Michael Siebel</center>\n",
    "<center>December 2020</center>\n",
    "\n",
    "<br>\n",
    "    \n",
    "## Table of Contents\n",
    "- [Goals](#Goals)<br>\n",
    "- [Load Functions](#Load-Functions)<br>\n",
    "- [Data Wrangling](#Data-Wrangling)<br>\n",
    "- [Improved Predictions](#Improved-Predictions)<br>\n",
    "- [Weakened Predictions](#Weakened-Predictions)"
   ]
  },
  {
   "cell_type": "markdown",
   "metadata": {},
   "source": [
    "# Goals  \n",
    "<br>\n",
    "\n",
    " "
   ]
  },
  {
   "cell_type": "markdown",
   "metadata": {},
   "source": [
    "***"
   ]
  },
  {
   "cell_type": "markdown",
   "metadata": {},
   "source": [
    "# Load Functions"
   ]
  },
  {
   "cell_type": "code",
   "execution_count": 1,
   "metadata": {},
   "outputs": [
    {
     "name": "stderr",
     "output_type": "stream",
     "text": [
      "Using TensorFlow backend.\n"
     ]
    }
   ],
   "source": [
    "# Load functions\n",
    "%run Functions.ipynb\n",
    "pd.set_option(\"display.max_columns\", 200)\n",
    "pd.set_option('display.max_rows', 200)\n",
    "\n",
    "# Load data\n",
    "file_to_open = open('..\\Data\\Pickle\\df.pkl', 'rb') \n",
    "df  = pickle.load(file_to_open) \n",
    "file_to_open.close()\n",
    "\n",
    "# Drop mergeID column\n",
    "df = df.drop(labels='Loan ID', axis=1)\n",
    "\n",
    "# Convert Inf values to NA\n",
    "df = df.replace([np.inf, -np.inf], np.nan)"
   ]
  },
  {
   "cell_type": "code",
   "execution_count": 2,
   "metadata": {},
   "outputs": [],
   "source": [
    "## Bank and Classifier Lists\n",
    "banks = ['Bank of America','Wells Fargo Bank','CitiMortgage',\n",
    "         'JPMorgan Chase','GMAC Mortgage','SunTrust Mortgage',\n",
    "         'AmTrust Bank','PNC Bank','Flagstar Bank']\n",
    "\n",
    "banks_plus = banks + ['All Banks']\n",
    "clfs_str = ['RFC', 'RFC PCA', 'RUS Boost'] \n",
    "\n",
    "## Create an environment variable to avoid using the GPU. This can be changed.\n",
    "os.environ['CUDA_VISIBLE_DEVICES'] = '-1'"
   ]
  },
  {
   "cell_type": "markdown",
   "metadata": {},
   "source": [
    "***"
   ]
  },
  {
   "cell_type": "markdown",
   "metadata": {},
   "source": [
    "# Data Wrangling"
   ]
  },
  {
   "cell_type": "code",
   "execution_count": 3,
   "metadata": {},
   "outputs": [
    {
     "data": {
      "text/plain": [
       "Bank of America      650087\n",
       "CitiMortgage         260698\n",
       "Wells Fargo Bank     214039\n",
       "JPMorgan Chase       202997\n",
       "GMAC Mortgage        178160\n",
       "SunTrust Mortgage    141398\n",
       "PNC Bank             100351\n",
       "AmTrust Bank          79360\n",
       "Flagstar Bank         66637\n",
       "Name: Bank, dtype: int64"
      ]
     },
     "execution_count": 3,
     "metadata": {},
     "output_type": "execute_result"
    }
   ],
   "source": [
    "# Verify Bank Counts\n",
    "df['Bank'].value_counts()"
   ]
  },
  {
   "cell_type": "code",
   "execution_count": 4,
   "metadata": {},
   "outputs": [],
   "source": [
    "# Variables to drop\n",
    "dropvars = ['File Year', 'Year', 'Month', 'Region', 'FIPS',\n",
    "            'Zip Code', 'Mortgage Insurance Type', 'Property State',\n",
    "            'First Payment', 'Original Loan-to-Value (LTV)']\n",
    "df = df.drop(labels=dropvars, axis=1)\n",
    "df = df.filter(regex=r'^(?!Asset).*$')\n",
    "df = df.filter(regex=r'^(?!Liab).*$')\n",
    "df = df.filter(regex=r'^(?!Eqtot).*$')\n",
    "df = df.filter(regex=r'^(?!Dep).*$')\n",
    "\n",
    "# Convert Original Date to Numeric\n",
    "df['Reported Period'] = df['Reported Period'].astype(float).astype(int).astype(str)\n",
    "df['Reported Period'] = df['Reported Period'].apply(lambda x: x.zfill(6))\n",
    "df['Reported Period'] = df['Reported Period'].map(lambda x: x[:2] + '/' + x[2:])\n",
    "df = change_date(df, 'Reported Period')\n",
    "df = change_date(df, 'Original Date')\n",
    "\n",
    "# Missingness to drop\n",
    "df = df.dropna()\n",
    "\n",
    "# All data\n",
    "y_all = df['Foreclosed']\n",
    "X_all = df.drop(labels=['Foreclosed', 'Zero Balance Code'], axis=1) \n",
    "\n",
    "# Split Train (70%)\n",
    "X_train, X_test, y_train, y_test = train_test_split(X_all, y_all, test_size = 0.7, \n",
    "                                                    stratify = y_all, random_state=2019)\n",
    "# Split Val (15%) and Test (15%)\n",
    "X_val, X_test, y_val, y_test = train_test_split(X_test, y_test, test_size = 0.5, \n",
    "                                                stratify = y_test, random_state=2019)\n",
    "\n",
    "# One hot encoding on remaining data\n",
    "Bnk_train = X_train['Bank'].reset_index().iloc[:,1]\n",
    "X_train = onehotencoding(X_train)\n",
    "Bnk_val = X_val['Bank'].reset_index().iloc[:,1]\n",
    "X_val = onehotencoding(X_val)\n",
    "Bnk_test = X_test['Bank'].reset_index().iloc[:,1]\n",
    "X_test = onehotencoding(X_test)"
   ]
  },
  {
   "cell_type": "code",
   "execution_count": 5,
   "metadata": {},
   "outputs": [
    {
     "data": {
      "text/plain": [
       "Index(['Reported Period', 'Original Interest Rate', 'Original Mortgage Amount',\n",
       "       'Original Loan Term', 'Original Date',\n",
       "       'Original Combined Loan-to-Value (CLTV)', 'Single Borrower',\n",
       "       'Original Debt to Income Ratio', 'Loan Purpose', 'Number of Units',\n",
       "       'Mortgage Insurance %', 'Credit Score', 'Loan Change (1 Year)',\n",
       "       'Loan Change (5 Years)', 'Median Household Income',\n",
       "       'Number of Employees', 'Lnlsnet (5 Yr)', 'Lnlsnet (1 Yr)',\n",
       "       'Origination Channel_B', 'Origination Channel_C',\n",
       "       'Origination Channel_R', 'Bank_AmTrust Bank', 'Bank_Bank of America',\n",
       "       'Bank_CitiMortgage', 'Bank_Flagstar Bank', 'Bank_GMAC Mortgage',\n",
       "       'Bank_JPMorgan Chase', 'Bank_PNC Bank', 'Bank_SunTrust Mortgage',\n",
       "       'Bank_Wells Fargo Bank', 'First Time Home Buyer_N',\n",
       "       'First Time Home Buyer_Y', 'Property Type_CO', 'Property Type_CP',\n",
       "       'Property Type_MH', 'Property Type_PU', 'Property Type_SF',\n",
       "       'Occupancy Type_I', 'Occupancy Type_P', 'Occupancy Type_S',\n",
       "       'Relocation Mortgage Indicator_N', 'Relocation Mortgage Indicator_Y',\n",
       "       'File Quarter_Q1', 'File Quarter_Q2', 'File Quarter_Q3',\n",
       "       'File Quarter_Q4', 'Macroeconomy PCA 1', 'Macroeconomy PCA 2',\n",
       "       'Macroeconomy PCA 3', 'Macroeconomy PCA 4', 'Macroeconomy PCA 5'],\n",
       "      dtype='object')"
      ]
     },
     "execution_count": 5,
     "metadata": {},
     "output_type": "execute_result"
    }
   ],
   "source": [
    "# Update Macroeconomic variables (will not use test set)\n",
    "X_train, X_val, X_test = pca_fred(X_train, X_val, X_test)\n",
    "\n",
    "# Check columns\n",
    "X_train.columns"
   ]
  },
  {
   "cell_type": "code",
   "execution_count": 6,
   "metadata": {},
   "outputs": [
    {
     "name": "stdout",
     "output_type": "stream",
     "text": [
      "Shape: (483564, 42)\n"
     ]
    }
   ],
   "source": [
    "# List of banks\n",
    "banks = ['Bank of America','Wells Fargo Bank','CitiMortgage',\n",
    "         'JPMorgan Chase','GMAC Mortgage','SunTrust Mortgage',\n",
    "         'AmTrust Bank','PNC Bank','Flagstar Bank']\n",
    "\n",
    "# Run Function\n",
    "Banks_X, Banks_y = Bank_Subsets(banks, df_X = X_train, df_y = y_train)\n",
    "Banks_X_val, Banks_y_val = Bank_Subsets(banks, df_X = X_val, df_y = y_val)\n",
    "Banks_X_test, Banks_y_test = Bank_Subsets(banks, df_X = X_test, df_y = y_test)\n",
    "X_train = X_train.filter(regex=r'^(?!Bank).*$')\n",
    "X_val = X_val.filter(regex=r'^(?!Bank).*$')\n",
    "X_test = X_test.filter(regex=r'^(?!Bank).*$')\n",
    "\n",
    "# All Banks\n",
    "Banks_y['All Banks'] = y_train\n",
    "Banks_X['All Banks'] = X_train\n",
    "Banks_y_val['All Banks'] = y_val\n",
    "Banks_X_val['All Banks'] = X_val\n",
    "Banks_y_test['All Banks'] = y_test\n",
    "Banks_X_test['All Banks'] = X_test\n",
    "\n",
    "print('Shape:', X_train.shape)"
   ]
  },
  {
   "cell_type": "markdown",
   "metadata": {},
   "source": [
    "***"
   ]
  },
  {
   "cell_type": "markdown",
   "metadata": {},
   "source": [
    "# Improved Assumptions"
   ]
  },
  {
   "cell_type": "code",
   "execution_count": 7,
   "metadata": {},
   "outputs": [],
   "source": [
    "# Loading models\n",
    "file_to_open = open('..\\Data\\Pickle\\models.pkl', 'rb') \n",
    "vote_models = pickle.load(file_to_open) \n",
    "file_to_open.close()\n",
    "\n",
    "# Loading Thresholds\n",
    "file_to_open = open('..\\Data\\Pickle\\model_thresholds.pkl', 'rb') \n",
    "vote_thresholds = pickle.load(file_to_open) \n",
    "file_to_open.close()"
   ]
  },
  {
   "cell_type": "code",
   "execution_count": 8,
   "metadata": {},
   "outputs": [],
   "source": [
    "# Combine Train, Validation, and Testing Data\n",
    "X = pd.concat([X_train, X_val, X_test], axis=0).reset_index().iloc[:,1:]\n",
    "y = pd.concat([y_train, y_val, y_test], axis=0).reset_index().iloc[:,1]\n",
    "bank_idx = pd.concat([Bnk_train, Bnk_val, Bnk_test], axis=0).reset_index().iloc[:,1]\n",
    "\n",
    "# Initiate Dictionaries\n",
    "better = {}\n",
    "better_value = {}\n",
    "best = {}\n",
    "best_value = {}\n",
    "\n",
    "worse = {}\n",
    "worse_value = {}\n",
    "worst = {}\n",
    "worst_value = {}"
   ]
  },
  {
   "cell_type": "code",
   "execution_count": null,
   "metadata": {},
   "outputs": [
    {
     "name": "stdout",
     "output_type": "stream",
     "text": [
      "Credit Score Distribution\n",
      "count    1611881.0\n",
      "mean         719.0\n",
      "std           59.0\n",
      "min          330.0\n",
      "25%          675.0\n",
      "50%          724.0\n",
      "75%          770.0\n",
      "max          850.0\n",
      "Name: Credit Score, dtype: float64\n",
      "\n",
      "Converting Credit Score to the 75 percentile: 770.0\n",
      "\n"
     ]
    }
   ],
   "source": [
    "# Credit Score\n",
    "print('Credit Score Distribution')\n",
    "print(X['Credit Score'].describe().round(0))\n",
    "print('')\n",
    "better['Credit Score'], \\\n",
    "better_value['Credit Score'] = changing_assumptions(\n",
    "    'Credit Score', 75, \n",
    "    banks, bank_idx, X,\n",
    "    vote_models, vote_thresholds, \n",
    "    Banks_X, Banks_X_val, Banks_X_test,\n",
    "    Banks_y, Banks_y_val, Banks_y_test\n",
    ")"
   ]
  },
  {
   "cell_type": "code",
   "execution_count": null,
   "metadata": {},
   "outputs": [],
   "source": [
    "# Debt-to-Income\n",
    "print('Debt-to-Income Distribution')\n",
    "print(X['Original Debt to Income Ratio'].describe().round(0))\n",
    "print('')\n",
    "better['Original Debt to Income Ratio'], \\\n",
    "better_value['Original Debt to Income Ratio'] = changing_assumptions('Original Debt to Income Ratio', 25, \n",
    "                                  banks, bank_idx, X, \n",
    "                                  vote_models, vote_thresholds, \n",
    "                                  Banks_X, Banks_X_val, Banks_X_test,\n",
    "                                  Banks_y, Banks_y_val, Banks_y_test)"
   ]
  },
  {
   "cell_type": "code",
   "execution_count": null,
   "metadata": {},
   "outputs": [],
   "source": [
    "# Loan to Value\n",
    "print('Loan-to-Value Distribution')\n",
    "print(X['Original Combined Loan-to-Value (CLTV)'].describe().round(0))\n",
    "print('')\n",
    "better['Original Combined Loan-to-Value (CLTV)'], \\\n",
    "better_value['Original Combined Loan-to-Value (CLTV)'] = changing_assumptions(\n",
    "    'Original Combined Loan-to-Value (CLTV)', 25, \n",
    "    banks, bank_idx, X, \n",
    "    vote_models, vote_thresholds, \n",
    "    Banks_X, Banks_X_val, Banks_X_test,\n",
    "    Banks_y, Banks_y_val, Banks_y_test\n",
    ")"
   ]
  },
  {
   "cell_type": "code",
   "execution_count": null,
   "metadata": {},
   "outputs": [],
   "source": [
    "# Median Household Income\n",
    "print('Median Household Income Distribution')\n",
    "print(X['Median Household Income'].describe().round(2))\n",
    "print('')\n",
    "better['Median Household Income'], \\\n",
    "better_value['Median Household Income'] = changing_assumptions(\n",
    "    'Median Household Income', 75, \n",
    "    banks, bank_idx, X, \n",
    "    vote_models, vote_thresholds, \n",
    "    Banks_X, Banks_X_val, Banks_X_test,\n",
    "    Banks_y, Banks_y_val, Banks_y_test\n",
    ")"
   ]
  },
  {
   "cell_type": "code",
   "execution_count": null,
   "metadata": {},
   "outputs": [],
   "source": [
    "# Median Household Income (Best Assumption)\n",
    "print('Median Household Income Distribution')\n",
    "print(X['Median Household Income'].describe().round(2))\n",
    "print('')\n",
    "best['Median Household Income'], \\\n",
    "best_value['Median Household Income'] = changing_assumptions(\n",
    "    'Median Household Income', 100, \n",
    "    banks, bank_idx, X, \n",
    "    vote_models, vote_thresholds, \n",
    "    Banks_X, Banks_X_val, Banks_X_test,\n",
    "    Banks_y, Banks_y_val, Banks_y_test\n",
    ")"
   ]
  },
  {
   "cell_type": "code",
   "execution_count": null,
   "metadata": {},
   "outputs": [],
   "source": [
    "# Loan Change\n",
    "print('Loan Change (1 Year) Distribution')\n",
    "print(X['Loan Change (1 Year)'].describe().round(2))\n",
    "print('')\n",
    "print('Loan Change (5 Years) Distribution')\n",
    "print(X['Loan Change (5 Years)'].describe().round(2))\n",
    "print('')\n",
    "better['Loan Change (1 Year)'], \\\n",
    "better_value['Loan Change (1 Year)']= changing_assumptions(\n",
    "    ['Loan Change (1 Year)', 'Loan Change (5 Years)'], [25, 25], \n",
    "    banks, bank_idx, X, \n",
    "    vote_models, vote_thresholds, \n",
    "    Banks_X, Banks_X_val, Banks_X_test,\n",
    "    Banks_y, Banks_y_val, Banks_y_test\n",
    ")"
   ]
  },
  {
   "cell_type": "code",
   "execution_count": null,
   "metadata": {},
   "outputs": [],
   "source": [
    "# Bank Loan Liabilities\n",
    "print('Bank Loan Liabilities (1 Year) Distribution')\n",
    "print(X['Lnlsnet (1 Yr)'].describe().round(2))\n",
    "print('')\n",
    "print('Bank Loan Liabilities (5 Years) Distribution')\n",
    "print(X['Lnlsnet (5 Yr)'].describe().round(2))\n",
    "print('')\n",
    "better['Lnlsnet (1 Yr)'], \\\n",
    "better_value['Lnlsnet (1 Yr)'] = changing_assumptions(\n",
    "    ['Lnlsnet (1 Yr)', 'Lnlsnet (5 Yr)'], [25, 25],\n",
    "    banks, bank_idx, X, \n",
    "    vote_models, vote_thresholds, \n",
    "    Banks_X, Banks_X_val, Banks_X_test,\n",
    "    Banks_y, Banks_y_val, Banks_y_test\n",
    ")"
   ]
  },
  {
   "cell_type": "code",
   "execution_count": null,
   "metadata": {},
   "outputs": [],
   "source": [
    "# Bank Loan Liabilities (Best Assumption)\n",
    "print('Bank Loan Liabilities (1 Year) Distribution')\n",
    "print(X['Lnlsnet (1 Yr)'].describe().round(2))\n",
    "print('')\n",
    "print('Bank Loan Liabilities (5 Years) Distribution')\n",
    "print(X['Lnlsnet (5 Yr)'].describe().round(2))\n",
    "print('')\n",
    "best['Lnlsnet (1 Yr)'], \\\n",
    "best_value['Lnlsnet (1 Yr)'] = changing_assumptions(\n",
    "    ['Lnlsnet (1 Yr)', 'Lnlsnet (5 Yr)'], [100, 100],\n",
    "    banks, bank_idx, X, \n",
    "    vote_models, vote_thresholds, \n",
    "    Banks_X, Banks_X_val, Banks_X_test,\n",
    "    Banks_y, Banks_y_val, Banks_y_test\n",
    ")"
   ]
  },
  {
   "cell_type": "markdown",
   "metadata": {},
   "source": [
    "***"
   ]
  },
  {
   "cell_type": "code",
   "execution_count": null,
   "metadata": {},
   "outputs": [],
   "source": [
    "# Save improved assumptions\n",
    "data = [better, better_value, best, best_value]\n",
    "with open(\"..\\Data\\Pickle\\pred_votes_improved.pkl\", \"wb\") as f:\n",
    "    pickle.dump(data, f)"
   ]
  },
  {
   "cell_type": "markdown",
   "metadata": {},
   "source": [
    "***"
   ]
  },
  {
   "cell_type": "markdown",
   "metadata": {},
   "source": [
    "# Weakened Assumptions"
   ]
  },
  {
   "cell_type": "code",
   "execution_count": null,
   "metadata": {},
   "outputs": [],
   "source": [
    "# Credit Score\n",
    "print('Credit Score Distribution')\n",
    "print(X['Credit Score'].describe().round(0))\n",
    "print('')\n",
    "worse['Credit Score'], \\\n",
    "worse_value['Credit Score'] = changing_assumptions(\n",
    "    'Credit Score', 25, \n",
    "    banks, bank_idx, X, \n",
    "    vote_models, vote_thresholds, \n",
    "    Banks_X, Banks_X_val, Banks_X_test,\n",
    "    Banks_y, Banks_y_val, Banks_y_test\n",
    ")"
   ]
  },
  {
   "cell_type": "code",
   "execution_count": null,
   "metadata": {},
   "outputs": [],
   "source": [
    "# Debt-to-Income\n",
    "print('Debt-to-Income Distribution')\n",
    "print(X['Original Debt to Income Ratio'].describe().round(0))\n",
    "print('')\n",
    "worse['Original Debt to Income Ratio'], \\\n",
    "worse_value['Original Debt to Income Ratio'] = changing_assumptions(\n",
    "    'Original Debt to Income Ratio', 75, \n",
    "    banks, bank_idx, X, \n",
    "    vote_models, vote_thresholds, \n",
    "    Banks_X, Banks_X_val, Banks_X_test,\n",
    "    Banks_y, Banks_y_val, Banks_y_test\n",
    ")"
   ]
  },
  {
   "cell_type": "code",
   "execution_count": null,
   "metadata": {},
   "outputs": [],
   "source": [
    "# Loan-to-Value\n",
    "print('Loan-to-Value Distribution')\n",
    "print(X['Original Combined Loan-to-Value (CLTV)'].describe().round(0))\n",
    "print('')\n",
    "worse['Original Combined Loan-to-Value (CLTV)'], \\\n",
    "worse_value['Original Combined Loan-to-Value (CLTV)'] = changing_assumptions(\n",
    "    'Original Combined Loan-to-Value (CLTV)', 75, \n",
    "    banks, bank_idx, X, \n",
    "    vote_models, vote_thresholds, \n",
    "    Banks_X, Banks_X_val, Banks_X_test,\n",
    "    Banks_y, Banks_y_val, Banks_y_test\n",
    ")"
   ]
  },
  {
   "cell_type": "code",
   "execution_count": null,
   "metadata": {},
   "outputs": [],
   "source": [
    "# Median Household Income\n",
    "print('Median Household Income Distribution')\n",
    "print(X['Median Household Income'].describe().round(2))\n",
    "print('')\n",
    "worse['Median Household Income'], \\\n",
    "worse_value['Median Household Income'] = changing_assumptions(\n",
    "    'Median Household Income', 25, \n",
    "                                    banks, bank_idx, X, \n",
    "                                    vote_models, vote_thresholds, \n",
    "                                    Banks_X, Banks_X_val, Banks_X_test,\n",
    "                                    Banks_y, Banks_y_val, Banks_y_test\n",
    ")"
   ]
  },
  {
   "cell_type": "code",
   "execution_count": null,
   "metadata": {},
   "outputs": [],
   "source": [
    "# Median Household Income (Worst Assumption)\n",
    "print('Median Household Income Distribution')\n",
    "print(X['Median Household Income'].describe().round(2))\n",
    "print('')\n",
    "worst['Median Household Income'], \\\n",
    "worst_value['Median Household Income'] = changing_assumptions(\n",
    "    'Median Household Income', 0, \n",
    "    banks, bank_idx, X, \n",
    "    vote_models, vote_thresholds, \n",
    "    Banks_X, Banks_X_val, Banks_X_test,\n",
    "    Banks_y, Banks_y_val, Banks_y_test\n",
    ")"
   ]
  },
  {
   "cell_type": "code",
   "execution_count": null,
   "metadata": {},
   "outputs": [],
   "source": [
    "# Loan Change\n",
    "print('Loan Change (1 Year) Distribution')\n",
    "print(X['Loan Change (1 Year)'].describe().round(2))\n",
    "print('')\n",
    "print('Loan Change (5 Years) Distribution')\n",
    "print(X['Loan Change (5 Years)'].describe().round(2))\n",
    "print('')\n",
    "worse['Loan Change (1 Year)'], \\\n",
    "worse_value['Loan Change (1 Year)'] = changing_assumptions(\n",
    "    ['Loan Change (1 Year)', 'Loan Change (5 Years)'], [75, 75], \n",
    "    banks, bank_idx, X, \n",
    "    vote_models, vote_thresholds, \n",
    "    Banks_X, Banks_X_val, Banks_X_test,\n",
    "    Banks_y, Banks_y_val, Banks_y_test\n",
    ")"
   ]
  },
  {
   "cell_type": "code",
   "execution_count": null,
   "metadata": {},
   "outputs": [],
   "source": [
    "# Bank Loan Liabilities\n",
    "print('Bank Loan Liabilities (1 Year) Distribution')\n",
    "print(X['Lnlsnet (1 Yr)'].describe().round(2))\n",
    "print('')\n",
    "print('Bank Loan Liabilities (5 Years) Distribution')\n",
    "print(X['Lnlsnet (5 Yr)'].describe().round(2))\n",
    "print('')\n",
    "worse['Lnlsnet (1 Yr)'], \\\n",
    "worse_value['Lnlsnet (1 Yr)'] = changing_assumptions(\n",
    "    ['Lnlsnet (1 Yr)', 'Lnlsnet (5 Yr)'], [75, 75],\n",
    "    banks, bank_idx, X, \n",
    "    vote_models, vote_thresholds, \n",
    "    Banks_X, Banks_X_val, Banks_X_test,\n",
    "    Banks_y, Banks_y_val, Banks_y_test\n",
    ")"
   ]
  },
  {
   "cell_type": "code",
   "execution_count": null,
   "metadata": {},
   "outputs": [],
   "source": [
    "# Bank Loan Liabilities (Worst Assumption)\n",
    "print('Bank Loan Liabilities (1 Year) Distribution')\n",
    "print(X['Lnlsnet (1 Yr)'].describe().round(2))\n",
    "print('')\n",
    "print('Bank Loan Liabilities (5 Years) Distribution')\n",
    "print(X['Lnlsnet (5 Yr)'].describe().round(2))\n",
    "print('')\n",
    "worst['Lnlsnet (1 Yr)'], \\\n",
    "worst_value['Lnlsnet (1 Yr)'] = changing_assumptions(\n",
    "    ['Lnlsnet (1 Yr)', 'Lnlsnet (5 Yr)'], [0, 0],\n",
    "    banks, bank_idx, X, \n",
    "    vote_models, vote_thresholds, \n",
    "    Banks_X, Banks_X_val, Banks_X_test,\n",
    "    Banks_y, Banks_y_val, Banks_y_test\n",
    ")"
   ]
  },
  {
   "cell_type": "code",
   "execution_count": null,
   "metadata": {},
   "outputs": [],
   "source": [
    "# Save weakened assumptions\n",
    "data = [worse, worse_value, worst, worst_value]\n",
    "with open(\"..\\Data\\Pickle\\pred_votes_wweakened.pkl\", \"wb\") as f:\n",
    "    pickle.dump(data, f)"
   ]
  },
  {
   "cell_type": "markdown",
   "metadata": {},
   "source": [
    "***"
   ]
  }
 ],
 "metadata": {
  "kernelspec": {
   "display_name": "Python 3",
   "language": "python",
   "name": "python3"
  },
  "language_info": {
   "codemirror_mode": {
    "name": "ipython",
    "version": 3
   },
   "file_extension": ".py",
   "mimetype": "text/x-python",
   "name": "python",
   "nbconvert_exporter": "python",
   "pygments_lexer": "ipython3",
   "version": "3.7.4"
  }
 },
 "nbformat": 4,
 "nbformat_minor": 2
}
