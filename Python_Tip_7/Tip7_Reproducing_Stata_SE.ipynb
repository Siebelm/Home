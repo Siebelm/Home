{
 "cells": [
  {
   "cell_type": "markdown",
   "id": "c7b5fea4-e29e-4f29-9b6c-450e4f4a396b",
   "metadata": {},
   "source": [
    "<h1 class=\"title\">Python Tips #7<br>Reproducing Stata's Standard Errors</h1>\n",
    "<br>\n",
    "<center>Michael Siebel</center>\n",
    "<br>"
   ]
  },
  {
   "cell_type": "code",
   "execution_count": 1,
   "id": "f11070ea-d615-4770-89fa-9d27d26f7ba8",
   "metadata": {},
   "outputs": [
    {
     "data": {
      "application/javascript": [
       "document.body.dispatchEvent(new KeyboardEvent('keydown', {key:'s', keyCode: 83, ctrlKey: true}))"
      ],
      "text/plain": [
       "<IPython.core.display.Javascript object>"
      ]
     },
     "metadata": {},
     "output_type": "display_data"
    },
    {
     "data": {
      "application/javascript": [
       "function toggler(){\n",
       "    if(window.already_toggling){\n",
       "        // Don't add multiple buttons.\n",
       "        return 0\n",
       "    }\n",
       "    let btn = $('div.input > div.inner_cell').append('<button>Show/Hide Code</button>')\n",
       "        .children('button');\n",
       "    btn.on('click', function(e){\n",
       "        let tgt = e.currentTarget;\n",
       "        $(tgt).parent().children('div.input > div.inner_cell > div.input_area').toggle()\n",
       "    })\n",
       "    window.already_toggling = true;\n",
       "}\n",
       "// Since javascript cells are executed as soon as we load\n",
       "// the notebook (if it's trusted), and this cell might be at the\n",
       "// top of the notebook (so is executed first), we need to\n",
       "// allow time for all of the other code cells to load before\n",
       "// running. Let's give it 1 second.\n",
       "\n",
       "setTimeout(toggler, 1000);\n"
      ],
      "text/plain": [
       "<IPython.core.display.Javascript object>"
      ]
     },
     "metadata": {},
     "output_type": "display_data"
    },
    {
     "data": {
      "text/html": [
       "<style>\n",
       "h1.title {\n",
       "    text-align: center;\n",
       "    font-size: 2.25em;\n",
       "    font-weight: bold;\n",
       "    font-family: 'Montserrat', sans-serif !important;\n",
       "    margin-top: 1.5em !important; \n",
       "}\n",
       "</style>\n"
      ],
      "text/plain": [
       "<IPython.core.display.HTML object>"
      ]
     },
     "metadata": {},
     "output_type": "display_data"
    },
    {
     "data": {
      "text/html": [
       "<style>\n",
       "div.cell:nth-of-type(2) {\n",
       "    display: none !important;\n",
       "}\n",
       "</style>\n"
      ],
      "text/plain": [
       "<IPython.core.display.HTML object>"
      ]
     },
     "metadata": {},
     "output_type": "display_data"
    }
   ],
   "source": [
    "# Remove warnings\n",
    "import warnings\n",
    "warnings.filterwarnings('ignore')\n",
    "\n",
    "%run ../HTML_Functions.ipynb "
   ]
  },
  {
   "cell_type": "markdown",
   "id": "a65ec094-c1da-4f86-bf13-b621a54a3ac4",
   "metadata": {},
   "source": [
    "# Recreating Stata\n",
    "\n",
    "Lately, I have been recreating Stata estimates using Python.  Below, I reproduce Stata's (and R's survey package's) robust standard errors it uses in its prop and mean commands.  I am using population data from Python's vega_datasets."
   ]
  },
  {
   "cell_type": "code",
   "execution_count": 2,
   "id": "714e73f7-35e8-44f9-9b77-a7a382fa3cce",
   "metadata": {},
   "outputs": [
    {
     "data": {
      "text/html": [
       "<div>\n",
       "<style scoped>\n",
       "    .dataframe tbody tr th:only-of-type {\n",
       "        vertical-align: middle;\n",
       "    }\n",
       "\n",
       "    .dataframe tbody tr th {\n",
       "        vertical-align: top;\n",
       "    }\n",
       "\n",
       "    .dataframe thead th {\n",
       "        text-align: right;\n",
       "    }\n",
       "</style>\n",
       "<table border=\"1\" class=\"dataframe\">\n",
       "  <thead>\n",
       "    <tr style=\"text-align: right;\">\n",
       "      <th></th>\n",
       "      <th>year</th>\n",
       "      <th>female</th>\n",
       "      <th>age</th>\n",
       "      <th>people</th>\n",
       "    </tr>\n",
       "  </thead>\n",
       "  <tbody>\n",
       "    <tr>\n",
       "      <th>0</th>\n",
       "      <td>1850</td>\n",
       "      <td>0</td>\n",
       "      <td>0</td>\n",
       "      <td>1483789</td>\n",
       "    </tr>\n",
       "    <tr>\n",
       "      <th>1</th>\n",
       "      <td>1850</td>\n",
       "      <td>1</td>\n",
       "      <td>0</td>\n",
       "      <td>1450376</td>\n",
       "    </tr>\n",
       "    <tr>\n",
       "      <th>2</th>\n",
       "      <td>1850</td>\n",
       "      <td>0</td>\n",
       "      <td>5</td>\n",
       "      <td>1411067</td>\n",
       "    </tr>\n",
       "    <tr>\n",
       "      <th>3</th>\n",
       "      <td>1850</td>\n",
       "      <td>1</td>\n",
       "      <td>5</td>\n",
       "      <td>1359668</td>\n",
       "    </tr>\n",
       "    <tr>\n",
       "      <th>4</th>\n",
       "      <td>1850</td>\n",
       "      <td>0</td>\n",
       "      <td>10</td>\n",
       "      <td>1260099</td>\n",
       "    </tr>\n",
       "  </tbody>\n",
       "</table>\n",
       "</div>"
      ],
      "text/plain": [
       "   year  female  age   people\n",
       "0  1850       0    0  1483789\n",
       "1  1850       1    0  1450376\n",
       "2  1850       0    5  1411067\n",
       "3  1850       1    5  1359668\n",
       "4  1850       0   10  1260099"
      ]
     },
     "execution_count": 2,
     "metadata": {},
     "output_type": "execute_result"
    }
   ],
   "source": [
    "# Core Packages\n",
    "import numpy as np\n",
    "import pandas as pd\n",
    "from vega_datasets import data\n",
    "\n",
    "# Load data\n",
    "df = data.population()\n",
    "df['female'] = df['sex']-1\n",
    "df = df[['year', 'female', 'age', 'people']]\n",
    "\n",
    "df.head()"
   ]
  },
  {
   "attachments": {
    "f53b0943-846f-44a7-a8d6-4e721ddde1fe.png": {
     "image/png": "[encoded data removed]"
    }
   },
   "cell_type": "markdown",
   "id": "75ef2add-8087-4d71-8772-b0dc0403a3bb",
   "metadata": {},
   "source": [
    "# Weighted Standard Error\n",
    "\n",
    "Statsmodels is a common Python library for producing weighted statistics.  It uses the most conventional method for calculating weighted standard deviations (note: standard error is simply the standard deviation divided by the square root of the sample size).  Unfortunately, this is not how Stata or R calculates weighted standard deviations as they calculate robust corrections.  Below, Python calculates a standard error of 0.021, while Stata calculates 0.028.\n",
    "\n",
    "![image.png](attachment:f53b0943-846f-44a7-a8d6-4e721ddde1fe.png)"
   ]
  },
  {
   "cell_type": "code",
   "execution_count": 3,
   "id": "00c1af00-83da-479d-85b8-4577e1ae10c7",
   "metadata": {},
   "outputs": [
    {
     "name": "stdout",
     "output_type": "stream",
     "text": [
      "% Female\n",
      "mean: 0.5046361028351961\n",
      "se:   0.0209417951337017\n"
     ]
    }
   ],
   "source": [
    "from statsmodels.stats.weightstats import DescrStatsW\n",
    "\n",
    "stat = DescrStatsW(df['female'], weights=df['people'])\n",
    "print('% Female')\n",
    "print('mean:', stat.mean)\n",
    "print('se:  ', stat.std/np.sqrt(df.shape[0]))"
   ]
  },
  {
   "cell_type": "markdown",
   "id": "ed05d6db-b201-4194-9a81-4222abf83873",
   "metadata": {},
   "source": [
    "**Stata code:**"
   ]
  },
  {
   "cell_type": "code",
   "execution_count": 4,
   "id": "2a011eee-38ad-4092-b69a-2d621bec1e37",
   "metadata": {},
   "outputs": [],
   "source": [
    "# . prop female [pw=people]\n",
    "\n",
    "# Proportion estimation                      Number of obs = 570\n",
    "\n",
    "# --------------------------------------------------------------\n",
    "#              |                                   Logit\n",
    "#              | Proportion   Std. err.     [95% conf. interval]\n",
    "# -------------+------------------------------------------------\n",
    "#       female |\n",
    "#           0  |   .4953639   .0282502      .4401598    .5506813\n",
    "#           1  |   .5046361   .0282502      .4493187    .5598402\n",
    "# --------------------------------------------------------------"
   ]
  },
  {
   "cell_type": "markdown",
   "id": "8e47c37f-b083-46cd-87d0-48402f66e81c",
   "metadata": {},
   "source": [
    "# Robust Weighted Standard Errors\n",
    "\n",
    "Fortunately, statsmodels can calculate the same robust weighted standard errors using weighted linear regressions.  "
   ]
  },
  {
   "cell_type": "code",
   "execution_count": 5,
   "id": "1da996ed-c33a-4f7b-a044-b219b7fab7f7",
   "metadata": {},
   "outputs": [
    {
     "name": "stdout",
     "output_type": "stream",
     "text": [
      "% Female\n",
      "mean: 0.5046361028351962\n",
      "se:   0.028250181556609938\n"
     ]
    }
   ],
   "source": [
    "import statsmodels.api as sm\n",
    "\n",
    "y = df['female']\n",
    "x = np.ones(df.shape[0])\n",
    "w = df['people']\n",
    "fpc = 1\n",
    "\n",
    "# Calculate\n",
    "stat = sm.WLS(y, x, weights=w).fit(cov_type='HC1')\n",
    "\n",
    "# Stats\n",
    "mean = stat.params[0]\n",
    "se = stat.bse[0]*fpc\n",
    "\n",
    "print('% Female')\n",
    "print('mean:', mean)\n",
    "print('se:  ', se)"
   ]
  },
  {
   "cell_type": "markdown",
   "id": "e71f671c-64d7-406c-b89d-6352d4affb60",
   "metadata": {},
   "source": [
    "# Manual Calculation\n",
    "\n",
    "So I researched raw code from statsmodels weighted linear regressions so that you don't have to.  Below is how we can calculate it manually."
   ]
  },
  {
   "cell_type": "code",
   "execution_count": 6,
   "id": "3449e111-0d1a-420e-9c30-1e731aaa9410",
   "metadata": {},
   "outputs": [
    {
     "name": "stdout",
     "output_type": "stream",
     "text": [
      "% Female\n",
      "mean: 0.5046361028351961\n",
      "se:   0.028250181556609938\n"
     ]
    }
   ],
   "source": [
    "n = df.shape[0]\n",
    "y = df['female']\n",
    "x = df['people']\n",
    "fpc = 1\n",
    "\n",
    "# Prop/Mean\n",
    "mean = (y*x).sum() / (x).sum()\n",
    "\n",
    "# SE\n",
    "het_scale = n/(n-1) * ( ((y-mean) * np.sqrt(x))**2 ) # Heteroscedasticity robust covariance matrix (HC1)\n",
    "wx = np.array([ x*(1/np.sqrt(x)) ]).T # whitened by Cholesky decomposition (cholsigmainv)\n",
    "pinv_wx = np.linalg.pinv(wx) # Moore-Penrose pseudo-inverse of a matrix\n",
    "H = np.dot(pinv_wx, het_scale[:, None] * pinv_wx.T).item() # heteroscedasticity-corrected (or “White-Huber”) covariance matrices \n",
    "se = np.sqrt(H)*fpc\n",
    "\n",
    "print('% Female')\n",
    "print('mean:', mean)\n",
    "print('se:  ', se)"
   ]
  },
  {
   "cell_type": "markdown",
   "id": "bac2a716-376c-479d-a72c-02559d2b708b",
   "metadata": {},
   "source": [
    "# Custom Function\n",
    "\n",
    "We can use this code as the basis for rewriting Stata's weighted prop and mean functions.  I wrote stata_func() to allow the y_var to be a binary \"0, 1\" proportion or a continuous mean--but not multinomial proportions.  The over variable (i.e., subpopution) can be binary, multinomial, or not included.  Weights and FPC can be added, but strata cannot (this would greatly enlarge the function)."
   ]
  },
  {
   "cell_type": "code",
   "execution_count": 7,
   "id": "750a9961-9558-4d4a-928f-73a08f93ef84",
   "metadata": {},
   "outputs": [],
   "source": [
    "# Recreate Stata stats \n",
    "def stata_func(y_var, df, over=None, weight=None, fpc=1):\n",
    "    # Libraries\n",
    "    import numpy as np\n",
    "    import pandas as pd\n",
    "    from category_encoders.one_hot import OneHotEncoder\n",
    "    \n",
    "    # Remove weight if weight==None\n",
    "    if weight is None:\n",
    "        df['weight'] = np.ones(df.shape[0])\n",
    "        weight = 'weight'\n",
    "    # Remove over if over==None\n",
    "    if over is None:\n",
    "        df['over'] = np.ones(df.shape[0])\n",
    "        over = 'over'\n",
    "    # Prepare over variable to loop\n",
    "    one_hot = OneHotEncoder(handle_missing='return_nan', use_cat_names=True).fit_transform(df[over].astype('O'))\n",
    "    x_vars = sorted(one_hot.columns)\n",
    "    df = pd.concat([df, one_hot], axis=1)\n",
    "    \n",
    "    # Calculate Stats\n",
    "    stats = {}\n",
    "    stats['stats'] = ('mean', 'se', 'n')\n",
    "    for x_var in x_vars:\n",
    "        \n",
    "        # Text output\n",
    "        if over == 'over':\n",
    "            list_name = y_var\n",
    "        else:\n",
    "            list_name = y_var + \" when \" + x_var\n",
    "        \n",
    "        # Params\n",
    "        cw = df[[y_var, x_var, weight]].dropna()\n",
    "        n = cw.shape[0]\n",
    "        subpop = cw[cw[x_var]==1]\n",
    "        y = subpop[y_var]\n",
    "        x = subpop[weight]\n",
    "        \n",
    "        # Prop/Mean\n",
    "        mean = (y*x).sum() / (x).sum()\n",
    "        \n",
    "        # SE\n",
    "        ## Without weights\n",
    "        if len(np.unique(x)) == 1:\n",
    "            het_scale = (y-mean)**2  # Heteroscedasticity robust covariance matrix (HC0)\n",
    "        ## With weights\n",
    "        else:    \n",
    "            het_scale = n/(n-1) * ( ((y-mean) * np.sqrt(x))**2 ) # Heteroscedasticity robust covariance matrix (HC1)\n",
    "        ## Some linear algebra on the robust covariance matrix    \n",
    "        wx = np.array([ x*(1/np.sqrt(x)) ]).T # whitened by Cholesky decomposition (cholsigmainv)\n",
    "        pinv_wx = np.linalg.pinv(wx) # Moore-Penrose pseudo-inverse of a matrix\n",
    "        H = np.dot(pinv_wx, het_scale[:, None] * pinv_wx.T).item() # heteroscedasticity-corrected (or “White-Huber”) covariance matrices \n",
    "        se = np.sqrt(H)*fpc\n",
    "        \n",
    "        stats[list_name] = (mean, se, str(n))\n",
    "        \n",
    "    stats = pd.DataFrame(stats)\n",
    "    \n",
    "    return(stats)"
   ]
  },
  {
   "cell_type": "code",
   "execution_count": 8,
   "id": "77fee703-f876-48b6-b6b1-108fcd984400",
   "metadata": {},
   "outputs": [
    {
     "data": {
      "text/html": [
       "<div>\n",
       "<style scoped>\n",
       "    .dataframe tbody tr th:only-of-type {\n",
       "        vertical-align: middle;\n",
       "    }\n",
       "\n",
       "    .dataframe tbody tr th {\n",
       "        vertical-align: top;\n",
       "    }\n",
       "\n",
       "    .dataframe thead th {\n",
       "        text-align: right;\n",
       "    }\n",
       "</style>\n",
       "<table border=\"1\" class=\"dataframe\">\n",
       "  <thead>\n",
       "    <tr style=\"text-align: right;\">\n",
       "      <th></th>\n",
       "      <th>stats</th>\n",
       "      <th>female when period_1850-1900</th>\n",
       "      <th>female when period_1901-1950</th>\n",
       "      <th>female when period_1951-1990</th>\n",
       "      <th>female when period_1991-2000</th>\n",
       "    </tr>\n",
       "  </thead>\n",
       "  <tbody>\n",
       "    <tr>\n",
       "      <th>0</th>\n",
       "      <td>mean</td>\n",
       "      <td>0.490737</td>\n",
       "      <td>0.495204</td>\n",
       "      <td>0.51291</td>\n",
       "      <td>0.510116</td>\n",
       "    </tr>\n",
       "    <tr>\n",
       "      <th>1</th>\n",
       "      <td>se</td>\n",
       "      <td>0.051863</td>\n",
       "      <td>0.043864</td>\n",
       "      <td>0.046508</td>\n",
       "      <td>0.089621</td>\n",
       "    </tr>\n",
       "    <tr>\n",
       "      <th>2</th>\n",
       "      <td>n</td>\n",
       "      <td>570</td>\n",
       "      <td>570</td>\n",
       "      <td>570</td>\n",
       "      <td>570</td>\n",
       "    </tr>\n",
       "  </tbody>\n",
       "</table>\n",
       "</div>"
      ],
      "text/plain": [
       "  stats female when period_1850-1900 female when period_1901-1950  \\\n",
       "0  mean                     0.490737                     0.495204   \n",
       "1    se                     0.051863                     0.043864   \n",
       "2     n                          570                          570   \n",
       "\n",
       "  female when period_1951-1990 female when period_1991-2000  \n",
       "0                      0.51291                     0.510116  \n",
       "1                     0.046508                     0.089621  \n",
       "2                          570                          570  "
      ]
     },
     "execution_count": 8,
     "metadata": {},
     "output_type": "execute_result"
    }
   ],
   "source": [
    "# Adding subpopulations\n",
    "cats = [-np.inf, 1900, 1950, 1990, np.inf]\n",
    "cat_labs = [\"1850-1900\", \"1901-1950\", \"1951-1990\", \"1991-2000\"] \n",
    "df['period'] = pd.cut(df['year'], bins=cats, labels=cat_labs)\n",
    "\n",
    "stata_func('female', df, over='period', weight='people')"
   ]
  },
  {
   "cell_type": "code",
   "execution_count": 9,
   "id": "df5795d3-cc39-4edc-8b9c-0b965e5ef64e",
   "metadata": {},
   "outputs": [
    {
     "data": {
      "text/html": [
       "<div>\n",
       "<style scoped>\n",
       "    .dataframe tbody tr th:only-of-type {\n",
       "        vertical-align: middle;\n",
       "    }\n",
       "\n",
       "    .dataframe tbody tr th {\n",
       "        vertical-align: top;\n",
       "    }\n",
       "\n",
       "    .dataframe thead th {\n",
       "        text-align: right;\n",
       "    }\n",
       "</style>\n",
       "<table border=\"1\" class=\"dataframe\">\n",
       "  <thead>\n",
       "    <tr style=\"text-align: right;\">\n",
       "      <th></th>\n",
       "      <th>stats</th>\n",
       "      <th>age when period_1850-1900</th>\n",
       "      <th>age when period_1901-1950</th>\n",
       "      <th>age when period_1951-1990</th>\n",
       "      <th>age when period_1991-2000</th>\n",
       "    </tr>\n",
       "  </thead>\n",
       "  <tbody>\n",
       "    <tr>\n",
       "      <th>0</th>\n",
       "      <td>mean</td>\n",
       "      <td>22.407398</td>\n",
       "      <td>27.478309</td>\n",
       "      <td>30.991718</td>\n",
       "      <td>33.844317</td>\n",
       "    </tr>\n",
       "    <tr>\n",
       "      <th>1</th>\n",
       "      <td>se</td>\n",
       "      <td>1.633592</td>\n",
       "      <td>1.577995</td>\n",
       "      <td>1.854626</td>\n",
       "      <td>3.506542</td>\n",
       "    </tr>\n",
       "    <tr>\n",
       "      <th>2</th>\n",
       "      <td>n</td>\n",
       "      <td>570</td>\n",
       "      <td>570</td>\n",
       "      <td>570</td>\n",
       "      <td>570</td>\n",
       "    </tr>\n",
       "  </tbody>\n",
       "</table>\n",
       "</div>"
      ],
      "text/plain": [
       "  stats age when period_1850-1900 age when period_1901-1950  \\\n",
       "0  mean                 22.407398                 27.478309   \n",
       "1    se                  1.633592                  1.577995   \n",
       "2     n                       570                       570   \n",
       "\n",
       "  age when period_1951-1990 age when period_1991-2000  \n",
       "0                 30.991718                 33.844317  \n",
       "1                  1.854626                  3.506542  \n",
       "2                       570                       570  "
      ]
     },
     "execution_count": 9,
     "metadata": {},
     "output_type": "execute_result"
    }
   ],
   "source": [
    "stata_func('age', df, over='period', weight='people')"
   ]
  },
  {
   "cell_type": "code",
   "execution_count": 10,
   "id": "9faddb92-e6e8-4daa-9be0-d2fefe32c187",
   "metadata": {},
   "outputs": [
    {
     "data": {
      "text/html": [
       "<div>\n",
       "<style scoped>\n",
       "    .dataframe tbody tr th:only-of-type {\n",
       "        vertical-align: middle;\n",
       "    }\n",
       "\n",
       "    .dataframe tbody tr th {\n",
       "        vertical-align: top;\n",
       "    }\n",
       "\n",
       "    .dataframe thead th {\n",
       "        text-align: right;\n",
       "    }\n",
       "</style>\n",
       "<table border=\"1\" class=\"dataframe\">\n",
       "  <thead>\n",
       "    <tr style=\"text-align: right;\">\n",
       "      <th></th>\n",
       "      <th>stats</th>\n",
       "      <th>age when female_0.0</th>\n",
       "      <th>age when female_1.0</th>\n",
       "      <th>age when period_1850-1900</th>\n",
       "      <th>age when period_1901-1950</th>\n",
       "      <th>age when period_1951-1990</th>\n",
       "      <th>age when period_1991-2000</th>\n",
       "    </tr>\n",
       "  </thead>\n",
       "  <tbody>\n",
       "    <tr>\n",
       "      <th>0</th>\n",
       "      <td>mean</td>\n",
       "      <td>28.665306</td>\n",
       "      <td>30.092819</td>\n",
       "      <td>22.407398</td>\n",
       "      <td>27.478309</td>\n",
       "      <td>30.991718</td>\n",
       "      <td>33.844317</td>\n",
       "    </tr>\n",
       "    <tr>\n",
       "      <th>1</th>\n",
       "      <td>se</td>\n",
       "      <td>1.504459</td>\n",
       "      <td>1.565118</td>\n",
       "      <td>1.633592</td>\n",
       "      <td>1.577995</td>\n",
       "      <td>1.854626</td>\n",
       "      <td>3.506542</td>\n",
       "    </tr>\n",
       "    <tr>\n",
       "      <th>2</th>\n",
       "      <td>n</td>\n",
       "      <td>570</td>\n",
       "      <td>570</td>\n",
       "      <td>570</td>\n",
       "      <td>570</td>\n",
       "      <td>570</td>\n",
       "      <td>570</td>\n",
       "    </tr>\n",
       "  </tbody>\n",
       "</table>\n",
       "</div>"
      ],
      "text/plain": [
       "  stats age when female_0.0 age when female_1.0 age when period_1850-1900  \\\n",
       "0  mean           28.665306           30.092819                 22.407398   \n",
       "1    se            1.504459            1.565118                  1.633592   \n",
       "2     n                 570                 570                       570   \n",
       "\n",
       "  age when period_1901-1950 age when period_1951-1990  \\\n",
       "0                 27.478309                 30.991718   \n",
       "1                  1.577995                  1.854626   \n",
       "2                       570                       570   \n",
       "\n",
       "  age when period_1991-2000  \n",
       "0                 33.844317  \n",
       "1                  3.506542  \n",
       "2                       570  "
      ]
     },
     "execution_count": 10,
     "metadata": {},
     "output_type": "execute_result"
    }
   ],
   "source": [
    "stata_func('age', df, over=['period', 'female'], weight='people')"
   ]
  },
  {
   "cell_type": "markdown",
   "id": "cfb32217-3fef-48ea-8593-f73c3c558f79",
   "metadata": {},
   "source": [
    "# Conclusion\n",
    "\n",
    "**Why are the standard errors different?**\n",
    "\n",
    "Let's start by discussing standard deviations.  Traditional standard deviations are calculated by taking overall variance (the sum of values minus the mean squared) relative to the sample size (dividing the sample size and then taking the square root).  The simplest way to add weights is by multiplying the values minus mean by the weights and replacing the sample size with the summation of the weights.  \n",
    "\n",
    "However, traditional standard deviations only consider total variance relative to the n-value (sample size or summation of weights) and not the distribution of the variance.  Robust standard deviations consider the distribution of the variance.  Mathematically, robust formulas do not sum the variance before relating it to the n-value.  Instead, it considers the variance of each value to the n-value, adds penalties for larger variance distributions, and uses some fancy linear algebra to convert into a single standard deviation value.  \n",
    "\n",
    "**What does this do (in plain English)?**\n",
    "\n",
    "Robust standard deviations should always increase the standard deviation from the traditional formula.  Let's call this a \"robust correction\".  The robust correction should be larger if the difference between each value and the mean is very inconsistent (sometimes large, sometimes small).  If the difference between each value and the mean is often the same, the robust correction shouldn't increase the standard deviation by much.  This is the same in concept to heteroskedasticity in linear regressions.  The formula for robust standard deviations can be found here:\n",
    "\n",
    "*MacKinnon, J. G., & White, H. (1985). Some heteroskedasticity-consistent covariance matrix estimators with improved finite sample properties. Journal of econometrics, 29(3), 305-325.*\n",
    "\n",
    "**But aren't we concerned with errors not deviations?**\n",
    "\n",
    "Standard errors are just scaled standard deviations (scaled to the original values).  We can get the standard error by dividing the standard deviation by the square root of the n-value.  This is true of traditional standard errors and robust standard errors."
   ]
  },
  {
   "cell_type": "markdown",
   "id": "ffa04b7a-40ff-45ed-8fa1-9e77be8ce621",
   "metadata": {},
   "source": [
    "# Save Log"
   ]
  },
  {
   "cell_type": "code",
   "execution_count": 11,
   "id": "0bc0bdd8-9121-4861-bf4a-c4b614f96de1",
   "metadata": {},
   "outputs": [
    {
     "data": {
      "application/javascript": [
       "document.body.dispatchEvent(new KeyboardEvent('keydown', {key:'s', keyCode: 83, ctrlKey: true}))"
      ],
      "text/plain": [
       "<IPython.core.display.Javascript object>"
      ]
     },
     "metadata": {},
     "output_type": "display_data"
    },
    {
     "name": "stderr",
     "output_type": "stream",
     "text": [
      "[NbConvertApp] Converting notebook Tip7_Reproducing_Stata_SE.ipynb to html_toc\n",
      "[NbConvertApp] Writing 416431 bytes to Tip7_Reproducing_Stata_SE.html\n"
     ]
    }
   ],
   "source": [
    "from IPython.display import display, Javascript\n",
    "\n",
    "display(Javascript(\n",
    "    \"document.body.dispatchEvent(\"\n",
    "    \"new KeyboardEvent('keydown', {key:'s', keyCode: 83, ctrlKey: true}\"\n",
    "    \"))\"\n",
    "))\n",
    "\n",
    "!jupyter nbconvert --to html_toc \"Tip7_Reproducing_Stata_SE.ipynb\" --ExtractOutputPreprocessor.enabled=False --CSSHTMLHeaderPreprocessor.style=stata-dark "
   ]
  }
 ],
 "metadata": {
  "kernelspec": {
   "display_name": "Python 3 (ipykernel)",
   "language": "python",
   "name": "python3"
  },
  "language_info": {
   "codemirror_mode": {
    "name": "ipython",
    "version": 3
   },
   "file_extension": ".py",
   "mimetype": "text/x-python",
   "name": "python",
   "nbconvert_exporter": "python",
   "pygments_lexer": "ipython3",
   "version": "3.9.12"
  }
 },
 "nbformat": 4,
 "nbformat_minor": 5
}
