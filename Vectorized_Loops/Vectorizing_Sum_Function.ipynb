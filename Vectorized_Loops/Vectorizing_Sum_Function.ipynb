{
 "cells": [
  {
   "cell_type": "markdown",
   "metadata": {},
   "source": [
    "# <center>Vectorizing</center> \n",
    "### <center>a sum function for parallel processing purposes</center> \n",
    "\n",
    "<center>Michael Siebel</center>\n",
    "<center>March 2020</center>"
   ]
  },
  {
   "cell_type": "markdown",
   "metadata": {},
   "source": [
    "# Goals  \n",
    "<br>\n",
    "\n",
    "In this demonstration, I create two sample functions for summing across columns: one that uses a traditional for loop and one that uses a vectorized loop.  The vectorized loop can be attached to 4 threads that could run in parallel.\n",
    "\n",
    "By \"vectorization\", I am referring to rewriting a loop so that it processes mulitple elements of the array within a single loop iteration. Vectorized functions are necessary for distributive computing tasks.\n",
    "\n",
    "The following is meant to demonstrate how a simple loop can be edited for simultaneous execution of values.  The next step would be to attach each execution to a different thread per loop iteration."
   ]
  },
  {
   "cell_type": "markdown",
   "metadata": {},
   "source": [
    "***"
   ]
  },
  {
   "cell_type": "markdown",
   "metadata": {},
   "source": [
    "## Import Packages"
   ]
  },
  {
   "cell_type": "code",
   "execution_count": 1,
   "metadata": {},
   "outputs": [],
   "source": [
    "import pandas as pd"
   ]
  },
  {
   "cell_type": "markdown",
   "metadata": {},
   "source": [
    "***"
   ]
  },
  {
   "cell_type": "markdown",
   "metadata": {},
   "source": [
    "## Loop Version\n",
    "\n",
    "Takes 8 loop iterations"
   ]
  },
  {
   "cell_type": "code",
   "execution_count": 2,
   "metadata": {},
   "outputs": [
    {
     "name": "stdout",
     "output_type": "stream",
     "text": [
      "Ran Iteration 1\n",
      "Ran Iteration 2\n",
      "Ran Iteration 3\n",
      "Ran Iteration 4\n",
      "Ran Iteration 5\n",
      "Ran Iteration 6\n",
      "Ran Iteration 7\n",
      "Ran Iteration 8\n"
     ]
    },
    {
     "data": {
      "text/html": [
       "<div>\n",
       "<style scoped>\n",
       "    .dataframe tbody tr th:only-of-type {\n",
       "        vertical-align: middle;\n",
       "    }\n",
       "\n",
       "    .dataframe tbody tr th {\n",
       "        vertical-align: top;\n",
       "    }\n",
       "\n",
       "    .dataframe thead th {\n",
       "        text-align: right;\n",
       "    }\n",
       "</style>\n",
       "<table border=\"1\" class=\"dataframe\">\n",
       "  <thead>\n",
       "    <tr style=\"text-align: right;\">\n",
       "      <th></th>\n",
       "      <th>Var1</th>\n",
       "      <th>Var2</th>\n",
       "      <th>Total</th>\n",
       "    </tr>\n",
       "  </thead>\n",
       "  <tbody>\n",
       "    <tr>\n",
       "      <td>0</td>\n",
       "      <td>1</td>\n",
       "      <td>8</td>\n",
       "      <td>9</td>\n",
       "    </tr>\n",
       "    <tr>\n",
       "      <td>1</td>\n",
       "      <td>2</td>\n",
       "      <td>7</td>\n",
       "      <td>9</td>\n",
       "    </tr>\n",
       "    <tr>\n",
       "      <td>2</td>\n",
       "      <td>3</td>\n",
       "      <td>6</td>\n",
       "      <td>9</td>\n",
       "    </tr>\n",
       "    <tr>\n",
       "      <td>3</td>\n",
       "      <td>4</td>\n",
       "      <td>5</td>\n",
       "      <td>9</td>\n",
       "    </tr>\n",
       "    <tr>\n",
       "      <td>4</td>\n",
       "      <td>5</td>\n",
       "      <td>4</td>\n",
       "      <td>9</td>\n",
       "    </tr>\n",
       "    <tr>\n",
       "      <td>5</td>\n",
       "      <td>6</td>\n",
       "      <td>3</td>\n",
       "      <td>9</td>\n",
       "    </tr>\n",
       "    <tr>\n",
       "      <td>6</td>\n",
       "      <td>7</td>\n",
       "      <td>2</td>\n",
       "      <td>9</td>\n",
       "    </tr>\n",
       "    <tr>\n",
       "      <td>7</td>\n",
       "      <td>8</td>\n",
       "      <td>1</td>\n",
       "      <td>9</td>\n",
       "    </tr>\n",
       "  </tbody>\n",
       "</table>\n",
       "</div>"
      ],
      "text/plain": [
       "   Var1  Var2  Total\n",
       "0     1     8      9\n",
       "1     2     7      9\n",
       "2     3     6      9\n",
       "3     4     5      9\n",
       "4     5     4      9\n",
       "5     6     3      9\n",
       "6     7     2      9\n",
       "7     8     1      9"
      ]
     },
     "execution_count": 2,
     "metadata": {},
     "output_type": "execute_result"
    }
   ],
   "source": [
    "# Create Dataset\n",
    "df = pd.DataFrame({\n",
    "    \"Var1\": [1,2,3,4,5,6,7,8],\n",
    "    \"Var2\": [8,7,6,5,4,3,2,1],\n",
    "    \"Total\": [0,0,0,0,0,0,0,0]\n",
    "})\n",
    "\n",
    "# Function that sums across first two rows\n",
    "def sum_func(df):\n",
    "    for i in range(len(df)):\n",
    "        print(\"Ran Iteration\", i+1)\n",
    "        df.iloc[i,2] = df.iloc[i,0] + df.iloc[i,1]\n",
    "        \n",
    "    return(df)\n",
    "        \n",
    "sum_func(df)"
   ]
  },
  {
   "cell_type": "markdown",
   "metadata": {},
   "source": [
    "***"
   ]
  },
  {
   "cell_type": "markdown",
   "metadata": {},
   "source": [
    "# Vectorized Version\n",
    "\n",
    "Takes 2 loop iterations and can therefore be parallelized to run 4x quicker"
   ]
  },
  {
   "cell_type": "code",
   "execution_count": 3,
   "metadata": {},
   "outputs": [
    {
     "name": "stdout",
     "output_type": "stream",
     "text": [
      "Ran Iteration 1\n",
      "Ran Iteration 2\n"
     ]
    },
    {
     "data": {
      "text/html": [
       "<div>\n",
       "<style scoped>\n",
       "    .dataframe tbody tr th:only-of-type {\n",
       "        vertical-align: middle;\n",
       "    }\n",
       "\n",
       "    .dataframe tbody tr th {\n",
       "        vertical-align: top;\n",
       "    }\n",
       "\n",
       "    .dataframe thead th {\n",
       "        text-align: right;\n",
       "    }\n",
       "</style>\n",
       "<table border=\"1\" class=\"dataframe\">\n",
       "  <thead>\n",
       "    <tr style=\"text-align: right;\">\n",
       "      <th></th>\n",
       "      <th>Var1</th>\n",
       "      <th>Var2</th>\n",
       "      <th>Total</th>\n",
       "    </tr>\n",
       "  </thead>\n",
       "  <tbody>\n",
       "    <tr>\n",
       "      <td>0</td>\n",
       "      <td>1</td>\n",
       "      <td>8</td>\n",
       "      <td>9</td>\n",
       "    </tr>\n",
       "    <tr>\n",
       "      <td>1</td>\n",
       "      <td>2</td>\n",
       "      <td>7</td>\n",
       "      <td>9</td>\n",
       "    </tr>\n",
       "    <tr>\n",
       "      <td>2</td>\n",
       "      <td>3</td>\n",
       "      <td>6</td>\n",
       "      <td>9</td>\n",
       "    </tr>\n",
       "    <tr>\n",
       "      <td>3</td>\n",
       "      <td>4</td>\n",
       "      <td>5</td>\n",
       "      <td>9</td>\n",
       "    </tr>\n",
       "    <tr>\n",
       "      <td>4</td>\n",
       "      <td>5</td>\n",
       "      <td>4</td>\n",
       "      <td>9</td>\n",
       "    </tr>\n",
       "    <tr>\n",
       "      <td>5</td>\n",
       "      <td>6</td>\n",
       "      <td>3</td>\n",
       "      <td>9</td>\n",
       "    </tr>\n",
       "    <tr>\n",
       "      <td>6</td>\n",
       "      <td>7</td>\n",
       "      <td>2</td>\n",
       "      <td>9</td>\n",
       "    </tr>\n",
       "    <tr>\n",
       "      <td>7</td>\n",
       "      <td>8</td>\n",
       "      <td>1</td>\n",
       "      <td>9</td>\n",
       "    </tr>\n",
       "  </tbody>\n",
       "</table>\n",
       "</div>"
      ],
      "text/plain": [
       "   Var1  Var2  Total\n",
       "0     1     8      9\n",
       "1     2     7      9\n",
       "2     3     6      9\n",
       "3     4     5      9\n",
       "4     5     4      9\n",
       "5     6     3      9\n",
       "6     7     2      9\n",
       "7     8     1      9"
      ]
     },
     "execution_count": 3,
     "metadata": {},
     "output_type": "execute_result"
    }
   ],
   "source": [
    "# Create Dataset\n",
    "df = pd.DataFrame({\n",
    "    \"Var1\": [1,2,3,4,5,6,7,8],\n",
    "    \"Var2\": [8,7,6,5,4,3,2,1],\n",
    "    \"Total\": [0,0,0,0,0,0,0,0]\n",
    "})\n",
    "\n",
    "# Function that vectorizes sum function calculating 4 data points at a time\n",
    "def sum_vecd(df):\n",
    "    rng = range(len(df))\n",
    "    j = 0\n",
    "    \n",
    "    for i in rng[::4]:\n",
    "        j = j + 1\n",
    "        print(\"Ran Iteration\", int(((i+1)*j)/(i+1)))\n",
    "        df.iloc[i,2]   = df.iloc[i,  0] + df.iloc[i,  1] # Attach to thread 1\n",
    "        df.iloc[i+1,2] = df.iloc[i+1,0] + df.iloc[i+1,1] # Attach to thread 2\n",
    "        df.iloc[i+2,2] = df.iloc[i+2,0] + df.iloc[i+2,1] # Attach to thread 3\n",
    "        df.iloc[i+3,2] = df.iloc[i+3,0] + df.iloc[i+3,1] # Attach to thread 4\n",
    "        \n",
    "    return(df)\n",
    "    \n",
    "sum_vecd(df)"
   ]
  }
 ],
 "metadata": {
  "kernelspec": {
   "display_name": "Python 3",
   "language": "python",
   "name": "python3"
  },
  "language_info": {
   "codemirror_mode": {
    "name": "ipython",
    "version": 3
   },
   "file_extension": ".py",
   "mimetype": "text/x-python",
   "name": "python",
   "nbconvert_exporter": "python",
   "pygments_lexer": "ipython3",
   "version": "3.7.4"
  }
 },
 "nbformat": 4,
 "nbformat_minor": 2
}
