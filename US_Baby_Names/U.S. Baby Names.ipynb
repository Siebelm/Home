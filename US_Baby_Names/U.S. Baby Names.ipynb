{
 "cells": [
  {
   "cell_type": "markdown",
   "metadata": {},
   "source": [
    "# <center>U.S. Baby Name Popularity</center>\n",
    "\n",
    "<center>Michael Siebel</center>\n",
    "<center>March 2020</center>\n",
    "\n",
    "<br>\n",
    "    \n",
    "## Table of Contents\n",
    "- [Set Up](#Set-Up)<br>\n",
    "- [Millennial Names, 2014](#Millennial-Names,-2014)<br>\n",
    "- [Millennial Names, 2008-2014](#Millennial-Names,-2008-2014)<br>\n",
    "- [Plotting Millennial Names](#Plotting-Millennial-Names)<br>\n",
    "- [Plotting Names of My Family](#Plotting-Names-of-My-Family)"
   ]
  },
  {
   "cell_type": "markdown",
   "metadata": {},
   "source": [
    "## Set Up"
   ]
  },
  {
   "cell_type": "code",
   "execution_count": 1,
   "metadata": {},
   "outputs": [],
   "source": [
    "# Import Packages\n",
    "import pandas as pd\n",
    "import matplotlib.pyplot as pp\n",
    "import zipfile\n",
    "\n",
    "# Running a matplotlib style\n",
    "from jupyterthemes import jtplot\n",
    "jtplot.style(theme='chesterish')\n",
    "jtplot.style(context='talk', spines=True, ticks=True, gridlines='')"
   ]
  },
  {
   "cell_type": "code",
   "execution_count": 2,
   "metadata": {},
   "outputs": [],
   "source": [
    "# Data Load\n",
    "## read in the names.zip and extract everything\n",
    "zipfile.ZipFile('names.zip').extractall('.')"
   ]
  },
  {
   "cell_type": "markdown",
   "metadata": {},
   "source": [
    "***"
   ]
  },
  {
   "cell_type": "markdown",
   "metadata": {},
   "source": [
    "## Millennial Names, 2014"
   ]
  },
  {
   "cell_type": "markdown",
   "metadata": {},
   "source": [
    "Let's start by looking at the top 2014 names as an example of common names millennials are giving their babies. Here, we will use raw Pandas syntax (later we will use custom functions)."
   ]
  },
  {
   "cell_type": "markdown",
   "metadata": {},
   "source": [
    "### Top Female Names"
   ]
  },
  {
   "cell_type": "code",
   "execution_count": 3,
   "metadata": {},
   "outputs": [
    {
     "data": {
      "text/html": [
       "<div>\n",
       "<style scoped>\n",
       "    .dataframe tbody tr th:only-of-type {\n",
       "        vertical-align: middle;\n",
       "    }\n",
       "\n",
       "    .dataframe tbody tr th {\n",
       "        vertical-align: top;\n",
       "    }\n",
       "\n",
       "    .dataframe thead th {\n",
       "        text-align: right;\n",
       "    }\n",
       "</style>\n",
       "<table border=\"1\" class=\"dataframe\">\n",
       "  <thead>\n",
       "    <tr style=\"text-align: right;\">\n",
       "      <th></th>\n",
       "      <th>name</th>\n",
       "      <th>frequency</th>\n",
       "    </tr>\n",
       "    <tr>\n",
       "      <th>sex</th>\n",
       "      <th></th>\n",
       "      <th></th>\n",
       "    </tr>\n",
       "  </thead>\n",
       "  <tbody>\n",
       "    <tr>\n",
       "      <td>F</td>\n",
       "      <td>Emma</td>\n",
       "      <td>20799</td>\n",
       "    </tr>\n",
       "    <tr>\n",
       "      <td>F</td>\n",
       "      <td>Olivia</td>\n",
       "      <td>19674</td>\n",
       "    </tr>\n",
       "    <tr>\n",
       "      <td>F</td>\n",
       "      <td>Sophia</td>\n",
       "      <td>18490</td>\n",
       "    </tr>\n",
       "    <tr>\n",
       "      <td>F</td>\n",
       "      <td>Isabella</td>\n",
       "      <td>16950</td>\n",
       "    </tr>\n",
       "    <tr>\n",
       "      <td>F</td>\n",
       "      <td>Ava</td>\n",
       "      <td>15586</td>\n",
       "    </tr>\n",
       "    <tr>\n",
       "      <td>F</td>\n",
       "      <td>Mia</td>\n",
       "      <td>13442</td>\n",
       "    </tr>\n",
       "    <tr>\n",
       "      <td>F</td>\n",
       "      <td>Emily</td>\n",
       "      <td>12562</td>\n",
       "    </tr>\n",
       "    <tr>\n",
       "      <td>F</td>\n",
       "      <td>Abigail</td>\n",
       "      <td>11985</td>\n",
       "    </tr>\n",
       "    <tr>\n",
       "      <td>F</td>\n",
       "      <td>Madison</td>\n",
       "      <td>10247</td>\n",
       "    </tr>\n",
       "    <tr>\n",
       "      <td>F</td>\n",
       "      <td>Charlotte</td>\n",
       "      <td>10048</td>\n",
       "    </tr>\n",
       "  </tbody>\n",
       "</table>\n",
       "</div>"
      ],
      "text/plain": [
       "          name  frequency\n",
       "sex                      \n",
       "F         Emma      20799\n",
       "F       Olivia      19674\n",
       "F       Sophia      18490\n",
       "F     Isabella      16950\n",
       "F          Ava      15586\n",
       "F          Mia      13442\n",
       "F        Emily      12562\n",
       "F      Abigail      11985\n",
       "F      Madison      10247\n",
       "F    Charlotte      10048"
      ]
     },
     "execution_count": 3,
     "metadata": {},
     "output_type": "execute_result"
    }
   ],
   "source": [
    "names2014 = pd.read_csv('names/yob2014.txt', names=['name','sex','frequency'])\n",
    "names2014.set_index(['sex']).loc['F'][:10]"
   ]
  },
  {
   "cell_type": "markdown",
   "metadata": {},
   "source": [
    "### Top Male Names"
   ]
  },
  {
   "cell_type": "code",
   "execution_count": 4,
   "metadata": {},
   "outputs": [
    {
     "data": {
      "text/html": [
       "<div>\n",
       "<style scoped>\n",
       "    .dataframe tbody tr th:only-of-type {\n",
       "        vertical-align: middle;\n",
       "    }\n",
       "\n",
       "    .dataframe tbody tr th {\n",
       "        vertical-align: top;\n",
       "    }\n",
       "\n",
       "    .dataframe thead th {\n",
       "        text-align: right;\n",
       "    }\n",
       "</style>\n",
       "<table border=\"1\" class=\"dataframe\">\n",
       "  <thead>\n",
       "    <tr style=\"text-align: right;\">\n",
       "      <th></th>\n",
       "      <th>name</th>\n",
       "      <th>frequency</th>\n",
       "    </tr>\n",
       "    <tr>\n",
       "      <th>sex</th>\n",
       "      <th></th>\n",
       "      <th></th>\n",
       "    </tr>\n",
       "  </thead>\n",
       "  <tbody>\n",
       "    <tr>\n",
       "      <td>M</td>\n",
       "      <td>Noah</td>\n",
       "      <td>19144</td>\n",
       "    </tr>\n",
       "    <tr>\n",
       "      <td>M</td>\n",
       "      <td>Liam</td>\n",
       "      <td>18342</td>\n",
       "    </tr>\n",
       "    <tr>\n",
       "      <td>M</td>\n",
       "      <td>Mason</td>\n",
       "      <td>17092</td>\n",
       "    </tr>\n",
       "    <tr>\n",
       "      <td>M</td>\n",
       "      <td>Jacob</td>\n",
       "      <td>16712</td>\n",
       "    </tr>\n",
       "    <tr>\n",
       "      <td>M</td>\n",
       "      <td>William</td>\n",
       "      <td>16687</td>\n",
       "    </tr>\n",
       "    <tr>\n",
       "      <td>M</td>\n",
       "      <td>Ethan</td>\n",
       "      <td>15619</td>\n",
       "    </tr>\n",
       "    <tr>\n",
       "      <td>M</td>\n",
       "      <td>Michael</td>\n",
       "      <td>15323</td>\n",
       "    </tr>\n",
       "    <tr>\n",
       "      <td>M</td>\n",
       "      <td>Alexander</td>\n",
       "      <td>15293</td>\n",
       "    </tr>\n",
       "    <tr>\n",
       "      <td>M</td>\n",
       "      <td>James</td>\n",
       "      <td>14301</td>\n",
       "    </tr>\n",
       "    <tr>\n",
       "      <td>M</td>\n",
       "      <td>Daniel</td>\n",
       "      <td>13829</td>\n",
       "    </tr>\n",
       "  </tbody>\n",
       "</table>\n",
       "</div>"
      ],
      "text/plain": [
       "          name  frequency\n",
       "sex                      \n",
       "M         Noah      19144\n",
       "M         Liam      18342\n",
       "M        Mason      17092\n",
       "M        Jacob      16712\n",
       "M      William      16687\n",
       "M        Ethan      15619\n",
       "M      Michael      15323\n",
       "M    Alexander      15293\n",
       "M        James      14301\n",
       "M       Daniel      13829"
      ]
     },
     "execution_count": 4,
     "metadata": {},
     "output_type": "execute_result"
    }
   ],
   "source": [
    "names2014.set_index(['sex']).loc['M'][:10]"
   ]
  },
  {
   "cell_type": "markdown",
   "metadata": {},
   "source": [
    "Millennials are naming their baby's Emma, Olivia, Noah, and Liam.  My name, Michael, remains number seven on the male list."
   ]
  },
  {
   "cell_type": "markdown",
   "metadata": {},
   "source": [
    "***"
   ]
  },
  {
   "cell_type": "markdown",
   "metadata": {},
   "source": [
    "## Millennial Names, 2008-2014"
   ]
  },
  {
   "cell_type": "markdown",
   "metadata": {},
   "source": [
    "Tables of Most Popular Female and Male Millennial Names"
   ]
  },
  {
   "cell_type": "markdown",
   "metadata": {},
   "source": [
    "### Custom Functions"
   ]
  },
  {
   "cell_type": "markdown",
   "metadata": {},
   "source": [
    "Let's create functions to show popular names as tables. This method will enable us to see names from 2008 to 2014 to ensure these millennial baby names were not one-off (i.e., names popular for one year, perhaps due to something occurring in pop culture)."
   ]
  },
  {
   "cell_type": "code",
   "execution_count": 5,
   "metadata": {},
   "outputs": [],
   "source": [
    "# function to add all years worth of data as a panel data frame\n",
    "names_all = []\n",
    "for year in range(1880,2014+1):\n",
    "    names_all.append(pd.read_csv('names/yob{}.txt'.format(year),\n",
    "                                 names=['name','sex','frequency']))\n",
    "    names_all[-1]['year'] = year #append year as the last column\n",
    "\n",
    "# Save panel data    \n",
    "allyears = pd.concat(names_all)\n",
    "allyears_indexed = allyears.set_index(['sex','name','year']).sort_index()\n",
    "\n",
    "# create a function to do the top ten names for any year based on gender\n",
    "def topnames(sex, year, limit=10):\n",
    "    simple = allyears_indexed.loc[sex,:,year].sort_values(by='frequency', ascending=False)\n",
    "    simple = simple.reset_index()\n",
    "    simple = simple.drop(['sex','year','frequency'],axis=1).head(limit)\n",
    "    simple.columns = [year]\n",
    "    simple.index = simple.index + 1\n",
    "    return simple\n",
    "\n",
    "# create a function that gives the top names over a range of years\n",
    "def top_names_range(sex, start_year, end_year):\n",
    "    years = [topnames(sex,year) for year in range(start_year,end_year+1)]\n",
    "    return years[0].join(years[1:])"
   ]
  },
  {
   "cell_type": "markdown",
   "metadata": {},
   "source": [
    "### Top Female Names"
   ]
  },
  {
   "cell_type": "code",
   "execution_count": 6,
   "metadata": {},
   "outputs": [
    {
     "data": {
      "text/html": [
       "<div>\n",
       "<style scoped>\n",
       "    .dataframe tbody tr th:only-of-type {\n",
       "        vertical-align: middle;\n",
       "    }\n",
       "\n",
       "    .dataframe tbody tr th {\n",
       "        vertical-align: top;\n",
       "    }\n",
       "\n",
       "    .dataframe thead th {\n",
       "        text-align: right;\n",
       "    }\n",
       "</style>\n",
       "<table border=\"1\" class=\"dataframe\">\n",
       "  <thead>\n",
       "    <tr style=\"text-align: right;\">\n",
       "      <th></th>\n",
       "      <th>2008</th>\n",
       "      <th>2009</th>\n",
       "      <th>2010</th>\n",
       "      <th>2011</th>\n",
       "      <th>2012</th>\n",
       "      <th>2013</th>\n",
       "      <th>2014</th>\n",
       "    </tr>\n",
       "  </thead>\n",
       "  <tbody>\n",
       "    <tr>\n",
       "      <td>1</td>\n",
       "      <td>Emma</td>\n",
       "      <td>Isabella</td>\n",
       "      <td>Isabella</td>\n",
       "      <td>Sophia</td>\n",
       "      <td>Sophia</td>\n",
       "      <td>Sophia</td>\n",
       "      <td>Emma</td>\n",
       "    </tr>\n",
       "    <tr>\n",
       "      <td>2</td>\n",
       "      <td>Isabella</td>\n",
       "      <td>Emma</td>\n",
       "      <td>Sophia</td>\n",
       "      <td>Isabella</td>\n",
       "      <td>Emma</td>\n",
       "      <td>Emma</td>\n",
       "      <td>Olivia</td>\n",
       "    </tr>\n",
       "    <tr>\n",
       "      <td>3</td>\n",
       "      <td>Emily</td>\n",
       "      <td>Olivia</td>\n",
       "      <td>Emma</td>\n",
       "      <td>Emma</td>\n",
       "      <td>Isabella</td>\n",
       "      <td>Olivia</td>\n",
       "      <td>Sophia</td>\n",
       "    </tr>\n",
       "    <tr>\n",
       "      <td>4</td>\n",
       "      <td>Olivia</td>\n",
       "      <td>Sophia</td>\n",
       "      <td>Olivia</td>\n",
       "      <td>Olivia</td>\n",
       "      <td>Olivia</td>\n",
       "      <td>Isabella</td>\n",
       "      <td>Isabella</td>\n",
       "    </tr>\n",
       "    <tr>\n",
       "      <td>5</td>\n",
       "      <td>Ava</td>\n",
       "      <td>Ava</td>\n",
       "      <td>Ava</td>\n",
       "      <td>Ava</td>\n",
       "      <td>Ava</td>\n",
       "      <td>Ava</td>\n",
       "      <td>Ava</td>\n",
       "    </tr>\n",
       "    <tr>\n",
       "      <td>6</td>\n",
       "      <td>Madison</td>\n",
       "      <td>Emily</td>\n",
       "      <td>Emily</td>\n",
       "      <td>Emily</td>\n",
       "      <td>Emily</td>\n",
       "      <td>Mia</td>\n",
       "      <td>Mia</td>\n",
       "    </tr>\n",
       "    <tr>\n",
       "      <td>7</td>\n",
       "      <td>Sophia</td>\n",
       "      <td>Madison</td>\n",
       "      <td>Abigail</td>\n",
       "      <td>Abigail</td>\n",
       "      <td>Abigail</td>\n",
       "      <td>Emily</td>\n",
       "      <td>Emily</td>\n",
       "    </tr>\n",
       "    <tr>\n",
       "      <td>8</td>\n",
       "      <td>Abigail</td>\n",
       "      <td>Abigail</td>\n",
       "      <td>Madison</td>\n",
       "      <td>Madison</td>\n",
       "      <td>Mia</td>\n",
       "      <td>Abigail</td>\n",
       "      <td>Abigail</td>\n",
       "    </tr>\n",
       "    <tr>\n",
       "      <td>9</td>\n",
       "      <td>Elizabeth</td>\n",
       "      <td>Chloe</td>\n",
       "      <td>Chloe</td>\n",
       "      <td>Mia</td>\n",
       "      <td>Madison</td>\n",
       "      <td>Madison</td>\n",
       "      <td>Madison</td>\n",
       "    </tr>\n",
       "    <tr>\n",
       "      <td>10</td>\n",
       "      <td>Chloe</td>\n",
       "      <td>Mia</td>\n",
       "      <td>Mia</td>\n",
       "      <td>Chloe</td>\n",
       "      <td>Elizabeth</td>\n",
       "      <td>Elizabeth</td>\n",
       "      <td>Charlotte</td>\n",
       "    </tr>\n",
       "  </tbody>\n",
       "</table>\n",
       "</div>"
      ],
      "text/plain": [
       "         2008      2009      2010      2011       2012       2013       2014\n",
       "1        Emma  Isabella  Isabella    Sophia     Sophia     Sophia       Emma\n",
       "2    Isabella      Emma    Sophia  Isabella       Emma       Emma     Olivia\n",
       "3       Emily    Olivia      Emma      Emma   Isabella     Olivia     Sophia\n",
       "4      Olivia    Sophia    Olivia    Olivia     Olivia   Isabella   Isabella\n",
       "5         Ava       Ava       Ava       Ava        Ava        Ava        Ava\n",
       "6     Madison     Emily     Emily     Emily      Emily        Mia        Mia\n",
       "7      Sophia   Madison   Abigail   Abigail    Abigail      Emily      Emily\n",
       "8     Abigail   Abigail   Madison   Madison        Mia    Abigail    Abigail\n",
       "9   Elizabeth     Chloe     Chloe       Mia    Madison    Madison    Madison\n",
       "10      Chloe       Mia       Mia     Chloe  Elizabeth  Elizabeth  Charlotte"
      ]
     },
     "execution_count": 6,
     "metadata": {},
     "output_type": "execute_result"
    }
   ],
   "source": [
    "top_names_range('F',2008,2014)"
   ]
  },
  {
   "cell_type": "markdown",
   "metadata": {},
   "source": [
    "### Top Male Names"
   ]
  },
  {
   "cell_type": "code",
   "execution_count": 7,
   "metadata": {},
   "outputs": [
    {
     "data": {
      "text/html": [
       "<div>\n",
       "<style scoped>\n",
       "    .dataframe tbody tr th:only-of-type {\n",
       "        vertical-align: middle;\n",
       "    }\n",
       "\n",
       "    .dataframe tbody tr th {\n",
       "        vertical-align: top;\n",
       "    }\n",
       "\n",
       "    .dataframe thead th {\n",
       "        text-align: right;\n",
       "    }\n",
       "</style>\n",
       "<table border=\"1\" class=\"dataframe\">\n",
       "  <thead>\n",
       "    <tr style=\"text-align: right;\">\n",
       "      <th></th>\n",
       "      <th>2008</th>\n",
       "      <th>2009</th>\n",
       "      <th>2010</th>\n",
       "      <th>2011</th>\n",
       "      <th>2012</th>\n",
       "      <th>2013</th>\n",
       "      <th>2014</th>\n",
       "    </tr>\n",
       "  </thead>\n",
       "  <tbody>\n",
       "    <tr>\n",
       "      <td>1</td>\n",
       "      <td>Jacob</td>\n",
       "      <td>Jacob</td>\n",
       "      <td>Jacob</td>\n",
       "      <td>Jacob</td>\n",
       "      <td>Jacob</td>\n",
       "      <td>Noah</td>\n",
       "      <td>Noah</td>\n",
       "    </tr>\n",
       "    <tr>\n",
       "      <td>2</td>\n",
       "      <td>Michael</td>\n",
       "      <td>Ethan</td>\n",
       "      <td>Ethan</td>\n",
       "      <td>Mason</td>\n",
       "      <td>Mason</td>\n",
       "      <td>Liam</td>\n",
       "      <td>Liam</td>\n",
       "    </tr>\n",
       "    <tr>\n",
       "      <td>3</td>\n",
       "      <td>Ethan</td>\n",
       "      <td>Michael</td>\n",
       "      <td>Michael</td>\n",
       "      <td>William</td>\n",
       "      <td>Ethan</td>\n",
       "      <td>Jacob</td>\n",
       "      <td>Mason</td>\n",
       "    </tr>\n",
       "    <tr>\n",
       "      <td>4</td>\n",
       "      <td>Joshua</td>\n",
       "      <td>Alexander</td>\n",
       "      <td>Jayden</td>\n",
       "      <td>Jayden</td>\n",
       "      <td>Noah</td>\n",
       "      <td>Mason</td>\n",
       "      <td>Jacob</td>\n",
       "    </tr>\n",
       "    <tr>\n",
       "      <td>5</td>\n",
       "      <td>Daniel</td>\n",
       "      <td>William</td>\n",
       "      <td>William</td>\n",
       "      <td>Noah</td>\n",
       "      <td>William</td>\n",
       "      <td>William</td>\n",
       "      <td>William</td>\n",
       "    </tr>\n",
       "    <tr>\n",
       "      <td>6</td>\n",
       "      <td>Alexander</td>\n",
       "      <td>Joshua</td>\n",
       "      <td>Alexander</td>\n",
       "      <td>Michael</td>\n",
       "      <td>Liam</td>\n",
       "      <td>Ethan</td>\n",
       "      <td>Ethan</td>\n",
       "    </tr>\n",
       "    <tr>\n",
       "      <td>7</td>\n",
       "      <td>William</td>\n",
       "      <td>Daniel</td>\n",
       "      <td>Noah</td>\n",
       "      <td>Ethan</td>\n",
       "      <td>Michael</td>\n",
       "      <td>Michael</td>\n",
       "      <td>Michael</td>\n",
       "    </tr>\n",
       "    <tr>\n",
       "      <td>8</td>\n",
       "      <td>Anthony</td>\n",
       "      <td>Jayden</td>\n",
       "      <td>Daniel</td>\n",
       "      <td>Alexander</td>\n",
       "      <td>Jayden</td>\n",
       "      <td>Alexander</td>\n",
       "      <td>Alexander</td>\n",
       "    </tr>\n",
       "    <tr>\n",
       "      <td>9</td>\n",
       "      <td>Christopher</td>\n",
       "      <td>Noah</td>\n",
       "      <td>Aiden</td>\n",
       "      <td>Aiden</td>\n",
       "      <td>Alexander</td>\n",
       "      <td>Jayden</td>\n",
       "      <td>James</td>\n",
       "    </tr>\n",
       "    <tr>\n",
       "      <td>10</td>\n",
       "      <td>Matthew</td>\n",
       "      <td>Christopher</td>\n",
       "      <td>Anthony</td>\n",
       "      <td>Daniel</td>\n",
       "      <td>Aiden</td>\n",
       "      <td>Daniel</td>\n",
       "      <td>Daniel</td>\n",
       "    </tr>\n",
       "  </tbody>\n",
       "</table>\n",
       "</div>"
      ],
      "text/plain": [
       "           2008         2009       2010       2011       2012       2013  \\\n",
       "1         Jacob        Jacob      Jacob      Jacob      Jacob       Noah   \n",
       "2       Michael        Ethan      Ethan      Mason      Mason       Liam   \n",
       "3         Ethan      Michael    Michael    William      Ethan      Jacob   \n",
       "4        Joshua    Alexander     Jayden     Jayden       Noah      Mason   \n",
       "5        Daniel      William    William       Noah    William    William   \n",
       "6     Alexander       Joshua  Alexander    Michael       Liam      Ethan   \n",
       "7       William       Daniel       Noah      Ethan    Michael    Michael   \n",
       "8       Anthony       Jayden     Daniel  Alexander     Jayden  Alexander   \n",
       "9   Christopher         Noah      Aiden      Aiden  Alexander     Jayden   \n",
       "10      Matthew  Christopher    Anthony     Daniel      Aiden     Daniel   \n",
       "\n",
       "         2014  \n",
       "1        Noah  \n",
       "2        Liam  \n",
       "3       Mason  \n",
       "4       Jacob  \n",
       "5     William  \n",
       "6       Ethan  \n",
       "7     Michael  \n",
       "8   Alexander  \n",
       "9       James  \n",
       "10     Daniel  "
      ]
     },
     "execution_count": 7,
     "metadata": {},
     "output_type": "execute_result"
    }
   ],
   "source": [
    "top_names_range('M',2008,2014)"
   ]
  },
  {
   "cell_type": "markdown",
   "metadata": {},
   "source": [
    "Emma and Olivia appear to have been popular for awhile. Noah and Liam appear to be more recent."
   ]
  },
  {
   "cell_type": "markdown",
   "metadata": {},
   "source": [
    "### Top Male Names the Year I was Born"
   ]
  },
  {
   "cell_type": "code",
   "execution_count": 8,
   "metadata": {},
   "outputs": [
    {
     "data": {
      "text/html": [
       "<div>\n",
       "<style scoped>\n",
       "    .dataframe tbody tr th:only-of-type {\n",
       "        vertical-align: middle;\n",
       "    }\n",
       "\n",
       "    .dataframe tbody tr th {\n",
       "        vertical-align: top;\n",
       "    }\n",
       "\n",
       "    .dataframe thead th {\n",
       "        text-align: right;\n",
       "    }\n",
       "</style>\n",
       "<table border=\"1\" class=\"dataframe\">\n",
       "  <thead>\n",
       "    <tr style=\"text-align: right;\">\n",
       "      <th></th>\n",
       "      <th>1988</th>\n",
       "    </tr>\n",
       "  </thead>\n",
       "  <tbody>\n",
       "    <tr>\n",
       "      <td>1</td>\n",
       "      <td>Michael</td>\n",
       "    </tr>\n",
       "    <tr>\n",
       "      <td>2</td>\n",
       "      <td>Christopher</td>\n",
       "    </tr>\n",
       "    <tr>\n",
       "      <td>3</td>\n",
       "      <td>Matthew</td>\n",
       "    </tr>\n",
       "    <tr>\n",
       "      <td>4</td>\n",
       "      <td>Joshua</td>\n",
       "    </tr>\n",
       "    <tr>\n",
       "      <td>5</td>\n",
       "      <td>Andrew</td>\n",
       "    </tr>\n",
       "    <tr>\n",
       "      <td>6</td>\n",
       "      <td>David</td>\n",
       "    </tr>\n",
       "    <tr>\n",
       "      <td>7</td>\n",
       "      <td>Justin</td>\n",
       "    </tr>\n",
       "    <tr>\n",
       "      <td>8</td>\n",
       "      <td>Daniel</td>\n",
       "    </tr>\n",
       "    <tr>\n",
       "      <td>9</td>\n",
       "      <td>James</td>\n",
       "    </tr>\n",
       "    <tr>\n",
       "      <td>10</td>\n",
       "      <td>Robert</td>\n",
       "    </tr>\n",
       "  </tbody>\n",
       "</table>\n",
       "</div>"
      ],
      "text/plain": [
       "           1988\n",
       "1       Michael\n",
       "2   Christopher\n",
       "3       Matthew\n",
       "4        Joshua\n",
       "5        Andrew\n",
       "6         David\n",
       "7        Justin\n",
       "8        Daniel\n",
       "9         James\n",
       "10       Robert"
      ]
     },
     "execution_count": 8,
     "metadata": {},
     "output_type": "execute_result"
    }
   ],
   "source": [
    "topnames('M',1988)"
   ]
  },
  {
   "cell_type": "markdown",
   "metadata": {},
   "source": [
    "The year I was born, Michael was the most popular boy's name.  In fact, I was one of four Michael's in my 60 student elementary class."
   ]
  },
  {
   "cell_type": "markdown",
   "metadata": {},
   "source": [
    "***"
   ]
  },
  {
   "cell_type": "markdown",
   "metadata": {},
   "source": [
    "## Plotting Millennial Names"
   ]
  },
  {
   "cell_type": "markdown",
   "metadata": {},
   "source": [
    "### Popular Millennial Baby Names"
   ]
  },
  {
   "cell_type": "code",
   "execution_count": 9,
   "metadata": {},
   "outputs": [],
   "source": [
    "# create a function to plot a name across years\n",
    "def plotname(sex, name):\n",
    "    data = allyears_indexed.loc[sex,name]\n",
    "    pp.plot(data.index, data.values)"
   ]
  },
  {
   "cell_type": "code",
   "execution_count": 10,
   "metadata": {},
   "outputs": [
    {
     "data": {
      "image/png": "[encoded data removed]",
      "text/plain": [
       "<Figure size 864x216 with 1 Axes>"
      ]
     },
     "metadata": {
      "needs_background": "dark"
     },
     "output_type": "display_data"
    }
   ],
   "source": [
    "pp.figure(figsize=(12,3))\n",
    "\n",
    "females = ['Emma', 'Olivia']\n",
    "for name in females:\n",
    "    plotname('F', name)\n",
    "    \n",
    "males = ['Noah', 'Liam']\n",
    "for name in males:\n",
    "    plotname('M', name)\n",
    "\n",
    "pp.title('Top Millennial Baby Names')\n",
    "pp.legend(['Emma', 'Olivia','Noah', 'Liam'])\n",
    "pp.show()"
   ]
  },
  {
   "cell_type": "markdown",
   "metadata": {},
   "source": [
    "We can see that Emma was the only name with popularity in the past.  Liam is the latest to gain popularity."
   ]
  },
  {
   "cell_type": "markdown",
   "metadata": {},
   "source": [
    "***"
   ]
  },
  {
   "cell_type": "markdown",
   "metadata": {},
   "source": [
    "## Plotting Names of My Family\n",
    "- Me: Michael\n",
    "- Spouse: Laura\n",
    "- Daughter: Elise\n",
    "- Son: Emil"
   ]
  },
  {
   "cell_type": "markdown",
   "metadata": {},
   "source": [
    "First, I will look at each name independently to see their rate of change over time."
   ]
  },
  {
   "cell_type": "code",
   "execution_count": 11,
   "metadata": {},
   "outputs": [
    {
     "data": {
      "image/png": "[encoded data removed]",
      "text/plain": [
       "<Figure size 432x288 with 1 Axes>"
      ]
     },
     "metadata": {
      "needs_background": "dark"
     },
     "output_type": "display_data"
    }
   ],
   "source": [
    "plotname('M', 'Michael')\n",
    "\n",
    "pp.title('Michael')\n",
    "pp.show()"
   ]
  },
  {
   "cell_type": "code",
   "execution_count": 12,
   "metadata": {},
   "outputs": [
    {
     "data": {
      "image/png": "[encoded data removed]",
      "text/plain": [
       "<Figure size 432x288 with 1 Axes>"
      ]
     },
     "metadata": {
      "needs_background": "dark"
     },
     "output_type": "display_data"
    }
   ],
   "source": [
    "plotname('F', 'Laura')\n",
    "\n",
    "pp.title('Laura')\n",
    "pp.show()"
   ]
  },
  {
   "cell_type": "code",
   "execution_count": 13,
   "metadata": {},
   "outputs": [
    {
     "data": {
      "image/png": "[encoded data removed]",
      "text/plain": [
       "<Figure size 432x288 with 1 Axes>"
      ]
     },
     "metadata": {
      "needs_background": "dark"
     },
     "output_type": "display_data"
    }
   ],
   "source": [
    "plotname('F', 'Elise')\n",
    "\n",
    "pp.title('Elise')\n",
    "pp.show()"
   ]
  },
  {
   "cell_type": "code",
   "execution_count": 14,
   "metadata": {},
   "outputs": [
    {
     "data": {
      "image/png": "[encoded data removed]",
      "text/plain": [
       "<Figure size 432x288 with 1 Axes>"
      ]
     },
     "metadata": {
      "needs_background": "dark"
     },
     "output_type": "display_data"
    }
   ],
   "source": [
    "plotname('M', 'Emil')\n",
    "\n",
    "pp.title('Emil')\n",
    "pp.show()"
   ]
  },
  {
   "cell_type": "markdown",
   "metadata": {},
   "source": [
    "Next, I will plot the whole family on the same y-axis to show how each name compares in magnitude against one another."
   ]
  },
  {
   "cell_type": "code",
   "execution_count": 15,
   "metadata": {},
   "outputs": [
    {
     "data": {
      "image/png": "[encoded data removed]",
      "text/plain": [
       "<Figure size 864x216 with 1 Axes>"
      ]
     },
     "metadata": {
      "needs_background": "dark"
     },
     "output_type": "display_data"
    }
   ],
   "source": [
    "pp.figure(figsize=(12,3))\n",
    "\n",
    "plotname('M', 'Michael')\n",
    "plotname('F', 'Laura')\n",
    "plotname('F', 'Elise')\n",
    "plotname('M', 'Emil')\n",
    "\n",
    "pp.title('Siebel Family')\n",
    "pp.legend(['Michael','Laura','Elise','Emil'])\n",
    "pp.show()"
   ]
  },
  {
   "cell_type": "markdown",
   "metadata": {},
   "source": [
    "Finally, what I care about the most, let's look at my children's names on the same y-axis."
   ]
  },
  {
   "cell_type": "code",
   "execution_count": 16,
   "metadata": {},
   "outputs": [
    {
     "data": {
      "image/png": "[encoded data removed]",
      "text/plain": [
       "<Figure size 864x216 with 1 Axes>"
      ]
     },
     "metadata": {
      "needs_background": "dark"
     },
     "output_type": "display_data"
    }
   ],
   "source": [
    "pp.figure(figsize=(12,3))\n",
    "\n",
    "plotname('F', 'Elise')\n",
    "plotname('M', 'Emil')\n",
    "\n",
    "pp.title('Siebel Children')\n",
    "pp.legend(['Elise','Emil'])\n",
    "pp.show()"
   ]
  },
  {
   "cell_type": "markdown",
   "metadata": {},
   "source": [
    "### What do I draw from this?"
   ]
  },
  {
   "cell_type": "markdown",
   "metadata": {},
   "source": [
    "This tells me that my daughter may have another Elise in her class - certainly, less likely then how I had three other Michael's in mine.\n",
    "\n",
    "However, my son is very unlikely to have another Emil in his class."
   ]
  },
  {
   "cell_type": "markdown",
   "metadata": {},
   "source": [
    "***"
   ]
  }
 ],
 "metadata": {
  "kernelspec": {
   "display_name": "Python 3",
   "language": "python",
   "name": "python3"
  },
  "language_info": {
   "codemirror_mode": {
    "name": "ipython",
    "version": 3
   },
   "file_extension": ".py",
   "mimetype": "text/x-python",
   "name": "python",
   "nbconvert_exporter": "python",
   "pygments_lexer": "ipython3",
   "version": "3.7.4"
  }
 },
 "nbformat": 4,
 "nbformat_minor": 2
}
