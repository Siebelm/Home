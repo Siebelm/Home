{
 "cells": [
  {
   "cell_type": "markdown",
   "metadata": {},
   "source": [
    "# <center>Mortage Defaults<br>Dealing with Rare Event Predictions</center>\n",
    "\n",
    "<center>Michael Siebel</center>\n",
    "<center>March 2020</center>\n",
    "\n",
    "<br>\n",
    "    \n",
    "## Table of Contents\n",
    "- [Goals](#Goals)<br>\n",
    "- [Load Packages](#Load-Packages)<br>\n",
    "- [Set Up Functions](#Set-Up-Functions)<br>\n",
    "- [Implement Data Cleanings](#Implement-Data-Cleanings)<br>\n",
    "- [Analysis Functions](#Analysis-Functions)<br>\n",
    "- [Imbalanced Prediction](#Imbalanced-Prediction)\n",
    "- [Downsampling Prediction](#Downsampling-Prediction)<br>\n",
    "- [Upsampling Prediction](#Upsampling-Prediction)<br>\n",
    "- [Conclusion](#Conclusion)<br>"
   ]
  },
  {
   "cell_type": "markdown",
   "metadata": {},
   "source": [
    "# Goals  \n",
    "<br>\n",
    "\n",
    "Using Fannie Mae mortgage data, I investigated which types of loans are at greatest risk of default (i.e., being foreclosed upon) at the beginning of the 2008 financial crisis.  This is made difficult as loan defaults, even at the height of the financial crisis, was a \"rare event\", meaning it occurs at such a low frequency that a model becomes far better at predicting what DOES NOT cause a default compared to what DOES cause a default.  \n",
    "<br>\n",
    "\n",
    "The goal of this project was to test how downsampling and upsampling techniques can improve predictions of rare events.  \n",
    "<br>\n",
    "\n",
    "Downsampling techniques create balanced data by removing majority class until it matches the frequency minority class.  Upsampling techniques create balanced data by resample duplicates of minority class until it matches the frequency of the majority class).  \n",
    "<br>\n",
    "\n",
    "I train the model three times, once with the original balance of default to non-defaults, second with downsampling the training sample, and third with upsampling the training sampling.  I show that downsampling and upsampling the training samples improves predictions.  "
   ]
  },
  {
   "cell_type": "markdown",
   "metadata": {},
   "source": [
    "# Load Packages"
   ]
  },
  {
   "cell_type": "code",
   "execution_count": 1,
   "metadata": {},
   "outputs": [],
   "source": [
    "# Core Packages\n",
    "import pandas as pd\n",
    "import numpy as np\n",
    "import random\n",
    "# Convert Time Features\n",
    "from datetime import datetime as dt\n",
    "# Data Visualizations\n",
    "import matplotlib.pyplot as plt\n",
    "from jupyterthemes import jtplot\n",
    "jtplot.style(theme='chesterish', grid=False)\n",
    "# Splitting Data\n",
    "from sklearn.preprocessing import LabelEncoder\n",
    "from sklearn.model_selection import train_test_split\n",
    "# Machine Learning Packages\n",
    "from sklearn.neural_network import MLPClassifier\n",
    "from sklearn.pipeline import Pipeline\n",
    "from sklearn.preprocessing import StandardScaler\n",
    "# Save Runtime\n",
    "import time\n",
    "# Hyperparameter Tuning\n",
    "from sklearn.model_selection import GridSearchCV\n",
    "from sklearn.model_selection import StratifiedKFold\n",
    "# Output Statistics\n",
    "from sklearn.metrics import confusion_matrix\n",
    "from sklearn.metrics import accuracy_score\n",
    "from sklearn.metrics import precision_score\n",
    "from sklearn.metrics import f1_score"
   ]
  },
  {
   "cell_type": "markdown",
   "metadata": {},
   "source": [
    "# Set Up Functions  \n",
    "<br>\n",
    "\n",
    "In this post, I set up all data wrangling and data analysis as a series of functions, which will enable me to reuse on data from subsequent years (future projects) and various analysis techniques (this project)."
   ]
  },
  {
   "cell_type": "markdown",
   "metadata": {},
   "source": [
    "### Fannie Mae data comes in two forms:  \n",
    "### 1) acquistion data and 2) performance data  \n",
    "<br>\n",
    "1) The acquisition data includes one observation for each loan with each feature representing knowledge Fannie Mae has when acquiring the loan (e.g., balance, primary lender, credit score, etc.).  \n",
    "\n",
    "2) The performance data includes observations for each month each loan is held and information on the payment of the loan.  \n",
    "<br>\n",
    "I use the acquisition data as predictors for a dichotomous categorization of whether the homeowner defaulted on their loan, a target variable I create using the performance data and merging onto the acquisition data.  "
   ]
  },
  {
   "cell_type": "code",
   "execution_count": 2,
   "metadata": {},
   "outputs": [],
   "source": [
    "# Load the data\n",
    "def load_data(acq, per):\n",
    "    df_acq = pd.read_csv(acq, sep='|', header=None)\n",
    "    df_per = pd.read_csv(per, sep='|', header=None)\n",
    "    \n",
    "    # Specify the name of the columns\n",
    "    df_acq.columns = ['LoanID','Channel','SellerName','OrInterestRate','OrUnpaidPrinc','OrLoanTerm',\n",
    "            'OrDate','FirstPayment','OrLTV','OrCLTV','NumBorrow','DTIRat','CreditScore',\n",
    "            'FTHomeBuyer','LoanPurpose','PropertyType','NumUnits','OccStatus','PropertyState',\n",
    "            'Zip','MortInsPerc','ProductType','CoCreditScore','MortInsType','RelMortInd']\n",
    "    \n",
    "    df_per.columns = ['LoanID','MonthRep','Servicer','CurrInterestRate','CAUPB','LoanAge','MonthsToMaturity',\n",
    "              'AdMonthsToMaturity','MaturityDate','MSA','CLDS','ModFlag','ZeroBalCode','ZeroBalDate',\n",
    "              'LastInstallDate','ForeclosureDate','DispositionDate','FCCCost','PPRC','AssetRecCost','MHRC',\n",
    "              'ATFHP','NetSaleProceeds','CreditEnhProceeds','RPMWP','OFP','NIBUPB','PFUPB','RMWPF',\n",
    "              'FPWA','ServicingIndicator']\n",
    "    \n",
    "    return df_acq, df_per"
   ]
  },
  {
   "cell_type": "markdown",
   "metadata": {},
   "source": [
    "Performance data is much larger as it is transaction based, while the acquistion data has the loan owner as its unit of analysis.  \n",
    "<br>\n",
    "I retain only the most recent performance transaction relating to foreclosure, then drop all other variables except  Loan ID (the primary key) and merge performance data onto acquisition data.  \n",
    "<br>\n",
    "I recode performance data into dichotomous categorization of whether loan was foreclosed upon."
   ]
  },
  {
   "cell_type": "code",
   "execution_count": 3,
   "metadata": {},
   "outputs": [],
   "source": [
    "# Merge foreclosures from performance data to acquistion data\n",
    "def merge_df(df_acq, df_per):\n",
    "    \n",
    "    # Columns to maintain from Performance Data\n",
    "    per_ColKeep = ['LoanID','ForeclosureDate']\n",
    "    df_per = df_per[per_ColKeep]\n",
    "    df_per.drop_duplicates(subset='LoanID', keep='last', inplace=True)\n",
    "    df = pd.merge(df_acq, df_per, on='LoanID', how='inner')\n",
    "    \n",
    "    # Set Foreclosed to binary\n",
    "    df.loc[df['ForeclosureDate'].isnull(), 'Foreclosed'] = 0\n",
    "    df.loc[df['ForeclosureDate'].notnull(),'Foreclosed'] = 1\n",
    "    df = df.drop(columns='ForeclosureDate')\n",
    "    df['Foreclosed'] = df['Foreclosed'].astype(int)\n",
    "    \n",
    "    # Drop mergeID column\n",
    "    df = df.drop(df.columns[[0]], axis=1)\n",
    "    \n",
    "    return df"
   ]
  },
  {
   "cell_type": "markdown",
   "metadata": {},
   "source": [
    "I remove features with really high missingness or no data variation, and then impute on features with low missingness"
   ]
  },
  {
   "cell_type": "code",
   "execution_count": 4,
   "metadata": {},
   "outputs": [],
   "source": [
    "def missing_treat(df):\n",
    "    # Find features with 10% missing or more\n",
    "    condition = ( df.isnull().sum(axis=0)/df.shape[0]*100 ) \n",
    "    df_HighMissing = condition > 10 \n",
    "    \n",
    "    # Save features that contain missing data\n",
    "    df_HighMissing = df_HighMissing.index[df_HighMissing.values == True]\n",
    "    \n",
    "    # remove high missing features\n",
    "    df = df.drop(labels=df_HighMissing, axis=1)\n",
    "    \n",
    "    # remove ProductType, it only had one value    \n",
    "    df = df.drop(labels=['ProductType'], axis=1)\n",
    "    \n",
    "    # remove Zip and in favor of Property State\n",
    "    df = df.drop(labels=['Zip'], axis=1)\n",
    "    \n",
    "    # impute on the mean for low missing features that are continuous   \n",
    "    df_cont = df.select_dtypes(include=['float64', 'int64'])\n",
    "    df[df_cont.columns] = df_cont.apply(lambda x: x.fillna(x.mean()),axis=0)\n",
    "    \n",
    "    # impute on the mode for low missing features that are categorical   \n",
    "    df_cat = df.select_dtypes(include=['object'])\n",
    "    df[df_cat.columns] = df_cat.apply(lambda x: x.fillna(x.mode()),axis=0)  \n",
    "    \n",
    "    return df"
   ]
  },
  {
   "cell_type": "markdown",
   "metadata": {},
   "source": [
    "Changing date features to numeric"
   ]
  },
  {
   "cell_type": "code",
   "execution_count": 5,
   "metadata": {},
   "outputs": [],
   "source": [
    "# Changing date features to ordinal variables using the function toordinal()\n",
    "def change_date(df):\n",
    "    \n",
    "    # Origination Date\n",
    "    df['OrDate'] = df['OrDate'].apply(lambda x: dt.strptime(x, '%m/%Y').toordinal())\n",
    "    \n",
    "    # Date of First Payment\n",
    "    df['FirstPayment'] = df['FirstPayment'].apply(lambda x: dt.strptime(x, '%m/%Y').toordinal())\n",
    "    \n",
    "    return df"
   ]
  },
  {
   "cell_type": "markdown",
   "metadata": {},
   "source": [
    "One Hot Encoding"
   ]
  },
  {
   "cell_type": "code",
   "execution_count": 6,
   "metadata": {},
   "outputs": [],
   "source": [
    "# Converting categorical variables to dummy variables\n",
    "def onehotencoding(df):\n",
    "    columns = df.columns[df.isnull().any()]\n",
    "    nan_cols = df[columns]\n",
    "\n",
    "    df.drop(nan_cols.columns, axis=1, inplace=True)\n",
    "\n",
    "    df_cat = df.select_dtypes(include=['object'])\n",
    "    onehot = pd.get_dummies(df_cat)\n",
    "    \n",
    "    df_cont = df.drop(df_cat.columns, axis=1)\n",
    "\n",
    "    df = pd.concat([df_cont,onehot,nan_cols], axis=1).reset_index(drop=True)\n",
    "    return df"
   ]
  },
  {
   "cell_type": "markdown",
   "metadata": {},
   "source": [
    "Function to plot target variable"
   ]
  },
  {
   "cell_type": "code",
   "execution_count": 7,
   "metadata": {},
   "outputs": [],
   "source": [
    "# Check the percentage and frequency of target variable\n",
    "def target_values(df_depvar, data=False, prediction=False):\n",
    "        \n",
    "    # save target frequencies\n",
    "    target_frequency = df_depvar.value_counts()\n",
    "        \n",
    "    # save target percentage\n",
    "    target_percentage = round((df_depvar.value_counts()/df_depvar.count())*100).astype(int)\n",
    "        \n",
    "    # graphing target variable\n",
    "    jtplot.style(ticks=True, grid=False)\n",
    "    plt.figure(figsize=(14,4))\n",
    "    target_percentage.plot.barh(stacked=True, color='#ca2c92').invert_yaxis()\n",
    "    if data:\n",
    "        plt.suptitle('Bar Chart of Target Variable', fontsize=18)\n",
    "    elif prediction:\n",
    "        plt.suptitle('Bar Chart of Predictions', fontsize=18)\n",
    "    else:\n",
    "        plt.suptitle('Percent of Mortage Defaults', fontsize=18)\n",
    "    plt.ylabel('Foreclosed')\n",
    "    plt.xlabel('Percentage')\n",
    "    plt.xlim([0,100])\n",
    "    # plt.yticks([0, 1], ['Did not Foreclose', 'Foreclosed'])\n",
    "    plt.show()\n",
    "    \n",
    "    # display frequency of foreclosures\n",
    "    print('Frequency of Foreclosures\\n', target_frequency, '\\n', sep='')\n",
    "    \n",
    "    # display percentage of foreclosures\n",
    "    print('Percentage of Foreclosures\\n', target_percentage, '\\n', sep='')"
   ]
  },
  {
   "cell_type": "markdown",
   "metadata": {},
   "source": [
    "# Implement Data Cleanings"
   ]
  },
  {
   "cell_type": "code",
   "execution_count": 8,
   "metadata": {},
   "outputs": [],
   "source": [
    "# Load 2008 Q1 data\n",
    "df_acq, df_per = load_data(\"Acquisition_2008Q1.txt\", \"Performance_2008Q1.txt\")"
   ]
  },
  {
   "cell_type": "code",
   "execution_count": 9,
   "metadata": {},
   "outputs": [
    {
     "name": "stderr",
     "output_type": "stream",
     "text": [
      "c:\\python37\\lib\\site-packages\\ipykernel_launcher.py:7: SettingWithCopyWarning: \n",
      "A value is trying to be set on a copy of a slice from a DataFrame\n",
      "\n",
      "See the caveats in the documentation: http://pandas.pydata.org/pandas-docs/stable/user_guide/indexing.html#returning-a-view-versus-a-copy\n",
      "  import sys\n"
     ]
    },
    {
     "name": "stdout",
     "output_type": "stream",
     "text": [
      "\n",
      "The number of features is:\n",
      "99\n",
      "\n",
      "The number of observations is:\n",
      "380845\n"
     ]
    },
    {
     "data": {
      "image/png": "[encoded data removed]",
      "text/plain": [
       "<Figure size 1008x288 with 1 Axes>"
      ]
     },
     "metadata": {},
     "output_type": "display_data"
    },
    {
     "name": "stdout",
     "output_type": "stream",
     "text": [
      "Frequency of Foreclosures\n",
      "0    355194\n",
      "1     25651\n",
      "Name: Foreclosed, dtype: int64\n",
      "\n",
      "Percentage of Foreclosures\n",
      "0    93\n",
      "1     7\n",
      "Name: Foreclosed, dtype: int32\n",
      "\n"
     ]
    }
   ],
   "source": [
    "# Data Cleanings\n",
    "df = merge_df(df_acq, df_per)\n",
    "df = missing_treat(df)\n",
    "df = change_date(df)\n",
    "df = onehotencoding(df)\n",
    "\n",
    "print('\\nThe number of features is:\\n', df.shape[1], sep='')\n",
    "print('\\nThe number of observations is:\\n', df.shape[0], sep='')\n",
    "target_values(df['Foreclosed'], data=True)"
   ]
  },
  {
   "cell_type": "markdown",
   "metadata": {},
   "source": [
    "#### Target variable has a small numerator (only 7% of foreclosures).  According to King & Zeng (1999) smaller numerators create higher bias in estimation and a higher likelihood of underestimation.  This is because the models have many cases to learn what does not lead to a foreclosure, but few cases to learn of what can lead to a foreclosure.\n",
    "> King, G., and Zeng, L.  (1999).  Logistic regression in rare events data. Department of Government, Harvard University.  Online: http://GKing.Harvard.Edu."
   ]
  },
  {
   "cell_type": "markdown",
   "metadata": {},
   "source": [
    "# Analysis Functions"
   ]
  },
  {
   "cell_type": "markdown",
   "metadata": {},
   "source": [
    "Splitting data with options to downsample (i.e., create balanced data by removing majority class until it matches the frequency minority class) or upsample (i.e., resample duplicates of minority class until it matches the frequency of the majority class).  Downsampling and upsampling is performed only on the training data in order to maintain the original integrity of the test data.  The data was stratified on the target variable, ensuring that the test data maintains the 7% default rate."
   ]
  },
  {
   "cell_type": "code",
   "execution_count": 10,
   "metadata": {},
   "outputs": [],
   "source": [
    "# Modeling training and testing data\n",
    "def split_data(df, depvar, downsamp=False, upsamp=False):\n",
    "\n",
    "    # Get the feature vector\n",
    "    X = df.drop(labels=depvar, axis=1)\n",
    "    \n",
    "    # Get the target vector\n",
    "    y = df[depvar]\n",
    "    \n",
    "    # Encoding target variable\n",
    "    le = LabelEncoder()\n",
    "    y = le.fit_transform(y)\n",
    "    \n",
    "    # Splitting training and testing datasets 30/70\n",
    "    X_train, X_test, y_train, y_test = train_test_split(X, y, test_size=0.25, random_state=0, stratify=y)\n",
    "\n",
    "    # Define classes for downsampling/upsampling\n",
    "    ## Indicies of each class' observations\n",
    "    index0 = np.where(y_train == 0)[0]\n",
    "    index1 = np.where(y_train == 1)[0]\n",
    "    \n",
    "    ## Number of observations in each class\n",
    "    class0 = len(index0)\n",
    "    class1 = len(index1)\n",
    "        \n",
    "    # Down sample\n",
    "    if downsamp:  \n",
    "        \n",
    "        # For every observation of class 0, randomly sample from class 1 without replacement\n",
    "        downsampled_index = np.random.choice(index0, size=class1, replace=False)\n",
    "    \n",
    "        # Join together class 0's target vector with the downsampled class 1's target vector\n",
    "        y_train = np.concatenate((y_train[downsampled_index], y_train[index1]))   \n",
    "        \n",
    "        X_train = pd.concat([X_train.iloc[downsampled_index], X_train.iloc[index1]], axis=0) \n",
    "        \n",
    "    # Up sample\n",
    "    if upsamp:  \n",
    "        \n",
    "        # For every observation in class 1, randomly sample from class 0 with replacement\n",
    "        upsampled_index = np.random.choice(index1, size=class0, replace=True)\n",
    "        \n",
    "        # Join together class 0's upsampled target vector with class 1's target vector\n",
    "        y_train = np.concatenate((y_train[index0], y_train[upsampled_index])) \n",
    "        \n",
    "        X_train = pd.concat([X_train.iloc[index0], X_train.iloc[upsampled_index]], axis=0)   \n",
    "\n",
    "    print('\\nNumber of observations for training data:', y_train.shape[0], \\\n",
    "          '\\nNumber of observations for testing data:',  y_test.shape[0])\n",
    "    \n",
    "    return X_train, X_test, y_train, y_test"
   ]
  },
  {
   "cell_type": "markdown",
   "metadata": {},
   "source": [
    "Pipeline Function:  \n",
    "\n",
    "One classifer was attempted, a multilayer perceptron.  The neural network contains three hidden layers with 100 neurons in each.  I tune only the batch size (64 or 128) and the initial learning rate (1e-3, 5e-4, or 1e-4).  Given the computation time involved in computing this on a laptop with only an Intel Core i7-8550U processor, I keep the neural network simple with little tuning.  Complete analysis should attempt a more complex algorithm given the size and difficulties associated with this data."
   ]
  },
  {
   "cell_type": "code",
   "execution_count": 11,
   "metadata": {},
   "outputs": [],
   "source": [
    "def pipeline():\n",
    "\n",
    "    # Creating dictionary of neural network classifer\n",
    "    clfs = {'mlp': MLPClassifier(random_state=0, learning_rate='adaptive', max_iter=1000, \n",
    "                                 hidden_layer_sizes = (100,100,100), alpha=0.01)}\n",
    "    \n",
    "    # Initiating dictionary for pipeline\n",
    "    pipe_clfs = {}\n",
    "    \n",
    "    # Pipeline will standardize data and run classifiers\n",
    "    for name, clf in clfs.items():\n",
    "        pipe_clfs[name] = Pipeline([('StandardScaler', StandardScaler()), ('clf', clf)])\n",
    "        \n",
    "    # Initiate grid\n",
    "    param_grids = {}\n",
    "    \n",
    "    # The parameter grid for multi-layer perceptron\n",
    "    param_grid = [{'clf__batch_size': [64, 128],\n",
    "                   'clf__learning_rate_init': [0.0001, 0.00005, 0.00001]}]\n",
    "    \n",
    "    param_grids['mlp'] = param_grid\n",
    "    \n",
    "    return pipe_clfs, param_grids"
   ]
  },
  {
   "cell_type": "markdown",
   "metadata": {},
   "source": [
    "Run Model Function:  \n",
    "\n",
    "The model was tuned based on F1 scores from a three-fold cross validation."
   ]
  },
  {
   "cell_type": "code",
   "execution_count": 12,
   "metadata": {},
   "outputs": [],
   "source": [
    "def run_models(pipe_clfs, param_grids):\n",
    "\n",
    "    # The start time\n",
    "    start = time.time()\n",
    "    \n",
    "    # The list of [best_score_, best_params_, best_estimator_]\n",
    "    best_score_param_estimators = []\n",
    "    \n",
    "    # GridSearchCV\n",
    "    gs = GridSearchCV(estimator=pipe_clfs['mlp'],\n",
    "                      param_grid=param_grids['mlp'],\n",
    "                      scoring='f1',\n",
    "                      n_jobs=-1,\n",
    "                      cv=StratifiedKFold(n_splits=3,\n",
    "                                         shuffle=True,\n",
    "                                         random_state=0))\n",
    "    # Fit the pipeline\n",
    "    gs = gs.fit(X_train, y_train)\n",
    "    \n",
    "    # Update best_score_param_estimators\n",
    "    best_score_param_estimators.append([gs.best_score_, gs.best_params_, gs.best_estimator_])\n",
    "    \n",
    "    # Save best model\n",
    "    best_model = gs.best_estimator_\n",
    "        \n",
    "    # The end time\n",
    "    end = time.time()\n",
    "    \n",
    "    # Print the Run time\n",
    "    print('Run time: ' + str(end - start))\n",
    "    \n",
    "    return best_model"
   ]
  },
  {
   "cell_type": "markdown",
   "metadata": {},
   "source": [
    "# Imbalanced Prediction"
   ]
  },
  {
   "cell_type": "markdown",
   "metadata": {},
   "source": [
    "In the first runs, I ran the neural network on the raw data to set baseline results."
   ]
  },
  {
   "cell_type": "code",
   "execution_count": 13,
   "metadata": {},
   "outputs": [
    {
     "name": "stdout",
     "output_type": "stream",
     "text": [
      "\n",
      "Number of observations for training data: 285633 \n",
      "Number of observations for testing data: 95212\n"
     ]
    },
    {
     "data": {
      "image/png": "[encoded data removed]",
      "text/plain": [
       "<Figure size 1008x288 with 1 Axes>"
      ]
     },
     "metadata": {},
     "output_type": "display_data"
    },
    {
     "name": "stdout",
     "output_type": "stream",
     "text": [
      "Frequency of Foreclosures\n",
      "0    266395\n",
      "1     19238\n",
      "dtype: int64\n",
      "\n",
      "Percentage of Foreclosures\n",
      "0    93\n",
      "1     7\n",
      "dtype: int32\n",
      "\n",
      "Run time: 21517.34213423729\n"
     ]
    }
   ],
   "source": [
    "X_train, X_test, y_train, y_test= split_data(df, 'Foreclosed')\n",
    "target_values(pd.Series(y_train), data=True)\n",
    "pipe_clfs, param_grids = pipeline()\n",
    "best_model = run_models(pipe_clfs, param_grids)"
   ]
  },
  {
   "cell_type": "code",
   "execution_count": 14,
   "metadata": {},
   "outputs": [
    {
     "data": {
      "text/plain": [
       "Pipeline(memory=None,\n",
       "         steps=[('StandardScaler',\n",
       "                 StandardScaler(copy=True, with_mean=True, with_std=True)),\n",
       "                ('clf',\n",
       "                 MLPClassifier(activation='relu', alpha=0.01, batch_size=64,\n",
       "                               beta_1=0.9, beta_2=0.999, early_stopping=False,\n",
       "                               epsilon=1e-08,\n",
       "                               hidden_layer_sizes=(100, 100, 100),\n",
       "                               learning_rate='adaptive',\n",
       "                               learning_rate_init=0.0001, max_iter=1000,\n",
       "                               momentum=0.9, n_iter_no_change=10,\n",
       "                               nesterovs_momentum=True, power_t=0.5,\n",
       "                               random_state=0, shuffle=True, solver='adam',\n",
       "                               tol=0.0001, validation_fraction=0.1,\n",
       "                               verbose=False, warm_start=False))],\n",
       "         verbose=False)"
      ]
     },
     "execution_count": 14,
     "metadata": {},
     "output_type": "execute_result"
    }
   ],
   "source": [
    "# Best multi-layer perceptron\n",
    "best_model.fit(X_train, y_train)"
   ]
  },
  {
   "cell_type": "code",
   "execution_count": 15,
   "metadata": {},
   "outputs": [
    {
     "data": {
      "image/png": "[encoded data removed]",
      "text/plain": [
       "<Figure size 1008x288 with 1 Axes>"
      ]
     },
     "metadata": {},
     "output_type": "display_data"
    },
    {
     "name": "stdout",
     "output_type": "stream",
     "text": [
      "Frequency of Foreclosures\n",
      "0    92842\n",
      "1     2370\n",
      "dtype: int64\n",
      "\n",
      "Percentage of Foreclosures\n",
      "0    98\n",
      "1     2\n",
      "dtype: int32\n",
      "\n",
      "Accuracy: 0.92\n",
      "Precision: 0.3\n",
      "F1: 0.16\n",
      "\n",
      "Confusion matrix:\n",
      "              Predicted False  Predicted True\n",
      "Actual False            87140            1659\n",
      "Actual True              5702             711\n",
      "\n",
      "Final Precision Percentages:\n",
      "              Predicted False  Predicted True\n",
      "Actual False             93.9            70.0\n",
      "Actual True               6.1            30.0\n",
      "\n",
      "Final Recall Percentages:\n",
      "              Predicted False  Predicted True\n",
      "Actual False             98.1             1.9\n",
      "Actual True              88.9            11.1\n"
     ]
    }
   ],
   "source": [
    "# Table of predictions versus actuals\n",
    "y_pred = best_model.predict(X_test)\n",
    "target_values(pd.Series(y_pred), prediction=True)\n",
    "\n",
    "# Overall Scores\n",
    "print('Accuracy:', end=' ')\n",
    "print(accuracy_score(y_test, y_pred).round(2))\n",
    "print('Precision:', end=' ')\n",
    "print(precision_score(y_test, y_pred).round(2))\n",
    "print('F1:', end=' ')\n",
    "print(f1_score(y_test, y_pred).round(2))\n",
    "\n",
    "# Confusion Matrix\n",
    "print(\"\\nConfusion matrix:\")\n",
    "PredictTable = pd.crosstab(y_test, y_pred)\n",
    "PredictTable.columns = ['Predicted False', 'Predicted True']\n",
    "PredictTable.index = ['Actual False', 'Actual True']\n",
    "print(PredictTable)\n",
    "# Precision Table\n",
    "print('\\nFinal Precision Percentages:')\n",
    "PrecisionTable = ( (PredictTable/(PredictTable.sum(0)))*100 ).round(1)\n",
    "print(PrecisionTable)\n",
    "# Recall Table\n",
    "print('\\nFinal Recall Percentages:')\n",
    "RecallTable = ( (PredictTable.div(PredictTable.sum(axis=1), axis=0))*100 ).round(1)\n",
    "print(RecallTable)"
   ]
  },
  {
   "cell_type": "markdown",
   "metadata": {},
   "source": [
    "#### Findings:  \n",
    "<br>\n",
    "\n",
    "On the test data, the final F1 score was a pitful 0.16.  As expected, the accuracy was high at 0.92.  This is because the model mostly learned what does not lead to a default as opposed to what led to a default.  It therefore predicted 98% of cases to be a non-default with 93.9% of those being correct.  \n",
    "\n",
    "The false negative rate is poor:  of the actual defaults, 88.9% were falsely predicted as non-defaults."
   ]
  },
  {
   "cell_type": "markdown",
   "metadata": {},
   "source": [
    "# Downsampling Prediction"
   ]
  },
  {
   "cell_type": "markdown",
   "metadata": {},
   "source": [
    "In the second model runs, I downsampled the data, randomly removing the non-default data to match the frequency of the default data in the training sample.  This caused the training data to fall from 285,633 observations to 38,476.  \n",
    "\n",
    "Because I artifically balanced the data, I increased the threshold defining a default to a predicted probability of 0.75.  Downsampling causes the model to better find variation that could cause a mortgage default.  However, as the model is trained on data that no longer represents the true balance of mortgage defaults, it overpredicts defaults, requiring a stricter threshold defining a default."
   ]
  },
  {
   "cell_type": "code",
   "execution_count": 16,
   "metadata": {},
   "outputs": [
    {
     "name": "stdout",
     "output_type": "stream",
     "text": [
      "\n",
      "Number of observations for training data: 38476 \n",
      "Number of observations for testing data: 95212\n"
     ]
    },
    {
     "data": {
      "image/png": "[encoded data removed]",
      "text/plain": [
       "<Figure size 1008x288 with 1 Axes>"
      ]
     },
     "metadata": {},
     "output_type": "display_data"
    },
    {
     "name": "stdout",
     "output_type": "stream",
     "text": [
      "Frequency of Foreclosures\n",
      "1    19238\n",
      "0    19238\n",
      "dtype: int64\n",
      "\n",
      "Percentage of Foreclosures\n",
      "1    50\n",
      "0    50\n",
      "dtype: int32\n",
      "\n",
      "Run time: 6659.295145511627\n"
     ]
    },
    {
     "name": "stderr",
     "output_type": "stream",
     "text": [
      "c:\\python37\\lib\\site-packages\\sklearn\\neural_network\\multilayer_perceptron.py:566: ConvergenceWarning: Stochastic Optimizer: Maximum iterations (1000) reached and the optimization hasn't converged yet.\n",
      "  % self.max_iter, ConvergenceWarning)\n"
     ]
    }
   ],
   "source": [
    "X_train, X_test, y_train, y_test= split_data(df, 'Foreclosed', downsamp=True)\n",
    "target_values(pd.Series(y_train), data=True)\n",
    "pipe_clfs, param_grids = pipeline()\n",
    "best_model = run_models(pipe_clfs, param_grids)"
   ]
  },
  {
   "cell_type": "code",
   "execution_count": 17,
   "metadata": {},
   "outputs": [
    {
     "name": "stderr",
     "output_type": "stream",
     "text": [
      "c:\\python37\\lib\\site-packages\\sklearn\\neural_network\\multilayer_perceptron.py:566: ConvergenceWarning: Stochastic Optimizer: Maximum iterations (1000) reached and the optimization hasn't converged yet.\n",
      "  % self.max_iter, ConvergenceWarning)\n"
     ]
    },
    {
     "data": {
      "text/plain": [
       "Pipeline(memory=None,\n",
       "         steps=[('StandardScaler',\n",
       "                 StandardScaler(copy=True, with_mean=True, with_std=True)),\n",
       "                ('clf',\n",
       "                 MLPClassifier(activation='relu', alpha=0.01, batch_size=128,\n",
       "                               beta_1=0.9, beta_2=0.999, early_stopping=False,\n",
       "                               epsilon=1e-08,\n",
       "                               hidden_layer_sizes=(100, 100, 100),\n",
       "                               learning_rate='adaptive',\n",
       "                               learning_rate_init=1e-05, max_iter=1000,\n",
       "                               momentum=0.9, n_iter_no_change=10,\n",
       "                               nesterovs_momentum=True, power_t=0.5,\n",
       "                               random_state=0, shuffle=True, solver='adam',\n",
       "                               tol=0.0001, validation_fraction=0.1,\n",
       "                               verbose=False, warm_start=False))],\n",
       "         verbose=False)"
      ]
     },
     "execution_count": 17,
     "metadata": {},
     "output_type": "execute_result"
    }
   ],
   "source": [
    "# Best multi-layer perceptron\n",
    "best_model.fit(X_train, y_train)"
   ]
  },
  {
   "cell_type": "code",
   "execution_count": 18,
   "metadata": {},
   "outputs": [
    {
     "data": {
      "image/png": "[encoded data removed]",
      "text/plain": [
       "<Figure size 1008x288 with 1 Axes>"
      ]
     },
     "metadata": {},
     "output_type": "display_data"
    },
    {
     "name": "stdout",
     "output_type": "stream",
     "text": [
      "Frequency of Foreclosures\n",
      "0    77547\n",
      "1    17665\n",
      "Name: Default, dtype: int64\n",
      "\n",
      "Percentage of Foreclosures\n",
      "0    81\n",
      "1    19\n",
      "Name: Default, dtype: int32\n",
      "\n",
      "Accuracy: 0.82\n",
      "Precision: 0.19\n",
      "F1: 0.29\n",
      "\n",
      "Confusion matrix:\n",
      "              Predicted False  Predicted True\n",
      "Actual False            74578           14221\n",
      "Actual True              2969            3444\n",
      "\n",
      "Final Precision Percentages:\n",
      "              Predicted False  Predicted True\n",
      "Actual False             96.2            80.5\n",
      "Actual True               3.8            19.5\n",
      "\n",
      "Final Recall Percentages:\n",
      "              Predicted False  Predicted True\n",
      "Actual False             84.0            16.0\n",
      "Actual True              46.3            53.7\n"
     ]
    }
   ],
   "source": [
    "# Table of predictions versus actuals\n",
    "y_proba = pd.DataFrame(best_model.predict_proba(X_test), columns=[\"Did not Default\", \"Default\"])\n",
    "y_pred = y_proba[\"Default\"].map(lambda x: 1 if x >= 0.75 else 0)\n",
    "target_values(pd.Series(y_pred), prediction=True)\n",
    "\n",
    "# Overall Scores\n",
    "print('Accuracy:', end=' ')\n",
    "print(accuracy_score(y_test, y_pred).round(2))\n",
    "print('Precision:', end=' ')\n",
    "print(precision_score(y_test, y_pred).round(2))\n",
    "print('F1:', end=' ')\n",
    "print(f1_score(y_test, y_pred).round(2))\n",
    "\n",
    "# Confusion Matrix\n",
    "print(\"\\nConfusion matrix:\")\n",
    "PredictTable = pd.crosstab(y_test, y_pred)\n",
    "PredictTable.columns = ['Predicted False', 'Predicted True']\n",
    "PredictTable.index = ['Actual False', 'Actual True']\n",
    "print(PredictTable)\n",
    "# Precision Table\n",
    "print('\\nFinal Precision Percentages:')\n",
    "PrecisionTable = ( (PredictTable/(PredictTable.sum(0)))*100 ).round(1)\n",
    "print(PrecisionTable)\n",
    "# Recall Table\n",
    "print('\\nFinal Recall Percentages:')\n",
    "RecallTable = ( (PredictTable.div(PredictTable.sum(axis=1), axis=0))*100 ).round(1)\n",
    "print(RecallTable)"
   ]
  },
  {
   "cell_type": "markdown",
   "metadata": {},
   "source": [
    "#### Findings:  \n",
    "<br>\n",
    "\n",
    "On the test data, the final test score almost doubled from the baseline's 0.16 to 0.29. When the model predicted a non-default, only 3.8% was it wrong.  The false negative rate improved from the baseline's 88.9% to 46.3%.  \n",
    "\n",
    "However, the model greatly overpredicted defaults, predicting 19% defaults when the true value was 7%. This caused the model's precision to fall from the baseline's 30% to 19.5%. "
   ]
  },
  {
   "cell_type": "markdown",
   "metadata": {},
   "source": [
    "# Upsampling Prediction"
   ]
  },
  {
   "cell_type": "markdown",
   "metadata": {},
   "source": [
    "In the final model runs, I upsampled the data, randomly removing the non-default data to match the frequency of the default data in the training sample.  This caused the training data to increase from 285,633 observations to 532,790.  \n",
    "\n",
    "Because I artifically balanced the data, I increased the threshold defining a default to a predicted probability of 0.75.  Similar to downsampling, upsampling causes the model to better find variation that could cause a mortgage default.  However, as the model is trained on data that no longer represents the true balance of mortgage defaults, it overpredicts defaults, requiring a stricter threshold defining a default."
   ]
  },
  {
   "cell_type": "code",
   "execution_count": 19,
   "metadata": {},
   "outputs": [
    {
     "name": "stdout",
     "output_type": "stream",
     "text": [
      "\n",
      "Number of observations for training data: 532790 \n",
      "Number of observations for testing data: 95212\n"
     ]
    },
    {
     "data": {
      "image/png": "[encoded data removed]",
      "text/plain": [
       "<Figure size 1008x288 with 1 Axes>"
      ]
     },
     "metadata": {},
     "output_type": "display_data"
    },
    {
     "name": "stdout",
     "output_type": "stream",
     "text": [
      "Frequency of Foreclosures\n",
      "1    266395\n",
      "0    266395\n",
      "dtype: int64\n",
      "\n",
      "Percentage of Foreclosures\n",
      "1    50\n",
      "0    50\n",
      "dtype: int32\n",
      "\n",
      "Run time: 59529.14437627792\n"
     ]
    }
   ],
   "source": [
    "X_train, X_test, y_train, y_test= split_data(df, 'Foreclosed', upsamp=True)\n",
    "target_values(pd.Series(y_train), data=True)\n",
    "pipe_clfs, param_grids = pipeline()\n",
    "best_model = run_models(pipe_clfs, param_grids)"
   ]
  },
  {
   "cell_type": "code",
   "execution_count": 20,
   "metadata": {},
   "outputs": [
    {
     "data": {
      "text/plain": [
       "Pipeline(memory=None,\n",
       "         steps=[('StandardScaler',\n",
       "                 StandardScaler(copy=True, with_mean=True, with_std=True)),\n",
       "                ('clf',\n",
       "                 MLPClassifier(activation='relu', alpha=0.01, batch_size=128,\n",
       "                               beta_1=0.9, beta_2=0.999, early_stopping=False,\n",
       "                               epsilon=1e-08,\n",
       "                               hidden_layer_sizes=(100, 100, 100),\n",
       "                               learning_rate='adaptive',\n",
       "                               learning_rate_init=0.0001, max_iter=1000,\n",
       "                               momentum=0.9, n_iter_no_change=10,\n",
       "                               nesterovs_momentum=True, power_t=0.5,\n",
       "                               random_state=0, shuffle=True, solver='adam',\n",
       "                               tol=0.0001, validation_fraction=0.1,\n",
       "                               verbose=False, warm_start=False))],\n",
       "         verbose=False)"
      ]
     },
     "execution_count": 20,
     "metadata": {},
     "output_type": "execute_result"
    }
   ],
   "source": [
    "# Best multi-layer perceptron\n",
    "best_model.fit(X_train, y_train)"
   ]
  },
  {
   "cell_type": "code",
   "execution_count": 21,
   "metadata": {},
   "outputs": [
    {
     "data": {
      "image/png": "[encoded data removed]",
      "text/plain": [
       "<Figure size 1008x288 with 1 Axes>"
      ]
     },
     "metadata": {},
     "output_type": "display_data"
    },
    {
     "name": "stdout",
     "output_type": "stream",
     "text": [
      "Frequency of Foreclosures\n",
      "0    87110\n",
      "1     8102\n",
      "Name: Default, dtype: int64\n",
      "\n",
      "Percentage of Foreclosures\n",
      "0    91\n",
      "1     9\n",
      "Name: Default, dtype: int32\n",
      "\n",
      "Accuracy: 0.88\n",
      "Precision: 0.21\n",
      "F1: 0.24\n",
      "\n",
      "Confusion matrix:\n",
      "              Predicted False  Predicted True\n",
      "Actual False            82418            6381\n",
      "Actual True              4692            1721\n",
      "\n",
      "Final Precision Percentages:\n",
      "              Predicted False  Predicted True\n",
      "Actual False             94.6            78.8\n",
      "Actual True               5.4            21.2\n",
      "\n",
      "Final Recall Percentages:\n",
      "              Predicted False  Predicted True\n",
      "Actual False             92.8             7.2\n",
      "Actual True              73.2            26.8\n"
     ]
    }
   ],
   "source": [
    "# Table of predictions versus actuals\n",
    "y_proba = pd.DataFrame(best_model.predict_proba(X_test), columns=[\"Did not Default\", \"Default\"])\n",
    "y_pred = y_proba[\"Default\"].map(lambda x: 1 if x >= 0.75 else 0)\n",
    "target_values(pd.Series(y_pred), prediction=True)\n",
    "\n",
    "# Overall Scores\n",
    "print('Accuracy:', end=' ')\n",
    "print(accuracy_score(y_test, y_pred).round(2))\n",
    "print('Precision:', end=' ')\n",
    "print(precision_score(y_test, y_pred).round(2))\n",
    "print('F1:', end=' ')\n",
    "print(f1_score(y_test, y_pred).round(2))\n",
    "\n",
    "# Confusion Matrix\n",
    "print(\"\\nConfusion matrix:\")\n",
    "PredictTable = pd.crosstab(y_test, y_pred)\n",
    "PredictTable.columns = ['Predicted False', 'Predicted True']\n",
    "PredictTable.index = ['Actual False', 'Actual True']\n",
    "print(PredictTable)\n",
    "# Precision Table\n",
    "print('\\nFinal Precision Percentages:')\n",
    "PrecisionTable = ( (PredictTable/(PredictTable.sum(0)))*100 ).round(1)\n",
    "print(PrecisionTable)\n",
    "# Recall Table\n",
    "print('\\nFinal Recall Percentages:')\n",
    "RecallTable = ( (PredictTable.div(PredictTable.sum(axis=1), axis=0))*100 ).round(1)\n",
    "print(RecallTable)"
   ]
  },
  {
   "cell_type": "markdown",
   "metadata": {},
   "source": [
    "#### Findings:  \n",
    "<br>\n",
    "\n",
    "On the test data, the final test score improved from the baseline's 0.16 to 0.24. The model predicted a reasonable number of defaults, predicting 9% when the true value was 7%.  It produced a higher precision score compared to the downsampling run (21.2% compared to 19.5%).  \n",
    "\n",
    "However, its false negative rate is higher than the downsampling run at 73.2% (it was 46.3% in the downsampling run and 88.9% in the baseline run).  In other words, this model has the best precision but lower recall then the downsampling run.  "
   ]
  },
  {
   "cell_type": "markdown",
   "metadata": {},
   "source": [
    "# Conclusion"
   ]
  },
  {
   "cell_type": "markdown",
   "metadata": {},
   "source": [
    "The downsampling and upsampling runs fared much better than the baseline results.  The downsampling run produced the best harmonized balance between precision and recall, leading to the most confident results.  Perhaps most importantly, it had the lowest false negative rate.  Of defaults in the test data:\n",
    "- The downsampling run correctly predicted 53.7%\n",
    "- The upsampling run correctly predicted 26.8%\n",
    "- The imbalanced run (baseline) correctly predicted 11.1%  \n",
    "\n",
    "<br>\n",
    "\n",
    "The upsampling run also performed much better than the baseline results.  Due to the large size of its training dataset (532,790) may have caused the model to underperform due to limitations in the hardware used for analysis.  A more complex neural network run on a more powerful PC or, ideally, on a server with GPU resources may have enabled the upsampling run to outperform the downsampling run.  \n",
    "<br>\n",
    "\n",
    "Overall, the runs were not sufficient to produce a meaningful model.  The best run only classified slightly over half of defaults correctly.  This blog post only examined training sampling.  Better computation power could enhance this analysis given the data's complexity (99 features and 380,845 observations).  There were model convergence on some epochs, particularly with the upsampling run, which could be resolved by increasing computation power and increasing the number of iterations.  Besides better computation power, feature selection/feature engineering techniques should be deployed.  In particular, an advanced technique known as feature embedding would likely improve results in very substanive ways."
   ]
  }
 ],
 "metadata": {
  "kernelspec": {
   "display_name": "Python 3",
   "language": "python",
   "name": "python3"
  },
  "language_info": {
   "codemirror_mode": {
    "name": "ipython",
    "version": 3
   },
   "file_extension": ".py",
   "mimetype": "text/x-python",
   "name": "python",
   "nbconvert_exporter": "python",
   "pygments_lexer": "ipython3",
   "version": "3.7.4"
  }
 },
 "nbformat": 4,
 "nbformat_minor": 2
}
